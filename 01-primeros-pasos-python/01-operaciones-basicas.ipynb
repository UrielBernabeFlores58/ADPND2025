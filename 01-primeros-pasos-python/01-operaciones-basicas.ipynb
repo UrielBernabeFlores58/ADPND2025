{
 "cells": [
  {
   "cell_type": "code",
   "execution_count": null,
   "id": "7b22daa9",
   "metadata": {},
   "outputs": [
    {
     "ename": "",
     "evalue": "",
     "output_type": "error",
     "traceback": [
      "\u001b[1;31mRunning cells with 'base (Python 3.12.8)' requires the ipykernel package.\n",
      "\u001b[1;31m<a href='command:jupyter.createPythonEnvAndSelectController'>Create a Python Environment</a> with the required packages.\n",
      "\u001b[1;31mOr install 'ipykernel' using the command: 'conda install -n base ipykernel --update-deps --force-reinstall'"
     ]
    }
   ],
   "source": [
    "# Declaracion de variables y tipos\n",
    "a = 1 # Varible de tipo int\n",
    "b = 2.3 # Variable de tipo flotante\n",
    "c = true # Variable de tipo boolean\n",
    "d = false # Variable tipo boolean\n",
    "e='Hola Mundo' # Variable de tipo de cadena\n",
    "f = 'Hola Negocios Digitales' # Variable de tipo Cadena"
   ]
  },
  {
   "cell_type": "markdown",
   "id": "45001ad2",
   "metadata": {},
   "source": [
    "# Operaciones Basicas en Python"
   ]
  },
  {
   "cell_type": "markdown",
   "id": "34e4cb07",
   "metadata": {},
   "source": [
    "## Declaracion de Variables y asignacion de datos\n",
    "\n",
    "**Se describen los tipos de datos existentes en python y la forma de imprimirlos**"
   ]
  }
 ],
 "metadata": {
  "kernelspec": {
   "display_name": "base",
   "language": "python",
   "name": "python3"
  },
  "language_info": {
   "name": "python",
   "version": "3.12.8"
  }
 },
 "nbformat": 4,
 "nbformat_minor": 5
}
