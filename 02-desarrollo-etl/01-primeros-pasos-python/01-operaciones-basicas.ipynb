{
 "cells": [
  {
   "cell_type": "markdown",
   "id": "a96e8190",
   "metadata": {},
   "source": [
    "# Operaciones Basicas en Python "
   ]
  },
  {
   "cell_type": "markdown",
   "id": "03f55173",
   "metadata": {},
   "source": [
    "## Declaracion de Variables y asignacion de datos"
   ]
  },
  {
   "cell_type": "markdown",
   "id": "e8803555",
   "metadata": {},
   "source": []
  },
  {
   "cell_type": "code",
   "execution_count": null,
   "id": "94110b8d",
   "metadata": {},
   "outputs": [],
   "source": [
    "# Declaracion de variable y tipos\n",
    "\n",
    "a = 1 # Variables de Tipo INT\n",
    "b = 2.3 # variables de Tipo Float\n",
    "c = True # Variables de tipo Boolean\n",
    "d = False # Variables de tipo Boolean\n",
    "e = \"Hola Mundo\"\n",
    "f = 'Hola bienvenido a Si' # Variable con cadena de caracteres"
   ]
  }
 ],
 "metadata": {
  "kernelspec": {
   "display_name": "Python 3",
   "language": "python",
   "name": "python3"
  },
  "language_info": {
   "name": "python",
   "version": "3.13.3"
  }
 },
 "nbformat": 4,
 "nbformat_minor": 5
}
