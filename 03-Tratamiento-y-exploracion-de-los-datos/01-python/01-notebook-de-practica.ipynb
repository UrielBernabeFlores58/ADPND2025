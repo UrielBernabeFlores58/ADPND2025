{
 "cells": [
  {
   "cell_type": "markdown",
   "id": "995b4940",
   "metadata": {},
   "source": [
    "# Ejemplo 1: Esto es un markdown es notebook de practica\n",
    "\n",
    "---\n",
    "\n",
    "### 1. Objetivos:\n",
    "    - Repasar rapidamente como funviona un Jupyter Notebook\n",
    "\n",
    "### 2. Requisitos:\n",
    "    - Jupyter Notebook Instalado\n",
    "    \n",
    "\n"
   ]
  },
  {
   "cell_type": "markdown",
   "id": "f4ea3118",
   "metadata": {},
   "source": []
  },
  {
   "cell_type": "markdown",
   "id": "8cdeab9c",
   "metadata": {},
   "source": [
    "En JN tenemos `modo comando` y  modo `edicion`.\n",
    "\n",
    "     -El `Modo Edicion` sierve para editar celdas\n",
    "     -El `Modo Comando` sirve para usar comandos en el JN"
   ]
  },
  {
   "cell_type": "markdown",
   "id": "f655cb7c",
   "metadata": {},
   "source": [
    "Esto es una Celda `Markdown`"
   ]
  },
  {
   "cell_type": "code",
   "execution_count": 4,
   "id": "8683d8b2",
   "metadata": {},
   "outputs": [
    {
     "name": "stdout",
     "output_type": "stream",
     "text": [
      "Hola MUndo\n"
     ]
    }
   ],
   "source": [
    "# Esto es una celda de codigo\n",
    "# y yo soy un comentario...\n",
    "print ('Hola MUndo')"
   ]
  },
  {
   "cell_type": "markdown",
   "id": "a1a86d52",
   "metadata": {},
   "source": [
    "Escribamos algo de codigo para recordar:"
   ]
  },
  {
   "cell_type": "code",
   "execution_count": 11,
   "id": "523893dd",
   "metadata": {},
   "outputs": [
    {
     "name": "stdout",
     "output_type": "stream",
     "text": [
      "4,5\n"
     ]
    }
   ],
   "source": [
    "var_1 = 4\n",
    "var_2= 5\n",
    "\n",
    "print (str(var_1)+ ','+str(var_2))"
   ]
  },
  {
   "cell_type": "code",
   "execution_count": 13,
   "id": "563f1e23",
   "metadata": {},
   "outputs": [
    {
     "name": "stdout",
     "output_type": "stream",
     "text": [
      "9\n"
     ]
    }
   ],
   "source": [
    "print (var_1 + var_2)"
   ]
  },
  {
   "cell_type": "code",
   "execution_count": 15,
   "id": "3a47c3a4",
   "metadata": {},
   "outputs": [
    {
     "data": {
      "text/plain": [
       "15"
      ]
     },
     "execution_count": 15,
     "metadata": {},
     "output_type": "execute_result"
    }
   ],
   "source": [
    "var_1 = 10\n",
    "var_1 + var_2"
   ]
  },
  {
   "cell_type": "code",
   "execution_count": 16,
   "id": "c326e87c",
   "metadata": {},
   "outputs": [
    {
     "name": "stdout",
     "output_type": "stream",
     "text": [
      "la suma es= 15\n"
     ]
    }
   ],
   "source": [
    "\n",
    "print ('la suma es=',var_1 + var_2)"
   ]
  }
 ],
 "metadata": {
  "kernelspec": {
   "display_name": "Python 3",
   "language": "python",
   "name": "python3"
  },
  "language_info": {
   "codemirror_mode": {
    "name": "ipython",
    "version": 3
   },
   "file_extension": ".py",
   "mimetype": "text/x-python",
   "name": "python",
   "nbconvert_exporter": "python",
   "pygments_lexer": "ipython3",
   "version": "3.11.9"
  }
 },
 "nbformat": 4,
 "nbformat_minor": 5
}
