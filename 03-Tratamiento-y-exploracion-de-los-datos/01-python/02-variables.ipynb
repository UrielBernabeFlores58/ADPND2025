{
 "cells": [
  {
   "cell_type": "markdown",
   "id": "ba70d3ba",
   "metadata": {},
   "source": [
    "## EJEMPLO2 Variables\n",
    "\n",
    "## Objetivos\n",
    "\n",
    "    - Entender cual es la sintaxis de la asignacion de variables en pyhton\n",
    "\n",
    "    -Aprender la convencion  de nombramiento de  variables"
   ]
  },
  {
   "cell_type": "markdown",
   "id": "a416abf0",
   "metadata": {},
   "source": [
    "### 2. DESARROLLO\n",
    "\n",
    "\n",
    "los siguientes nombres son nombres posibles en Python:\n",
    "\n",
    "    var_1\n",
    "    variable_2\n",
    "    variable_dos\n",
    "    variable_nueva_tres\n",
    "    esta_es_una_variable_nueva\n"
   ]
  },
  {
   "cell_type": "markdown",
   "id": "03023126",
   "metadata": {},
   "source": []
  },
  {
   "cell_type": "markdown",
   "id": "21400c85",
   "metadata": {},
   "source": [
    "los siguientes son nombres invalidos para una variable en python:\n",
    "\n",
    "   1. `1_2`\n",
    "   1. `1_variable`\n",
    "   1. `VariableDos`\n",
    "   1. `EstaEsUnaVariable`\n",
    "   1. `Soy una variable`"
   ]
  },
  {
   "cell_type": "markdown",
   "id": "5ec36c4c",
   "metadata": {},
   "source": [
    "Asignemos unas cuantas variables:"
   ]
  },
  {
   "cell_type": "code",
   "execution_count": 18,
   "id": "dd63b6a7",
   "metadata": {},
   "outputs": [],
   "source": [
    "var_1 = 3\n",
    "var_2 = 6\n",
    "variable_3 = 10 \n",
    "variable_nueva_4 = 20"
   ]
  },
  {
   "cell_type": "markdown",
   "id": "08d844b2",
   "metadata": {},
   "source": [
    "podemos acceder a su contenido con tan solo escribir el nombre de la variable en una celda y correrla"
   ]
  },
  {
   "cell_type": "code",
   "execution_count": 19,
   "id": "3875668e",
   "metadata": {},
   "outputs": [
    {
     "data": {
      "text/plain": [
       "3"
      ]
     },
     "execution_count": 19,
     "metadata": {},
     "output_type": "execute_result"
    }
   ],
   "source": [
    "var_1\n"
   ]
  },
  {
   "cell_type": "code",
   "execution_count": 20,
   "id": "e83f4f1a",
   "metadata": {},
   "outputs": [
    {
     "data": {
      "text/plain": [
       "20"
      ]
     },
     "execution_count": 20,
     "metadata": {},
     "output_type": "execute_result"
    }
   ],
   "source": [
    "variable_nueva_4"
   ]
  },
  {
   "cell_type": "markdown",
   "id": "6a5cde5b",
   "metadata": {},
   "source": [
    "si intenti llamar una variable que no se asignado o no existe, JN va a lazar un error"
   ]
  },
  {
   "cell_type": "code",
   "execution_count": null,
   "id": "b1a15219",
   "metadata": {},
   "outputs": [
    {
     "ename": "NameError",
     "evalue": "name 'var_5' is not defined",
     "output_type": "error",
     "traceback": [
      "\u001b[31m---------------------------------------------------------------------------\u001b[39m",
      "\u001b[31mNameError\u001b[39m                                 Traceback (most recent call last)",
      "\u001b[36mCell\u001b[39m\u001b[36m \u001b[39m\u001b[32mIn[22]\u001b[39m\u001b[32m, line 1\u001b[39m\n\u001b[32m----> \u001b[39m\u001b[32m1\u001b[39m \u001b[43mvar_5\u001b[49m\n",
      "\u001b[31mNameError\u001b[39m: name 'var_5' is not defined"
     ]
    }
   ],
   "source": [
    "var_5 =66"
   ]
  },
  {
   "cell_type": "markdown",
   "id": "4c204110",
   "metadata": {},
   "source": [
    "De igual manera si se escribve una asignacion pero no se corre la celda esa variable no estara disponible para el notebook mas adelante"
   ]
  },
  {
   "cell_type": "markdown",
   "id": "5b6bffa0",
   "metadata": {},
   "source": [
    "## reto 1: Variables\n",
    "\n",
    "### 1. Objetivos: \n",
    "    - Practicar convencion de nombramiento y asignacion de variables \n",
    "\n",
    "### 2. Desarrollo\n",
    "\n",
    "    - Realizar la siguiente practica "
   ]
  },
  {
   "cell_type": "code",
   "execution_count": 26,
   "id": "7f349d78",
   "metadata": {},
   "outputs": [],
   "source": [
    "#Asigna el numero 12345 a una variable llamada \"Variable locochona\"\n",
    "Variable_locochona = 12345\n",
    "#Asigna el numero 14.567 a la variable var decimal\n",
    "var_decimal = 14.567\n",
    "#Asigna un numero cualquiera a una variable que tenga 5 palabras en su nombre \n",
    "numero_de_la_variable_muy_larga = 42\n",
    "# Asigna cualquier numero a una variable que incluya palabras y numeros en su nombre\n",
    "variable2025_version1 = 99"
   ]
  },
  {
   "cell_type": "code",
   "execution_count": null,
   "id": "664f8d18",
   "metadata": {},
   "outputs": [],
   "source": []
  }
 ],
 "metadata": {
  "kernelspec": {
   "display_name": "Python 3",
   "language": "python",
   "name": "python3"
  },
  "language_info": {
   "codemirror_mode": {
    "name": "ipython",
    "version": 3
   },
   "file_extension": ".py",
   "mimetype": "text/x-python",
   "name": "python",
   "nbconvert_exporter": "python",
   "pygments_lexer": "ipython3",
   "version": "3.11.9"
  }
 },
 "nbformat": 4,
 "nbformat_minor": 5
}
