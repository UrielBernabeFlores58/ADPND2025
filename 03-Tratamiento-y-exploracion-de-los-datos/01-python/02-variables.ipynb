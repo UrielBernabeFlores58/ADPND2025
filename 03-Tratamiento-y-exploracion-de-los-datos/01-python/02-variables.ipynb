{
 "cells": [
  {
   "cell_type": "markdown",
   "id": "b0ba73ee",
   "metadata": {},
   "source": [
    "## Ejemplo2: variables\n",
    "\n",
    "### 1. Objetivos:\n",
    "\n",
    "- Entender cual es la sintaxis de la asignacion de variables en python.\n",
    "- Aprender la convencion de nombramiento de variables"
   ]
  },
  {
   "cell_type": "markdown",
   "id": "9926d010",
   "metadata": {},
   "source": [
    "### 2. Desarrollo\n",
    "\n",
    "Los siguientes nombres son posibles de variables en python:\n",
    "\n",
    "- var_1\n",
    "- variable_2\n",
    "- variable_dos\n",
    "- variable_nueva_tres\n",
    "- esta_es_una_variable_nueva"
   ]
  },
  {
   "cell_type": "markdown",
   "id": "c2c396d1",
   "metadata": {},
   "source": [
    "Los siguientes son nombres invalidos para una variable en python:\n",
    "\n",
    "- 1_2\n",
    "- 1_variable\n",
    "- variableDos\n",
    "- EstaEsUnaVariable\n",
    "- Soy una variable"
   ]
  },
  {
   "cell_type": "markdown",
   "id": "c74834e0",
   "metadata": {},
   "source": [
    "Asignemos unas cuantas variables:"
   ]
  },
  {
   "cell_type": "code",
   "execution_count": 2,
   "id": "68718bbb",
   "metadata": {},
   "outputs": [],
   "source": [
    "var_1 = 3\n",
    "var_2 = 6\n",
    "variable_3 = 10\n",
    "variable_nueva_4 = 20"
   ]
  },
  {
   "cell_type": "markdown",
   "id": "9c67650e",
   "metadata": {},
   "source": [
    "Podemos acceder a su contenido con tan solo escribir el nombre de la variable en una celda y correrla"
   ]
  },
  {
   "cell_type": "code",
   "execution_count": 3,
   "id": "806e6a3a",
   "metadata": {},
   "outputs": [
    {
     "data": {
      "text/plain": [
       "3"
      ]
     },
     "execution_count": 3,
     "metadata": {},
     "output_type": "execute_result"
    }
   ],
   "source": [
    "var_1"
   ]
  },
  {
   "cell_type": "code",
   "execution_count": 4,
   "id": "ebbbe61f",
   "metadata": {},
   "outputs": [
    {
     "data": {
      "text/plain": [
       "20"
      ]
     },
     "execution_count": 4,
     "metadata": {},
     "output_type": "execute_result"
    }
   ],
   "source": [
    "variable_nueva_4"
   ]
  },
  {
   "cell_type": "markdown",
   "id": "24cd6257",
   "metadata": {},
   "source": [
    "Si intento llamar una variable que no se ha asignado o que no existe, jn va a lanzar un error"
   ]
  },
  {
   "cell_type": "code",
   "execution_count": 5,
   "id": "7052e22c",
   "metadata": {},
   "outputs": [
    {
     "ename": "NameError",
     "evalue": "name 'var_5' is not defined",
     "output_type": "error",
     "traceback": [
      "\u001b[1;31m---------------------------------------------------------------------------\u001b[0m",
      "\u001b[1;31mNameError\u001b[0m                                 Traceback (most recent call last)",
      "Cell \u001b[1;32mIn[5], line 1\u001b[0m\n\u001b[1;32m----> 1\u001b[0m \u001b[43mvar_5\u001b[49m\n",
      "\u001b[1;31mNameError\u001b[0m: name 'var_5' is not defined"
     ]
    }
   ],
   "source": [
    "var_5"
   ]
  },
  {
   "cell_type": "markdown",
   "id": "d3e2e84b",
   "metadata": {},
   "source": [
    "De igual manera, si se escribre una asignacion pero no se corre la celda esa variable no estara disponible para el notebook mas adelante"
   ]
  },
  {
   "cell_type": "code",
   "execution_count": 7,
   "id": "fb640af0",
   "metadata": {},
   "outputs": [],
   "source": [
    "var_2 = 89"
   ]
  },
  {
   "cell_type": "code",
   "execution_count": 8,
   "id": "8b8d308e",
   "metadata": {},
   "outputs": [
    {
     "data": {
      "text/plain": [
       "89"
      ]
     },
     "execution_count": 8,
     "metadata": {},
     "output_type": "execute_result"
    }
   ],
   "source": [
    "var_2"
   ]
  },
  {
   "cell_type": "markdown",
   "id": "03dddf47",
   "metadata": {},
   "source": [
    "## Reto 1: Variables\n",
    "\n",
    "### 1. Objetivos:\n",
    "    - Practicar convencion de nombramiento y asignacion de variables\n",
    "\n",
    "### 2. Desarrollo:\n",
    "\n",
    "Realizar la siguiente practica"
   ]
  },
  {
   "cell_type": "markdown",
   "id": "819cf411",
   "metadata": {},
   "source": [
    "# Asigna el numero 1,2,3,4,5 a una variable llamada variable locochona\n",
    "\n",
    "# Asigna el numero 14.567 a la variable var decimal\n",
    "\n",
    "# Asigna un numero cualquiera a una variable que tenga 5 palabras en su nombre\n",
    "\n",
    "# Asigna cualquier numero a una variable que incluya palabras y numeros."
   ]
  }
 ],
 "metadata": {
  "kernelspec": {
   "display_name": "Python 3",
   "language": "python",
   "name": "python3"
  },
  "language_info": {
   "codemirror_mode": {
    "name": "ipython",
    "version": 3
   },
   "file_extension": ".py",
   "mimetype": "text/x-python",
   "name": "python",
   "nbconvert_exporter": "python",
   "pygments_lexer": "ipython3",
   "version": "3.10.6"
  }
 },
 "nbformat": 4,
 "nbformat_minor": 5
}
