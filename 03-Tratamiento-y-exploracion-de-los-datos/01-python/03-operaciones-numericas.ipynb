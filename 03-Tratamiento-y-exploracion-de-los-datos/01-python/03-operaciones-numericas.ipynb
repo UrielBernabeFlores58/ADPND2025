{
 "cells": [
  {
   "cell_type": "markdown",
   "id": "5aef41d0",
   "metadata": {},
   "source": [
    "# Operaciones numericas\n",
    "## objetivos\n",
    "Mostrar como usar los operadores matematicos\n",
    "\n",
    "### Desarrollo"
   ]
  },
  {
   "cell_type": "markdown",
   "id": "747cfe21",
   "metadata": {},
   "source": [
    "Primero vamos a asignar unas variables"
   ]
  },
  {
   "cell_type": "code",
   "execution_count": 2,
   "id": "2f3e460d",
   "metadata": {},
   "outputs": [],
   "source": [
    "var_1 = 4\n",
    "var_2 = 54\n",
    "var_3 = 23\n",
    "var_4 = 89"
   ]
  },
  {
   "cell_type": "code",
   "execution_count": 13,
   "id": "69090234",
   "metadata": {},
   "outputs": [
    {
     "name": "stdout",
     "output_type": "stream",
     "text": [
      "4 54 23 89 4-54-23-89\n",
      "El valor de la variable var_1: 4 \n",
      "El valor de la variable var_2: 54\n"
     ]
    }
   ],
   "source": [
    "print (var_1, var_2, var_3, var_4, end= ' ' )\n",
    "print (var_1, var_2, var_3, var_4, sep=\"-\")\n",
    "print ('El valor de la variable var_1:' , var_1 , '\\nEl valor de la variable var_2:' , var_2)"
   ]
  },
  {
   "cell_type": "markdown",
   "id": "0374e735",
   "metadata": {},
   "source": [
    "## Operaciones aritmeticas\n",
    "\n",
    "\n",
    "---\n",
    "### operadores Aritmeticos\n",
    "| Operador | Nombre                  | Descripción                                 | Ejemplo        | Resultado |\n",
    "|----------|-------------------------|---------------------------------------------|----------------|-----------|\n",
    "| `+`      | Suma                    | Suma de dos operandos                        | `5 + 3`        | `8`       |\n",
    "| `-`      | Resta                   | Resta del segundo operando al primero        | `5 - 3`        | `2`       |\n",
    "| `*`      | Multiplicación          | Producto de dos operandos                    | `5 * 3`        | `15`      |\n",
    "| `/`      | División                | División del primero entre el segundo       | `5 / 2`        | `2.5`     |\n",
    "| `//`     | División entera         | División y redondeo hacia abajo             | `5 // 2`       | `2`       |\n",
    "| `%`      | Módulo (residuo)        | Residuo de la división                      | `5 % 2`        | `1`       |\n",
    "| `**`     | Exponente               | Potencia del primer operando al segundo     | `2 ** 3`       | `8`       |"
   ]
  },
  {
   "cell_type": "code",
   "execution_count": 14,
   "id": "114cb64b",
   "metadata": {},
   "outputs": [
    {
     "data": {
      "text/plain": [
       "58"
      ]
     },
     "execution_count": 14,
     "metadata": {},
     "output_type": "execute_result"
    }
   ],
   "source": [
    "var_1 + var_2\n"
   ]
  },
  {
   "cell_type": "code",
   "execution_count": 17,
   "id": "2694bf24",
   "metadata": {},
   "outputs": [
    {
     "data": {
      "text/plain": [
       "-35"
      ]
     },
     "execution_count": 17,
     "metadata": {},
     "output_type": "execute_result"
    }
   ],
   "source": [
    "var_2 - var_4"
   ]
  },
  {
   "cell_type": "code",
   "execution_count": 19,
   "id": "c2efc0c7",
   "metadata": {},
   "outputs": [
    {
     "data": {
      "text/plain": [
       "92"
      ]
     },
     "execution_count": 19,
     "metadata": {},
     "output_type": "execute_result"
    }
   ],
   "source": [
    "var_3 * var_1"
   ]
  },
  {
   "cell_type": "code",
   "execution_count": 20,
   "id": "e731aa26",
   "metadata": {},
   "outputs": [
    {
     "data": {
      "text/plain": [
       "1.6481481481481481"
      ]
     },
     "execution_count": 20,
     "metadata": {},
     "output_type": "execute_result"
    }
   ],
   "source": [
    "var_4 /  var_2"
   ]
  },
  {
   "cell_type": "code",
   "execution_count": 21,
   "id": "f11d3087",
   "metadata": {},
   "outputs": [
    {
     "data": {
      "text/plain": [
       "1"
      ]
     },
     "execution_count": 21,
     "metadata": {},
     "output_type": "execute_result"
    }
   ],
   "source": [
    "var_4 // var_2\n"
   ]
  },
  {
   "cell_type": "code",
   "execution_count": null,
   "id": "20b5e7d3",
   "metadata": {},
   "outputs": [],
   "source": [
    "var_2 ** var_1"
   ]
  },
  {
   "cell_type": "code",
   "execution_count": 22,
   "id": "5dc624b1",
   "metadata": {},
   "outputs": [
    {
     "data": {
      "text/plain": [
       "0"
      ]
     },
     "execution_count": 22,
     "metadata": {},
     "output_type": "execute_result"
    }
   ],
   "source": [
    "var_1 = 10\n",
    "var_2 = 2\n",
    "\n",
    "var_1 % var_2"
   ]
  },
  {
   "cell_type": "code",
   "execution_count": null,
   "id": "074efbec",
   "metadata": {},
   "outputs": [],
   "source": [
    "print (var_1 + var_2)\n",
    "print (var_1 * var_2)\n",
    "print (var_1 ** var_2)"
   ]
  },
  {
   "cell_type": "markdown",
   "id": "625935aa",
   "metadata": {},
   "source": [
    "tambien se puede asignar  los resultados de las operaciones a otras variables"
   ]
  },
  {
   "cell_type": "code",
   "execution_count": 23,
   "id": "15df53d6",
   "metadata": {},
   "outputs": [
    {
     "data": {
      "text/plain": [
       "33"
      ]
     },
     "execution_count": 23,
     "metadata": {},
     "output_type": "execute_result"
    }
   ],
   "source": [
    "resultado = var_1 + var_3\n",
    "resultado\n"
   ]
  }
 ],
 "metadata": {
  "kernelspec": {
   "display_name": "Python 3",
   "language": "python",
   "name": "python3"
  },
  "language_info": {
   "codemirror_mode": {
    "name": "ipython",
    "version": 3
   },
   "file_extension": ".py",
   "mimetype": "text/x-python",
   "name": "python",
   "nbconvert_exporter": "python",
   "pygments_lexer": "ipython3",
   "version": "3.11.9"
  }
 },
 "nbformat": 4,
 "nbformat_minor": 5
}
