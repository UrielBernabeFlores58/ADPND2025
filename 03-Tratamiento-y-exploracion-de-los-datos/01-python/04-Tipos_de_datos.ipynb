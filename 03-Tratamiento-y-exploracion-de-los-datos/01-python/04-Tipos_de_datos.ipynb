{
 "cells": [
  {
   "cell_type": "markdown",
   "id": "e45eee3f",
   "metadata": {},
   "source": [
    "## Tipos de Datos\n",
    "\n",
    "### Objetivos:\n",
    "    - Hablar sobre los 4 tipos de datos basicos que tiene python\n",
    "\n",
    "---\n",
    "\n",
    "### Desarrollo:\n"
   ]
  },
  {
   "cell_type": "markdown",
   "id": "72b1928f",
   "metadata": {},
   "source": [
    "Se tienen 4 tipos de datos basicos. Veamos en codigo y utilicemos las funciones `print` y `type` para imprimir los tipos de manera explicita:"
   ]
  },
  {
   "cell_type": "code",
   "execution_count": 1,
   "id": "75035d5e",
   "metadata": {},
   "outputs": [
    {
     "name": "stdout",
     "output_type": "stream",
     "text": [
      "4598\n",
      "<class 'int'>\n",
      "\n",
      "\n",
      "369.432\n",
      "<class 'float'>\n",
      "Yo soy un string\n",
      "<class 'str'>\n",
      "\n",
      "\n",
      "True\n",
      "<class 'bool'>\n",
      "\n",
      "\n"
     ]
    }
   ],
   "source": [
    "# Este es un numero\n",
    "\n",
    "var_int = 4598\n",
    "\n",
    "print(var_int)\n",
    "print(type(var_int))\n",
    "print('\\n')\n",
    "\n",
    "# Este es un numero decimal\n",
    "\n",
    "var_float = 369.432\n",
    "print(var_float)\n",
    "print(type(var_float))\n",
    "\n",
    "## Este es un string\n",
    "\n",
    "var_string = \"Yo soy un string\"\n",
    "print(var_string)\n",
    "print(type(var_string))\n",
    "print('\\n')\n",
    "\n",
    "## Este es un booleano\n",
    "\n",
    "var_bool = True\n",
    "print(var_bool)\n",
    "print(type(var_bool))\n",
    "print('\\n')\n"
   ]
  }
 ],
 "metadata": {
  "kernelspec": {
   "display_name": "Python 3",
   "language": "python",
   "name": "python3"
  },
  "language_info": {
   "codemirror_mode": {
    "name": "ipython",
    "version": 3
   },
   "file_extension": ".py",
   "mimetype": "text/x-python",
   "name": "python",
   "nbconvert_exporter": "python",
   "pygments_lexer": "ipython3",
   "version": "3.10.6"
  }
 },
 "nbformat": 4,
 "nbformat_minor": 5
}
