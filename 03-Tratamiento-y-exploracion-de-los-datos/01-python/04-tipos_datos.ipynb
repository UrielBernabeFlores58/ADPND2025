{
 "cells": [
  {
   "cell_type": "markdown",
   "id": "ef2a3fa5",
   "metadata": {},
   "source": [
    "## Tipos de datos\n",
    "\n",
    "### Objetivos\n",
    "    - Hablar sobre los 4 tipos de datos basicos que tiene python\n",
    "\n",
    "\n",
    "\n",
    "---\n",
    "\n",
    "\n",
    "### Desarrollo:\n"
   ]
  },
  {
   "cell_type": "markdown",
   "id": "a0b66408",
   "metadata": {},
   "source": [
    "Se tienen 4 tipos de datos vasicos. Veamos en codigo y utilicemos las funciones `print` y `type` para imprimir los tipos de manera explicita:\n"
   ]
  },
  {
   "cell_type": "code",
   "execution_count": 7,
   "id": "44abcabe",
   "metadata": {},
   "outputs": [
    {
     "name": "stdout",
     "output_type": "stream",
     "text": [
      "4598\n",
      "<class 'int'>\n",
      "\n",
      "\n",
      "369.432\n",
      "<class 'float'>\n",
      "\n",
      "\n",
      "<class 'str'>\n",
      "\n",
      "\n",
      "<class 'bool'>\n",
      "\n",
      "\n"
     ]
    }
   ],
   "source": [
    "# Este es un numero \n",
    "\n",
    "var_int = 4598\n",
    "\n",
    "print(var_int)\n",
    "print(type(var_int))\n",
    "print('\\n')\n",
    "\n",
    "# este es un numero float\n",
    "\n",
    "varfloat = 369.432\n",
    "\n",
    "print(varfloat)\n",
    "print(type(varfloat))\n",
    "print('\\n')\n",
    "\n",
    "\n",
    "# este es un string\n",
    "\n",
    "var_string = 'Yo soy un string'\n",
    "print(type(var_string))\n",
    "print('\\n')\n",
    "\n",
    "## este es un booleano\n",
    "\n",
    "var_bool = True\n",
    "print(type(var_bool))\n",
    "print('\\n')"
   ]
  },
  {
   "cell_type": "code",
   "execution_count": null,
   "id": "1f48394b",
   "metadata": {},
   "outputs": [],
   "source": []
  },
  {
   "cell_type": "code",
   "execution_count": null,
   "id": "a9959a95",
   "metadata": {},
   "outputs": [],
   "source": []
  }
 ],
 "metadata": {
  "kernelspec": {
   "display_name": "Python 3",
   "language": "python",
   "name": "python3"
  },
  "language_info": {
   "codemirror_mode": {
    "name": "ipython",
    "version": 3
   },
   "file_extension": ".py",
   "mimetype": "text/x-python",
   "name": "python",
   "nbconvert_exporter": "python",
   "pygments_lexer": "ipython3",
   "version": "3.11.9"
  }
 },
 "nbformat": 4,
 "nbformat_minor": 5
}
