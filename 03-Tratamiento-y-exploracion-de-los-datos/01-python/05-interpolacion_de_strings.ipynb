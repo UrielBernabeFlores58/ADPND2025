{
 "cells": [
  {
   "cell_type": "markdown",
   "id": "7541d450",
   "metadata": {},
   "source": [
    "## INTERPOLACION DE \n",
    "\n",
    "\n",
    "### Obetivos:\n",
    "\n",
    "    - Aprender a imprimir string\n",
    "    - Aprender a interpolar variables dentrod e strings\n",
    "---\n",
    "  ### Desarrollo"
   ]
  },
  {
   "cell_type": "code",
   "execution_count": null,
   "id": "af0332c7",
   "metadata": {},
   "outputs": [],
   "source": []
  },
  {
   "cell_type": "markdown",
   "id": "5ba550f8",
   "metadata": {},
   "source": [
    "_Podemos hacer anotaciones en ouputs de nuestro codigo de esta manera_"
   ]
  },
  {
   "cell_type": "code",
   "execution_count": 1,
   "id": "b793f06a",
   "metadata": {},
   "outputs": [
    {
     "name": "stdout",
     "output_type": "stream",
     "text": [
      "sima de var_1 y var_2\n",
      "38.7\n"
     ]
    }
   ],
   "source": [
    "var_1 = 15.3\n",
    "var_2 = 23.4\n",
    "\n",
    "print(\"sima de var_1 y var_2\")\n",
    "print(var_1 + var_2)"
   ]
  },
  {
   "cell_type": "markdown",
   "id": "49bef65c",
   "metadata": {},
   "source": [
    "_Pero a veces resulta necesario o deseable interpolar el valor de la variable dentro de dicho string. para esto utilizamos las llamadas `f-strings`. el formato de una 's-strings' es el siguiente:_\n",
    "\n",
    "_`f\"esto es texto\" {esto_es_una_variable} esto es mas texto\"`_\n",
    "\n",
    "_Esccribiendo un `f` antes de las comilla le indicamos a Python que lo que pongas dentro de las llaves (`{}`) sera codigo de Python. En este casi, una variable asignada previamente._\n",
    "\n",
    "**Ahora podemos hacer lo siguiente**:"
   ]
  },
  {
   "cell_type": "code",
   "execution_count": 5,
   "id": "2f463283",
   "metadata": {},
   "outputs": [
    {
     "name": "stdout",
     "output_type": "stream",
     "text": [
      "Resultado=67.3\n"
     ]
    }
   ],
   "source": [
    "var_3 = 43\n",
    "var_4 = 24.3\n",
    "\n",
    "suma = var_3 + var_4\n",
    "\n",
    "print(f\"Resultado={suma}\")"
   ]
  },
  {
   "cell_type": "code",
   "execution_count": 13,
   "id": "6c171080",
   "metadata": {},
   "outputs": [
    {
     "name": "stdout",
     "output_type": "stream",
     "text": [
      "El nombre del programa es: ola y la suma de los valores 1.0 + 1.0 es 2.0\n"
     ]
    }
   ],
   "source": [
    "nombre_programa = input('Introduce el nombre del programa')\n",
    "var_3 = float(input('introduce el primer valor'))\n",
    "var_4 = float(input('introduce el segundo valor'))\n",
    "suma = var_3 + var_4\n",
    "\n",
    "print(f\"El nombre del programa es: {nombre_programa} y la suma de los valores {var_3} + {var_4} es {suma}\")\n"
   ]
  },
  {
   "cell_type": "code",
   "execution_count": 35,
   "id": "2e12bf5d",
   "metadata": {},
   "outputs": [],
   "source": [
    "def sumar (numero1, numero2):\n",
    "    return numero1 + numero2"
   ]
  },
  {
   "cell_type": "code",
   "execution_count": 37,
   "id": "512d6a1f",
   "metadata": {},
   "outputs": [],
   "source": [
    "def solicitarValor():\n",
    "    return float(input('introduce el primer valor'))\n"
   ]
  },
  {
   "cell_type": "code",
   "execution_count": 39,
   "id": "77a8f4bf",
   "metadata": {},
   "outputs": [
    {
     "name": "stdout",
     "output_type": "stream",
     "text": [
      "25.0\n"
     ]
    }
   ],
   "source": [
    "var_3 = solicitarValor()\n",
    "var_4 = solicitarValor()\n",
    "\n",
    "s = sumar (var_3,var_4)\n",
    "\n",
    "print(s)"
   ]
  }
 ],
 "metadata": {
  "kernelspec": {
   "display_name": "Python 3",
   "language": "python",
   "name": "python3"
  },
  "language_info": {
   "codemirror_mode": {
    "name": "ipython",
    "version": 3
   },
   "file_extension": ".py",
   "mimetype": "text/x-python",
   "name": "python",
   "nbconvert_exporter": "python",
   "pygments_lexer": "ipython3",
   "version": "3.11.9"
  }
 },
 "nbformat": 4,
 "nbformat_minor": 5
}
