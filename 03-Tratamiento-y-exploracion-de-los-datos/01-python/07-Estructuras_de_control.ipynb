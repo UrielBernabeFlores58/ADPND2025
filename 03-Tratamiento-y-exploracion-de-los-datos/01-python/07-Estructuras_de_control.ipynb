{
 "cells": [
  {
   "cell_type": "markdown",
   "id": "744cc550",
   "metadata": {},
   "source": [
    "## Estructuras de Control\n",
    "\n",
    "### Objetivo\n",
    "\n",
    "- Conocer las estructuras de control, como funcionan y para que sirven\n",
    "\n",
    "\n",
    "---\n",
    "\n",
    "## Desarrollo"
   ]
  },
  {
   "cell_type": "markdown",
   "id": "10a6b949",
   "metadata": {},
   "source": [
    "Queremos darle a nuestro programa la capacidad de tomar decisiones. Esto puede hacerse utilizando una `sentencia if` utiliza una comparacion para obtener un boolean. Si el booleano es `True`, el bloque de la sentencia se ejecuta. Si el booleano es `False` nos saltamos a lo que sigue despues del bloque."
   ]
  },
  {
   "cell_type": "code",
   "execution_count": 3,
   "id": "09536669",
   "metadata": {},
   "outputs": [],
   "source": [
    "var_1 = 4\n",
    "var_2 = 5"
   ]
  },
  {
   "cell_type": "code",
   "execution_count": 4,
   "id": "3853c2ae",
   "metadata": {},
   "outputs": [
    {
     "name": "stdout",
     "output_type": "stream",
     "text": [
      "El bloque se ha ejecutado\n"
     ]
    }
   ],
   "source": [
    "if var_1 < var_2:\n",
    "    print(\"El bloque se ha ejecutado\")"
   ]
  },
  {
   "cell_type": "code",
   "execution_count": 6,
   "id": "dd93c66f",
   "metadata": {},
   "outputs": [
    {
     "name": "stdout",
     "output_type": "stream",
     "text": [
      "El numero 5 es menor que el numero 10\n"
     ]
    }
   ],
   "source": [
    "\n",
    "var_1 = int(input(\"Introduce el valor\"))\n",
    "var_2 = int(input(\"Introduce el valor\"))\n",
    "\n",
    "if var_1 < var_2:\n",
    "    print(f\"El numero {var_1} es menor que el numero {var_2}\")"
   ]
  },
  {
   "cell_type": "code",
   "execution_count": 7,
   "id": "b1195382",
   "metadata": {},
   "outputs": [],
   "source": [
    "# Función que solicita un valor\n",
    "\n",
    "def solicitar ():\n",
    "    return int(input(\"Introduce el valor\"))"
   ]
  },
  {
   "cell_type": "code",
   "execution_count": 10,
   "id": "992de624",
   "metadata": {},
   "outputs": [],
   "source": [
    "# Función que hace la comparación\n",
    "\n",
    "def comparar (valor_uno, valor_dos):\n",
    "    if valor_uno < valor_dos:\n",
    "        print(f\"El numero {var_1} es menor que el numero {var_2}\")"
   ]
  },
  {
   "cell_type": "code",
   "execution_count": 11,
   "metadata": {},
   "outputs": [
    {
     "name": "stdout",
     "output_type": "stream",
     "text": [
      "El numero 5 es menor que el numero 10\n"
     ]
    }
   ],
   "source": [
    "# Ejecucion de las funciones\n",
    "var_1 = solicitar()\n",
    "var_2 = solicitar()\n",
    "\n",
    "comparar(var_1, var_2)"
   ]
  },
  {
   "cell_type": "markdown",
   "id": "658d2ae8",
   "metadata": {},
   "source": [
    "1. **Desarrollar un programa que determine si un numero es positivo**\n",
    "2. **Desarrollar un programa que determine si puedes votar, la edad minima es 18**\n",
    "3. **Verificar si un numero es par**\n",
    "4. **Realizar a simulacion de un login, en el cual se debe verificar si la contraseña es correcta**\n",
    "5. **Realizar un programa determine si un alumno esta aprobado, la calificacion minima es 7**\n",
    "\n",
    "Todos los datos deben ser solicitados"
   ]
  },
  {
   "cell_type": "code",
   "execution_count": 13,
   "id": "bb1ac741",
   "metadata": {},
   "outputs": [],
   "source": [
    "var_1 = int(input(\"Introduce el numero\"))\n",
    "var_2 = int(0)\n",
    "\n",
    "if var_1 > var_2:\n",
    "    print(f\"El numero {var_1} es positivo\")\n"
   ]
  },
  {
   "cell_type": "code",
   "execution_count": 16,
   "id": "b6c92b46",
   "metadata": {},
   "outputs": [
    {
     "name": "stdout",
     "output_type": "stream",
     "text": [
      "Si puedes votar mano\n"
     ]
    }
   ],
   "source": [
    "var_1 = int(input(\"Introduce tu edad\"))\n",
    "var_2 = int(18)\n",
    "\n",
    "if var_1 >= var_2:\n",
    "    print(f\"Si puedes votar mano\")"
   ]
  },
  {
   "cell_type": "code",
   "execution_count": 19,
   "id": "e8179933",
   "metadata": {},
   "outputs": [
    {
     "name": "stdout",
     "output_type": "stream",
     "text": [
      "El numero 4 es par\n"
     ]
    }
   ],
   "source": [
    "var_1 = solicitar()\n",
    "\n",
    "if var_1 % 2 == 0:\n",
    "    print(f\"El numero {var_1} es par\")"
   ]
  },
  {
   "cell_type": "code",
   "execution_count": null,
   "id": "989be636",
   "metadata": {},
   "outputs": [],
   "source": [
    "var_1 = int(input(\"Introduce el numero\"))\n",
    "var_2 = int(0)\n",
    "\n",
    "if var_1 > var_2:\n",
    "    print(f\"El numero {var_1} es positivo\")"
   ]
  },
  {
   "cell_type": "code",
   "execution_count": 21,
   "id": "159e79a0",
   "metadata": {},
   "outputs": [
    {
     "name": "stdout",
     "output_type": "stream",
     "text": [
      "Tienes acceso total\n"
     ]
    }
   ],
   "source": [
    "contrasena = 1234\n",
    "\n",
    "password = int(input('Introduce la contrasena'))\n",
    "\n",
    "if password == contrasena:\n",
    "    print('Tienes acceso total')\n",
    "else:\n",
    "    print('Saquese...')"
   ]
  },
  {
   "cell_type": "markdown",
   "id": "2297a8f3",
   "metadata": {},
   "source": [
    "### Operadores Logicos\n",
    "\n",
    "---\n",
    "\n",
    "### Operador `or`\n",
    "\n",
    "| A   | B   | A or B |\n",
    "|-----|-----|--------|\n",
    "| F   | F   | F      |\n",
    "| T   | F   | T      |\n",
    "| F   | T   | T      |\n",
    "| T   | T   | T      |\n",
    "\n",
    "### Operador `and`\n",
    "\n",
    "| A   | B   | A and B |\n",
    "|-----|-----|---------|\n",
    "| F   | F   | F       |\n",
    "| T   | F   | F       |\n",
    "| F   | T   | F       |\n",
    "| T   | T   | T       |\n",
    "\n",
    "### Operador `not`\n",
    "\n",
    "| A   | not A |\n",
    "|-----|--------|\n",
    "| F   | T      |\n",
    "| T   | F      |\n"
   ]
  },
  {
   "cell_type": "code",
   "execution_count": 1,
   "id": "109a9077",
   "metadata": {},
   "outputs": [
    {
     "data": {
      "text/plain": [
       "False"
      ]
     },
     "execution_count": 1,
     "metadata": {},
     "output_type": "execute_result"
    }
   ],
   "source": [
    "resultado = 4>5 and 5==5\n",
    "resultado"
   ]
  },
  {
   "cell_type": "code",
   "execution_count": 2,
   "id": "a2d6e265",
   "metadata": {},
   "outputs": [
    {
     "data": {
      "text/plain": [
       "True"
      ]
     },
     "execution_count": 2,
     "metadata": {},
     "output_type": "execute_result"
    }
   ],
   "source": [
    "resultado = not(4>5 and 5==5)\n",
    "resultado"
   ]
  },
  {
   "cell_type": "markdown",
   "id": "d7c0a70f",
   "metadata": {},
   "source": [
    "1. Verificar si un numero esta en el rango de 10 y 20\n",
    "2. Verificar si un usuario tiene acceso al charlys si tiene minimo 18 años o tiene permiso especial\n",
    "3. Verificar si un numero no es igual a 0\n",
    "4. Verificar si un valor esta fuera del rango de 0 y 30"
   ]
  },
  {
   "cell_type": "code",
   "execution_count": 13,
   "id": "c6fcacea",
   "metadata": {},
   "outputs": [],
   "source": [
    "numero = int(input(\"Introduce el valor\"))\n",
    "if numero <=20 and numero >= 10:\n",
    "    print(f\"Si jala {numero}\")"
   ]
  },
  {
   "cell_type": "markdown",
   "id": "c6555ae8",
   "metadata": {},
   "source": [
    "Hay veces que queremos tener una accion `default`, que queremos que suceda en caso de que la comparacion sea `false`. Para esto podemos usar una sentencia `else`. Piensalo como preguntarse a uno mismo: \"Si meto mi mano a la bolsa y resulta que encuentro un billete de $50, me compro unos nachos; y si no hay nada vere una pelicula con mi novia llorando de tristeza por que no es la otra.\""
   ]
  },
  {
   "cell_type": "code",
   "execution_count": 15,
   "id": "07126214",
   "metadata": {},
   "outputs": [
    {
     "name": "stdout",
     "output_type": "stream",
     "text": [
      "La condicion no se ha cumplido, y por lo tanto yo me imprimo\n"
     ]
    }
   ],
   "source": [
    "var_1 = 4\n",
    "var_2 = 5\n",
    "\n",
    "if var_1 > var_2:\n",
    "    print('La condicion se cumplio')\n",
    "\n",
    "else:\n",
    "    print('La condicion no se ha cumplido, y por lo tanto yo me imprimo')"
   ]
  },
  {
   "cell_type": "code",
   "execution_count": null,
   "id": "e653a84c",
   "metadata": {},
   "outputs": [],
   "source": [
    "# Encontrar el numero mas grande de 2 numeros\n",
    "\n",
    "number_1 = int(input('Introduce el numero 1'))\n",
    "number_2 = int(input('Introduce el numero 2'))\n",
    "\n",
    "# Elegir el numero mas grande\n",
    "\n",
    "if number_1 > number_2:\n",
    "    print(f'El numero {number_1} es mayor al numero {number_2}')\n",
    "else:\n",
    "    print(f'El numero {number_2} es mayor al numero {number_1}')"
   ]
  },
  {
   "cell_type": "code",
   "execution_count": null,
   "id": "d9323d4c",
   "metadata": {},
   "outputs": [],
   "source": [
    "number_1 = int(input('Introduce el numero 1'))\n",
    "number_2 = int(input('Introduce el numero 2'))\n",
    "\n",
    "if number_1 > number_2:\n",
    "    numero_mayor = number_1\n",
    "else:\n",
    "    numero_mayor = number_2\n",
    "\n",
    "print(f'El numero mayor es: {numero_mayor}')"
   ]
  },
  {
   "cell_type": "markdown",
   "id": "f5dbb018",
   "metadata": {},
   "source": [
    "Si queremos que haya mas de dos opciones, podemos agregar opciones utilizando la sentencia `elif`"
   ]
  },
  {
   "cell_type": "code",
   "execution_count": 17,
   "id": "f035a804",
   "metadata": {},
   "outputs": [
    {
     "name": "stdout",
     "output_type": "stream",
     "text": [
      "El 14 es mayor 12\n"
     ]
    }
   ],
   "source": [
    "var_1 = 12\n",
    "var_2 = 14\n",
    "\n",
    "if var_1 > var_2:\n",
    "    print(f'El {var_1} es mayor {var_2}')\n",
    "elif var_2 > var_1:\n",
    "    print(f'El {var_2} es mayor {var_1}')\n",
    "else:\n",
    "    print(f'El {var_1} es igual al {var_2}')"
   ]
  },
  {
   "cell_type": "markdown",
   "id": "dba947bc",
   "metadata": {},
   "source": [
    "#### 1. Comparaciones numéricas\n",
    "\n",
    "Vamos a imaginar que estamos analizando un conjunto de datos que contiene las ventas anuales en pesos de unos vendedores que trabajan en nuestra empresa. Obtenemos el total de ventas anuales en pesos y lo tenemos asignado a la variable `ventas_anuales_totales`. Escribe una estructura de control que nos diga de cuánto va a ser el bono de nuestro empleado.\n",
    "\n",
    "Si las ventas son mayores a `$`1,000,000 el bono será de 20% del sueldo; si son entre `$`700,000 y `$`1,000,000 el bono será de 15% del sueldo; entre `$`400,000 y `$`700,000 el bono será de 10% del sueldo; entre `$`100,00 y 400,000 el bono será de 5% del sueldo; y debajo de `$`100,000 el bono será del 1% del sueldo.\n",
    "\n",
    "Escribe tu estructura de control y, por ahora (más adelante tendremos más herramientas para hacer esto más interesante) imprime una string que diga de cuánto va a ser el bono.\n",
    "\n",
    "> Reto opcional: Agrega una variable `sueldo` que sea el sueldo de tu empleado y agrégale el porcentaje de bono a esa variable dependiendo de la condición que se cumpla. Después hasta el final imprime una string interpolada que diga algo como \"Felicidades, tu sueldo es x; tu bono es de x; y el total de sueldo con el bono incluido es de x\". ¡Para que esto funcione también debes de agregar una variable donde guardes la cantidad del bono!"
   ]
  },
  {
   "cell_type": "code",
   "execution_count": 30,
   "id": "a853a5ec",
   "metadata": {},
   "outputs": [
    {
     "name": "stdout",
     "output_type": "stream",
     "text": [
      "Tu sueldo es de: 400500.0 y tu buno es de 40050.0\n"
     ]
    }
   ],
   "source": [
    "ventas_anuales_totales = float(input('Introduce el valor para validar tu bono'))\n",
    "\n",
    "if ventas_anuales_totales > 1000000:\n",
    "    bono1 = ventas_anuales_totales * .20\n",
    "    print(f'tu sueldo es de: {ventas_anuales_totales} y tu bono es de {bono1}')\n",
    "elif ventas_anuales_totales >= 700000 and ventas_anuales_totales <=1000000:\n",
    "    bono2 = ventas_anuales_totales * .15\n",
    "    print(f'Tu sueldo es de: {ventas_anuales_totales} y tu buno es de {bono2}')\n",
    "else:\n",
    "    ventas_anuales_totales >= 400000 and ventas_anuales_totales <=700000\n",
    "    bono3 = ventas_anuales_totales * .10\n",
    "    print(f'Tu sueldo es de: {ventas_anuales_totales} y tu buno es de {bono3}')"
   ]
  }
 ],
 "metadata": {
  "kernelspec": {
   "display_name": "Python 3",
   "language": "python",
   "name": "python3"
  },
  "language_info": {
   "codemirror_mode": {
    "name": "ipython",
    "version": 3
   },
   "file_extension": ".py",
   "mimetype": "text/x-python",
   "name": "python",
   "nbconvert_exporter": "python",
   "pygments_lexer": "ipython3",
   "version": "3.10.6"
  }
 },
 "nbformat": 4,
 "nbformat_minor": 5
}
