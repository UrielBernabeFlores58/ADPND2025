{
 "cells": [
  {
   "cell_type": "markdown",
   "id": "d80a1836",
   "metadata": {},
   "source": [
    "# Estructuras de Control\n",
    "\n",
    "### Objetivo:\n",
    "    -Conocer las estructuras de control, como funcionan y para que sirven \n",
    "---"
   ]
  },
  {
   "cell_type": "markdown",
   "id": "ca816002",
   "metadata": {},
   "source": [
    "## Desarrollo\n",
    " Queremos darle a nuestro programa la capacidad de tomar decisiones. esto puede hacerse utilizando una `sentencia if` utiliza una comparacion para obtener un boleean. si el booleano es `True`, el bloque de la sentencia se ejecuta se ejecutara. Si e; booleano es `False` nos saltamos a lo que sigfue despues del bloque"
   ]
  },
  {
   "cell_type": "code",
   "execution_count": 5,
   "id": "6d8e70e2",
   "metadata": {},
   "outputs": [],
   "source": [
    "var_1 = 4\n",
    "var_2 = 5"
   ]
  },
  {
   "cell_type": "code",
   "execution_count": 6,
   "id": "f851f3f3",
   "metadata": {},
   "outputs": [
    {
     "name": "stdout",
     "output_type": "stream",
     "text": [
      "El bloque se ha ejecutado\n"
     ]
    }
   ],
   "source": [
    "if var_1 < var_2:\n",
    "    print(\"El bloque se ha ejecutado\")"
   ]
  },
  {
   "cell_type": "code",
   "execution_count": 7,
   "id": "0b97c6d0",
   "metadata": {},
   "outputs": [
    {
     "name": "stdout",
     "output_type": "stream",
     "text": [
      "el numero 1 es menor que el numero 2\n"
     ]
    }
   ],
   "source": [
    "var_1 = int(input(\"Introduce el valor\"))\n",
    "var_2 = int(input(\"Introduce el valor\"))\n",
    "\n",
    "if var_1<var_2:\n",
    "    print(f\"el numero {var_1} es menor que el numero {var_2}\")"
   ]
  },
  {
   "cell_type": "code",
   "execution_count": 8,
   "id": "d17d2568",
   "metadata": {},
   "outputs": [],
   "source": [
    "#Funcion que solicita un valor\n",
    "\n",
    "def solicitar():\n",
    "    return  int(input(\"Introduce el valor\"))"
   ]
  },
  {
   "cell_type": "code",
   "execution_count": 9,
   "id": "1ae287c3",
   "metadata": {},
   "outputs": [],
   "source": [
    "# funcion que hace la comparacion\n",
    "\n",
    "def comparar (valor_uno, valor_dos):\n",
    "    if valor_uno < valor_dos:\n",
    "         print(f\"el numero {var_1} es menor que el numero {var_2}\")"
   ]
  },
  {
   "cell_type": "code",
   "execution_count": 10,
   "id": "a1385e5a",
   "metadata": {},
   "outputs": [
    {
     "name": "stdout",
     "output_type": "stream",
     "text": [
      "el numero 2 es menor que el numero 3\n"
     ]
    }
   ],
   "source": [
    "#ejecuciom de ;as funciones\n",
    "var_1 = solicitar()\n",
    "var_2 = solicitar()\n",
    "\n",
    "comparar(var_1, var_2)"
   ]
  },
  {
   "cell_type": "markdown",
   "id": "507e7caa",
   "metadata": {},
   "source": [
    "### INSTRUCCIONES DE EJERCICIOS "
   ]
  },
  {
   "cell_type": "markdown",
   "id": "37047b88",
   "metadata": {},
   "source": [
    "1. **Desarrollar un programa que determine si un número es positivo**\n",
    "2. **Desarrollar un programa que determine si puedes votar**\n",
    "3. **Verificar si un número es par**\n",
    "4. **Realizar una simulación de un login, en el cual se debe verificar si la contraseña es correcta**\n",
    "5. **Realizar un programa que determine si un alumno está aprobado, la calificación mínima es 7**"
   ]
  },
  {
   "cell_type": "code",
   "execution_count": 11,
   "id": "62f711de",
   "metadata": {},
   "outputs": [
    {
     "name": "stdout",
     "output_type": "stream",
     "text": [
      "numero: 2\n"
     ]
    }
   ],
   "source": [
    "#1\n",
    "def numpos():\n",
    "    return int(input(\"Introduce el numero\"))\n",
    "num = numpos()\n",
    "if num >= 0:\n",
    "    print(f\"numero:\",num)"
   ]
  },
  {
   "cell_type": "code",
   "execution_count": 12,
   "id": "c4dfcefd",
   "metadata": {},
   "outputs": [],
   "source": [
    "#2\n",
    "def votar():\n",
    "    return int(input(\"introduce tu edad\"))\n",
    "edad = votar()\n",
    "if edad >= 18:\n",
    "    print(\"Tu eres mayor ya puedes votar\")"
   ]
  },
  {
   "cell_type": "code",
   "execution_count": 13,
   "id": "e94ebb2d",
   "metadata": {},
   "outputs": [
    {
     "name": "stdout",
     "output_type": "stream",
     "text": [
      "si es par: 2\n"
     ]
    }
   ],
   "source": [
    "#3\n",
    "def par():\n",
    "    return int(input(\"Introduce el numero\"))\n",
    "npar = par()\n",
    "if  npar%2 == 0:\n",
    "    print(f\"si es par:\",npar)"
   ]
  },
  {
   "cell_type": "code",
   "execution_count": 14,
   "id": "6fe9fd02",
   "metadata": {},
   "outputs": [],
   "source": [
    "#4\n",
    "contrasena  = 1234\n",
    "\n",
    "pasword = int(input(\"Introduce la contrasenia\"))\n",
    "if pasword == contrasena:\n",
    "    print(\"Bienvenido de nuevo\")"
   ]
  },
  {
   "cell_type": "code",
   "execution_count": 18,
   "id": "5b735bb6",
   "metadata": {},
   "outputs": [],
   "source": [
    "calif = solicitar()\n",
    "if(calif>=7):\n",
    "    print ('Estas Aprobado')"
   ]
  },
  {
   "cell_type": "markdown",
   "id": "2332671a",
   "metadata": {},
   "source": [
    "# OPERADORES LOGICOS\n",
    "---\n",
    "### Operador `or`\n",
    "\n",
    "| A   | B   | A or B |\n",
    "|-----|-----|--------|\n",
    "| F   | F   | F      |\n",
    "| T   | F   | T      |\n",
    "| F   | T   | T      |\n",
    "| T   | T   | T      |\n",
    "\n",
    "### Operador `and`\n",
    "\n",
    "| A   | B   | A and B |\n",
    "|-----|-----|---------|\n",
    "| F   | F   | F       |\n",
    "| T   | F   | F       |\n",
    "| F   | T   | F       |\n",
    "| T   | T   | T       |\n",
    "\n",
    "### Operador `not`\n",
    "\n",
    "| A   | not A |\n",
    "|-----|--------|\n",
    "| F   | T      |\n",
    "| T   | F      |\n",
    "\n"
   ]
  },
  {
   "cell_type": "code",
   "execution_count": 20,
   "id": "db1d82a3",
   "metadata": {},
   "outputs": [
    {
     "data": {
      "text/plain": [
       "True"
      ]
     },
     "execution_count": 20,
     "metadata": {},
     "output_type": "execute_result"
    }
   ],
   "source": [
    "resultado = 4>5 or 5==5\n",
    "resultado"
   ]
  },
  {
   "cell_type": "code",
   "execution_count": 21,
   "id": "31870403",
   "metadata": {},
   "outputs": [
    {
     "data": {
      "text/plain": [
       "False"
      ]
     },
     "execution_count": 21,
     "metadata": {},
     "output_type": "execute_result"
    }
   ],
   "source": [
    "resultado = 4>5 and 5==5\n",
    "resultado"
   ]
  },
  {
   "cell_type": "code",
   "execution_count": null,
   "id": "31e43045",
   "metadata": {},
   "outputs": [],
   "source": [
    "resultado = not(4>5 and 5==5)\n",
    "resultado"
   ]
  },
  {
   "cell_type": "code",
   "execution_count": 22,
   "id": "f70cf11c",
   "metadata": {},
   "outputs": [
    {
     "data": {
      "text/plain": [
       "True"
      ]
     },
     "execution_count": 22,
     "metadata": {},
     "output_type": "execute_result"
    }
   ],
   "source": [
    "resultado = not 4>5 or 5==5\n",
    "resultado"
   ]
  },
  {
   "cell_type": "code",
   "execution_count": 24,
   "id": "3eafa996",
   "metadata": {},
   "outputs": [
    {
     "data": {
      "text/plain": [
       "False"
      ]
     },
     "execution_count": 24,
     "metadata": {},
     "output_type": "execute_result"
    }
   ],
   "source": [
    "resultado = not 4<5 or 5!=5\n",
    "resultado"
   ]
  },
  {
   "cell_type": "markdown",
   "id": "139fbd8c",
   "metadata": {},
   "source": [
    "1. verificar si un numero esta en el rango de diez y 20\n",
    "2. verificar si un usuario tiene acceso a charlys si tiene minimo 18 años o tiene permiso especial\n",
    "3. Verificar si un numero no es igual a 0\n",
    "4. Verificar si un valor esta fuera del rango de 0 y 30"
   ]
  },
  {
   "cell_type": "code",
   "execution_count": null,
   "id": "1f0ac44b",
   "metadata": {},
   "outputs": [
    {
     "name": "stdout",
     "output_type": "stream",
     "text": [
      "tu numero esta dentro del rango\n"
     ]
    }
   ],
   "source": [
    "#1\n",
    "def rango():\n",
    "    return int(input(\"Introduce el numero\"))\n",
    "numra = rango()\n",
    "if numra >= 10 and numra <= 20:\n",
    "    print(f\"tu numero esta dentro del rango\")\n",
    "    "
   ]
  },
  {
   "cell_type": "code",
   "execution_count": null,
   "id": "c5b2d73a",
   "metadata": {},
   "outputs": [],
   "source": [
    "#2\n",
    "def acceso():\n",
    "    return int(input(\"Introduce tu edad\"))\n",
    "edad = acceso()\n",
    "if edad >= 18 or acceso == True:\n",
    "    print(f\"Si tienes edad\")"
   ]
  },
  {
   "cell_type": "code",
   "execution_count": null,
   "id": "1ca2ad19",
   "metadata": {},
   "outputs": [],
   "source": [
    "#3\n",
    "def numdif():\n",
    "    return int(input(\"Introduce el numero\"))\n",
    "numdiferente = numdif()\n",
    "if numdiferente != 0:\n",
    "    print(f\"tu numero no es igual a 0\")"
   ]
  },
  {
   "cell_type": "code",
   "execution_count": null,
   "id": "7d54c851",
   "metadata": {},
   "outputs": [],
   "source": [
    "#1\n",
    "def range():\n",
    "    return int(input(\"Introduce el numero\"))\n",
    "rangenum = range()\n",
    "if rangenum >= 10 and rangenum <= 30:\n",
    "    print(f\"tu numero esta dentro del rango\")"
   ]
  },
  {
   "cell_type": "markdown",
   "id": "0d27259a",
   "metadata": {},
   "source": [
    "Hay veces que queremos tener una accion `default`, que queremos que suceda en caso de que la comparacion sea `false`. Para esto podemos usar una sentencia `else` pienselo como preguntale a uno mismo: \"Si meto mi mano y resulta que encuentro un billete de $50, me compro unos nachos; y si no hay nada vere una pelicula con el bruno llorando de trizteza porque no es mi ex\" \n",
    "```sql\n",
    " pipipi\n",
    " ```"
   ]
  },
  {
   "cell_type": "code",
   "execution_count": 33,
   "id": "fa4d653a",
   "metadata": {},
   "outputs": [
    {
     "name": "stdout",
     "output_type": "stream",
     "text": [
      "la condicion no se cumplio, por lo tanto yo me imprimo\n"
     ]
    }
   ],
   "source": [
    "var1=4\n",
    "var2=5\n",
    "if var1 > var2:\n",
    "    print('La condicion se cumplio')\n",
    "else:\n",
    "    print('la condicion no se cumplio, por lo tanto yo me imprimo')"
   ]
  },
  {
   "cell_type": "code",
   "execution_count": 38,
   "id": "411b89c4",
   "metadata": {},
   "outputs": [
    {
     "ename": "ValueError",
     "evalue": "invalid literal for int() with base 10: ''",
     "output_type": "error",
     "traceback": [
      "\u001b[31m---------------------------------------------------------------------------\u001b[39m",
      "\u001b[31mValueError\u001b[39m                                Traceback (most recent call last)",
      "\u001b[36mCell\u001b[39m\u001b[36m \u001b[39m\u001b[32mIn[38]\u001b[39m\u001b[32m, line 1\u001b[39m\n\u001b[32m----> \u001b[39m\u001b[32m1\u001b[39m number_1 = \u001b[38;5;28;43mint\u001b[39;49m\u001b[43m(\u001b[49m\u001b[38;5;28;43minput\u001b[39;49m\u001b[43m(\u001b[49m\u001b[33;43m'\u001b[39;49m\u001b[33;43mIntroduce el numero 1\u001b[39;49m\u001b[33;43m'\u001b[39;49m\u001b[43m)\u001b[49m\u001b[43m)\u001b[49m\n\u001b[32m      2\u001b[39m number_2 = \u001b[38;5;28mint\u001b[39m(\u001b[38;5;28minput\u001b[39m(\u001b[33m'\u001b[39m\u001b[33mIntroduce el numero 2\u001b[39m\u001b[33m'\u001b[39m))\n\u001b[32m      4\u001b[39m \u001b[38;5;66;03m# Elegir el numero mas grande\u001b[39;00m\n",
      "\u001b[31mValueError\u001b[39m: invalid literal for int() with base 10: ''"
     ]
    }
   ],
   "source": [
    "number_1 = int(input('Introduce el numero 1'))\n",
    "number_2 = int(input('Introduce el numero 2'))\n",
    "\n",
    "# Elegir el numero mas grande\n",
    "\n",
    "if number_1 > number_2:\n",
    "    print(f'El numero {number_1} es mayor al numero {number_2}')\n",
    "else:\n",
    "    print(f'El numero {number_2} es mayor al numero {number_1}')"
   ]
  },
  {
   "cell_type": "code",
   "execution_count": null,
   "id": "c1ea2562",
   "metadata": {},
   "outputs": [],
   "source": [
    "number_1 = int(input('Introduce el numero 1'))\n",
    "number_2 = int(input('Introduce el numero 2'))\n",
    "\n",
    "if number_1 > number_2:\n",
    "    numero_mayor = number_1\n",
    "else:\n",
    "    numero_mayor = number_2\n",
    "\n",
    "print(f'El numero mayor es: {numero_mayor}')"
   ]
  },
  {
   "cell_type": "markdown",
   "id": "227747cd",
   "metadata": {},
   "source": [
    "si queremos quer haya mas de dos opciones, podemos agregar opciones utilizando la sentencia `elif`"
   ]
  },
  {
   "cell_type": "code",
   "execution_count": 40,
   "id": "0ec5c8a9",
   "metadata": {},
   "outputs": [
    {
     "name": "stdout",
     "output_type": "stream",
     "text": [
      "el 14 es mayor a 12\n"
     ]
    }
   ],
   "source": [
    "var_1 = 12\n",
    "var_2 = 14\n",
    "\n",
    "if var_1 > var_2:\n",
    "    print(f'el {var_1} es mayor a {var_2}')\n",
    "elif var_2 > var_1:\n",
    "    print(f'el {var_2} es mayor a {var_1}')\n",
    "else:\n",
    "    print(f'el {var_1} es es igual {var_2}')"
   ]
  },
  {
   "cell_type": "code",
   "execution_count": 44,
   "id": "2de5ffb2",
   "metadata": {},
   "outputs": [
    {
     "name": "stdout",
     "output_type": "stream",
     "text": [
      "tu sueldo es 750000 tu bono es 112500.0 \n",
      " venta total 862500.0\n"
     ]
    }
   ],
   "source": [
    "sueldo = int(input('Introduce tu sueldo'))\n",
    "ventas_totales = int(input('Introduce la venta total'))\n",
    "ventatotal = sueldo + bono\n",
    "if ventas_totales > 1000000:\n",
    "    bono = ventas_totales*.20\n",
    "  \n",
    "elif ventas_totales >= 700000 and ventas_totales <= 1000000:\n",
    "     bono = ventas_totales*.15\n",
    "   \n",
    "elif ventas_totales >= 400000 and ventas_totales <= 700000:\n",
    "    bono = ventas_totales*.10\n",
    "\n",
    "elif ventas_totales < 100000:\n",
    "    bono = ventas_totales*.01\n",
    "\n",
    "\n",
    "print(f'tu sueldo es {sueldo} tu bono es {bono} \\n venta total {ventatotal}' )\n",
    "    #venta total sueldo+bono"
   ]
  }
 ],
 "metadata": {
  "kernelspec": {
   "display_name": "Python 3",
   "language": "python",
   "name": "python3"
  },
  "language_info": {
   "codemirror_mode": {
    "name": "ipython",
    "version": 3
   },
   "file_extension": ".py",
   "mimetype": "text/x-python",
   "name": "python",
   "nbconvert_exporter": "python",
   "pygments_lexer": "ipython3",
   "version": "3.11.9"
  }
 },
 "nbformat": 4,
 "nbformat_minor": 5
}
