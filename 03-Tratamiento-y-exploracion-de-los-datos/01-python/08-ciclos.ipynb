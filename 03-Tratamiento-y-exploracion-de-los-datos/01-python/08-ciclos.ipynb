{
 "cells": [
  {
   "cell_type": "markdown",
   "id": "a111fbeb",
   "metadata": {},
   "source": [
    "# BLUCLES O LOOPS O CICLOS\n",
    "\n",
    "## BUCLES CON WHILE\n",
    "\n",
    "### BUCLE INFINITO\n"
   ]
  },
  {
   "cell_type": "code",
   "execution_count": 8,
   "id": "2b8eedf5",
   "metadata": {},
   "outputs": [
    {
     "ename": "KeyboardInterrupt",
     "evalue": "",
     "output_type": "error",
     "traceback": [
      "\u001b[31m---------------------------------------------------------------------------\u001b[39m",
      "\u001b[31mKeyboardInterrupt\u001b[39m                         Traceback (most recent call last)",
      "\u001b[36mCell\u001b[39m\u001b[36m \u001b[39m\u001b[32mIn[8]\u001b[39m\u001b[32m, line 1\u001b[39m\n\u001b[32m----> \u001b[39m\u001b[32m1\u001b[39m \u001b[38;5;28;01mwhile\u001b[39;00m \u001b[38;5;28;01mTrue\u001b[39;00m:\n\u001b[32m      2\u001b[39m     \u001b[38;5;28;01mpass\u001b[39;00m\n\u001b[32m      3\u001b[39m \u001b[38;5;28mprint\u001b[39m(\u001b[33m'\u001b[39m\u001b[33mEstoy dentro del bucle y no puedo salir\u001b[39m\u001b[33m'\u001b[39m)\n",
      "\u001b[31mKeyboardInterrupt\u001b[39m: "
     ]
    }
   ],
   "source": [
    "while True:\n",
    "    pass\n",
    "print('Estoy dentro del bucle y no puedo salir')"
   ]
  },
  {
   "cell_type": "code",
   "execution_count": 4,
   "id": "ad0f627f",
   "metadata": {},
   "outputs": [
    {
     "name": "stdout",
     "output_type": "stream",
     "text": [
      "el numero mas grande es 10\n"
     ]
    }
   ],
   "source": [
    "bignum = -999999999\n",
    "\n",
    "#ingresa el primer valor\n",
    "number = int(input('Introduce un numero o escribe -1 para terminar'))\n",
    "\n",
    "while number!= -1:\n",
    "    # Es el numero mas grande que el valor numero_grande?\n",
    "    if number > bignum:\n",
    "        bignum = number\n",
    "    number = int(input('Introduce un numero o escribe -1 para terminar'))\n",
    "\n",
    "print(f'el numero mas grande es {bignum}')"
   ]
  },
  {
   "cell_type": "code",
   "execution_count": 8,
   "id": "fe5b9a2a",
   "metadata": {},
   "outputs": [
    {
     "name": "stdout",
     "output_type": "stream",
     "text": [
      "soy el numero: 1\n",
      "soy el numero: 2\n",
      "soy el numero: 3\n",
      "soy el numero: 4\n",
      "soy el numero: 5\n",
      "Fin del programa\n"
     ]
    }
   ],
   "source": [
    "# imprimir todos los numero de 1 a n\n",
    "numero =  int(input('Introduce un numero'))\n",
    "\n",
    "i  = 1\n",
    "\n",
    "while i <= numero:\n",
    "    print (f'soy el numero: {i}')\n",
    "    i = i + 1\n",
    "\n",
    "print('Fin del programa')"
   ]
  },
  {
   "cell_type": "code",
   "execution_count": 1,
   "id": "bae3e18e",
   "metadata": {},
   "outputs": [
    {
     "name": "stdout",
     "output_type": "stream",
     "text": [
      "El promedio de calificaciones es 8.5\n"
     ]
    }
   ],
   "source": [
    "n = float(input('Introduce el numero de calificaciones'))\n",
    "\n",
    "i = 1\n",
    "\n",
    "sumCalif = 0.0\n",
    "\n",
    "calif = 0.0\n",
    "\n",
    "while i <= n:\n",
    "    sumCalif += float(input(f'Introduce la calificacion {i+1}'))\n",
    "    i = i + 1\n",
    "print (f'El promedio de calificaciones es {sumCalif/n}')"
   ]
  },
  {
   "cell_type": "code",
   "execution_count": 3,
   "id": "8eb601fc",
   "metadata": {},
   "outputs": [
    {
     "name": "stdout",
     "output_type": "stream",
     "text": [
      "Numero de Aprobados= 4 \n",
      " Numero de Reprobados= 1\n"
     ]
    }
   ],
   "source": [
    "# realizar un programa que solicite n calificaciones hasta que el usuario de -1 y debe imprimir cuantas fueron aprobatorias, y cuantas fueron reprobatorias\n",
    "cal = int (input('Introduce la calificacion ='))\n",
    "califapro = 0\n",
    "califrep = 0\n",
    "\n",
    "while cal != -1:\n",
    "    if cal >= 7.0 and cal <= 10:\n",
    "        califapro = califapro + 1\n",
    "    elif cal<7.0 and cal>=0:\n",
    "        califrep += 1\n",
    "    cal = int(input('Introduce la calificacion ='))\n",
    "print(f'Numero de Aprobados= {califapro} \\n Numero de Reprobados= {califrep}')"
   ]
  },
  {
   "cell_type": "markdown",
   "id": "6c18aac2",
   "metadata": {},
   "source": [
    "### Bucle con for\n",
    "\n",
    "Otro tipo de bucle disponible con `Python` proviene de la observacion de que avaces es mas importante contar los `giros o vueltas` del bucle que verificar las condiciones\n",
    "```python\n",
    "for i range (100)\n",
    "    # do_something()\n",
    "    pass\n",
    "```\n"
   ]
  },
  {
   "cell_type": "code",
   "execution_count": 8,
   "id": "195448e2",
   "metadata": {},
   "outputs": [
    {
     "name": "stdout",
     "output_type": "stream",
     "text": [
      "el valor de i es: 0\n",
      "el valor de i es: 1\n",
      "el valor de i es: 2\n",
      "el valor de i es: 3\n",
      "el valor de i es: 4\n",
      "el valor de i es: 5\n",
      "el valor de i es: 6\n",
      "el valor de i es: 7\n",
      "el valor de i es: 8\n",
      "el valor de i es: 9\n"
     ]
    }
   ],
   "source": [
    "for i in range (10):\n",
    "    print(f'el valor de i es: {i}')"
   ]
  },
  {
   "cell_type": "code",
   "execution_count": 9,
   "id": "0f3a8488",
   "metadata": {},
   "outputs": [
    {
     "name": "stdout",
     "output_type": "stream",
     "text": [
      "el valor de i es: 1\n",
      "el valor de i es: 2\n",
      "el valor de i es: 3\n",
      "el valor de i es: 4\n",
      "el valor de i es: 5\n",
      "el valor de i es: 6\n",
      "el valor de i es: 7\n",
      "el valor de i es: 8\n",
      "el valor de i es: 9\n",
      "el valor de i es: 10\n"
     ]
    }
   ],
   "source": [
    "for i in range (10):\n",
    "    print(f'el valor de i es: {i+1}')"
   ]
  },
  {
   "cell_type": "code",
   "execution_count": 12,
   "id": "06e057ea",
   "metadata": {},
   "outputs": [
    {
     "name": "stdout",
     "output_type": "stream",
     "text": [
      "2\n",
      "3\n",
      "4\n",
      "5\n",
      "6\n",
      "7\n",
      "10\n",
      "[1, 2, 3]\n"
     ]
    }
   ],
   "source": [
    "lista = [2,3,4,5,6,7,10,[1,2,3]]\n",
    "\n",
    "for li in lista:\n",
    "    print(li)"
   ]
  },
  {
   "cell_type": "markdown",
   "id": "c0ae9826",
   "metadata": {},
   "source": [
    "_Nota:_ \n",
    "El bucle se ha ejecutado n veces (es el argumento de la funcion `range()`) El valor de la ultima variable de control es 9 no 10 (Ya que comienza desde 0, no de 1)\n",
    "\n"
   ]
  },
  {
   "cell_type": "code",
   "execution_count": 13,
   "id": "89f34537",
   "metadata": {},
   "outputs": [
    {
     "name": "stdout",
     "output_type": "stream",
     "text": [
      "el valor de i es 2\n",
      "el valor de i es 3\n",
      "el valor de i es 4\n",
      "el valor de i es 5\n",
      "el valor de i es 6\n",
      "el valor de i es 7\n"
     ]
    }
   ],
   "source": [
    "for i in range(2,8):\n",
    "    print(f'el valor de i es {i}')\n"
   ]
  },
  {
   "cell_type": "code",
   "execution_count": 16,
   "id": "32b5539d",
   "metadata": {},
   "outputs": [
    {
     "name": "stdout",
     "output_type": "stream",
     "text": [
      "el valor de i es: 2\n",
      "el valor de i es: 3\n",
      "el valor de i es: 4\n",
      "el valor de i es: 5\n",
      "el valor de i es: 6\n",
      "el valor de i es: 7\n"
     ]
    }
   ],
   "source": [
    "i = 2\n",
    "while i < 8:\n",
    "    print (f'el valor de i es: {i}')\n",
    "    i+=1"
   ]
  },
  {
   "cell_type": "markdown",
   "id": "5b108891",
   "metadata": {},
   "source": [
    " La Funcion `range` tambien puede aceptar 3 argumentos"
   ]
  },
  {
   "cell_type": "code",
   "execution_count": 17,
   "id": "2accce95",
   "metadata": {},
   "outputs": [
    {
     "name": "stdout",
     "output_type": "stream",
     "text": [
      "el valor de i es= 2\n",
      "el valor de i es= 5\n"
     ]
    }
   ],
   "source": [
    "for i in range(2,8,3):\n",
    "    print (f'el valor de i es= {i}')\n"
   ]
  },
  {
   "cell_type": "code",
   "execution_count": 19,
   "id": "7dde043a",
   "metadata": {},
   "outputs": [
    {
     "name": "stdout",
     "output_type": "stream",
     "text": [
      "El valor de i es : 2\n",
      "El valor de i es : 5\n"
     ]
    }
   ],
   "source": [
    "i=2\n",
    "\n",
    "while i<8:\n",
    "    print (f'El valor de i es : {i}')\n",
    "    i+=3"
   ]
  },
  {
   "cell_type": "markdown",
   "id": "93305274",
   "metadata": {},
   "source": [
    "sentencias brake y continue"
   ]
  },
  {
   "cell_type": "markdown",
   "id": "3116f2da",
   "metadata": {},
   "source": [
    "`break` = sale del bucle imediatamente, e incondicionalmente termina la operación del bucle \n",
    "el progrma comienza a ejecutar la instruccion mas cercana despues del cuerpo del bucle \n",
    "\n",
    "`continue` = se comporta como si el programa se hubiera llegado repentinamente al final del cuerpo: el siguiente turno se inicia y la expresion de condición se prueba de inmediato"
   ]
  },
  {
   "cell_type": "code",
   "execution_count": 21,
   "id": "f9f37236",
   "metadata": {},
   "outputs": [
    {
     "name": "stdout",
     "output_type": "stream",
     "text": [
      "Instruccion break\n",
      "dentro del bucle\n",
      "dentro del bucle\n",
      "fuera del bucle\n"
     ]
    }
   ],
   "source": [
    "# break = finaliza el ciclo\n",
    "\n",
    "print('Instruccion break')\n",
    "for i in range (1,6):\n",
    "    if i == 3:\n",
    "        break\n",
    "    print('dentro del bucle')\n",
    "print('fuera del bucle')"
   ]
  },
  {
   "cell_type": "code",
   "execution_count": 23,
   "id": "8d3bca14",
   "metadata": {},
   "outputs": [
    {
     "name": "stdout",
     "output_type": "stream",
     "text": [
      "\n",
      " Instruccion continue\n",
      "dentro del bucle 1\n",
      "dentro del bucle 2\n",
      "dentro del bucle 4\n",
      "dentro del bucle 5\n",
      "FUERA DEL BUCLE\n"
     ]
    }
   ],
   "source": [
    "#continue\n",
    "print('\\n Instruccion continue')\n",
    "for i in range (1,6):\n",
    "    if i == 3:\n",
    "        continue\n",
    "    print(f'dentro del bucle {i}')\n",
    "print('FUERA DEL BUCLE')"
   ]
  }
 ],
 "metadata": {
  "kernelspec": {
   "display_name": "Python 3",
   "language": "python",
   "name": "python3"
  },
  "language_info": {
   "codemirror_mode": {
    "name": "ipython",
    "version": 3
   },
   "file_extension": ".py",
   "mimetype": "text/x-python",
   "name": "python",
   "nbconvert_exporter": "python",
   "pygments_lexer": "ipython3",
   "version": "3.11.9"
  }
 },
 "nbformat": 4,
 "nbformat_minor": 5
}
