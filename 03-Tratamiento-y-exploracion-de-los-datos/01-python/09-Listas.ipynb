{
 "cells": [
  {
   "cell_type": "markdown",
   "id": "57ca2d93",
   "metadata": {},
   "source": [
    "# Listas \n",
    "\n",
    "1. Objetivos\n",
    "\n",
    "- Entender la sintaxis de las listas en python\n",
    "- Aprender a crear listas y accesarlas\n",
    "\n",
    "---\n",
    "\n",
    "2. Desarrollo:"
   ]
  },
  {
   "cell_type": "markdown",
   "id": "9f11fda8",
   "metadata": {},
   "source": [
    "## Creando listas y accediendo a ellas\n",
    "\n",
    "Las listas son secuencias y ordenadas. El orden de los datos en la lista es el mismo orden que tienen los datos a la hora de ser asignados. Una lista se ve asi"
   ]
  },
  {
   "cell_type": "code",
   "execution_count": 2,
   "id": "39fd2cdc",
   "metadata": {},
   "outputs": [
    {
     "data": {
      "text/plain": [
       "[1, 4, 5, 2, 4]"
      ]
     },
     "execution_count": 2,
     "metadata": {},
     "output_type": "execute_result"
    }
   ],
   "source": [
    "lista_1 = [1,4,5,2,4]\n",
    "lista_1"
   ]
  },
  {
   "cell_type": "code",
   "execution_count": 3,
   "id": "72cca164",
   "metadata": {},
   "outputs": [
    {
     "data": {
      "text/plain": [
       "list"
      ]
     },
     "execution_count": 3,
     "metadata": {},
     "output_type": "execute_result"
    }
   ],
   "source": [
    "type(lista_1)"
   ]
  },
  {
   "cell_type": "markdown",
   "id": "0e8c2375",
   "metadata": {},
   "source": [
    "Cada elemento de la lista tiene un indice que se utiliza para acceder a dicho elemento dado que las listas son ordeadas los indices se van asignando secuencialmente desde el primer elemento hasta el ultimo. El primer indice es siempre `0`, y por lo tanto el ultimo indice es siempre `n -1`, donde `n` es el numero total de elementos en la lista "
   ]
  },
  {
   "cell_type": "code",
   "execution_count": 4,
   "id": "251c5071",
   "metadata": {},
   "outputs": [
    {
     "name": "stdout",
     "output_type": "stream",
     "text": [
      "Primero elemento de la lista 1\n",
      "El ultimo elemento de la lista 4\n"
     ]
    }
   ],
   "source": [
    "# Imprimir el primer elemento de la lista \n",
    "\n",
    "print(f\"Primero elemento de la lista {lista_1[0]}\")\n",
    "print(f\"El ultimo elemento de la lista {lista_1[4]}\")"
   ]
  },
  {
   "cell_type": "code",
   "execution_count": 2,
   "id": "4789ad63",
   "metadata": {},
   "outputs": [
    {
     "ename": "NameError",
     "evalue": "name 'lista_1' is not defined",
     "output_type": "error",
     "traceback": [
      "\u001b[1;31m---------------------------------------------------------------------------\u001b[0m",
      "\u001b[1;31mNameError\u001b[0m                                 Traceback (most recent call last)",
      "Cell \u001b[1;32mIn[2], line 1\u001b[0m\n\u001b[1;32m----> 1\u001b[0m \u001b[43mlista_1\u001b[49m[\u001b[38;5;241m5\u001b[39m]\n",
      "\u001b[1;31mNameError\u001b[0m: name 'lista_1' is not defined"
     ]
    }
   ],
   "source": [
    "lista_1[5]"
   ]
  },
  {
   "cell_type": "code",
   "execution_count": 4,
   "id": "4e04653d",
   "metadata": {},
   "outputs": [
    {
     "name": "stdout",
     "output_type": "stream",
     "text": [
      "Contenido de la lista: [10, 5, 7, 2, 1]\n",
      "<class 'list'>\n"
     ]
    }
   ],
   "source": [
    "numbers = [10, 5, 7, 2, 1]\n",
    "\n",
    "# Imprimir el contenido de la lista\n",
    "print(f\"Contenido de la lista: {numbers}\")\n",
    "print(type(numbers))"
   ]
  },
  {
   "cell_type": "code",
   "execution_count": 6,
   "id": "becc8b8c",
   "metadata": {},
   "outputs": [
    {
     "data": {
      "text/plain": [
       "2"
      ]
     },
     "execution_count": 6,
     "metadata": {},
     "output_type": "execute_result"
    }
   ],
   "source": [
    "#Permite acceder a un elemento de la lista\n",
    "numbers[3]"
   ]
  },
  {
   "cell_type": "markdown",
   "id": "e138ec3d",
   "metadata": {},
   "source": [
    "***Vamos a asignar un nuevo valor 111 al primer elemento de la lista. Lo hacemos de la siguiente manera***"
   ]
  },
  {
   "cell_type": "code",
   "execution_count": 8,
   "id": "c9cb01d9",
   "metadata": {},
   "outputs": [
    {
     "name": "stdout",
     "output_type": "stream",
     "text": [
      "Contenido de la lista: [111, 5, 7, 2, 1]\n"
     ]
    }
   ],
   "source": [
    "numbers[0] = 111\n",
    "print(f\"Contenido de la lista: {numbers}\")"
   ]
  },
  {
   "cell_type": "code",
   "execution_count": 9,
   "id": "2173015a",
   "metadata": {},
   "outputs": [
    {
     "name": "stdout",
     "output_type": "stream",
     "text": [
      "[111, 1, 7, 2, 1]\n"
     ]
    }
   ],
   "source": [
    "# Copear el valor del quinto elemento al segundo\n",
    "numbers[1] = numbers[4]\n",
    "\n",
    "print(numbers)"
   ]
  },
  {
   "cell_type": "markdown",
   "id": "20148452",
   "metadata": {},
   "source": [
    "### Eliminando elementos de la lista"
   ]
  },
  {
   "cell_type": "markdown",
   "id": "f67a5333",
   "metadata": {},
   "source": [
    "Cualquier elemento de la lista puede ser eliminado en cualquier momento - esto se hace con una instrucción llamada `del` (eliminar). Nota: es una instrucción, no una función.\n",
    "\n",
    "Tienes que apuntar al elemento que quieres eliminar - desaparecerá de la lista y la longitud de la lista se reducirá en uno.\n"
   ]
  },
  {
   "cell_type": "code",
   "execution_count": 13,
   "id": "5e7fae34",
   "metadata": {},
   "outputs": [
    {
     "name": "stdout",
     "output_type": "stream",
     "text": [
      "La lista actual es: [111, 1, 2, 1]\n"
     ]
    }
   ],
   "source": [
    "print(f\"La lista actual es: {numbers}\")\n",
    "del numbers[2]  # Imprime los primeros tres elementos"
   ]
  },
  {
   "cell_type": "code",
   "execution_count": 15,
   "id": "5e752588",
   "metadata": {},
   "outputs": [
    {
     "name": "stdout",
     "output_type": "stream",
     "text": [
      "[111, 1, 1]\n",
      "3\n"
     ]
    }
   ],
   "source": [
    "print(numbers)\n",
    "print(len(numbers))  # Imprime la longitud de la lista"
   ]
  },
  {
   "cell_type": "code",
   "execution_count": null,
   "id": "b0944662",
   "metadata": {},
   "outputs": [],
   "source": [
    "del numbers[-2]\n",
    "print(numbers)\n",
    "print(len(numbers))\n"
   ]
  },
  {
   "cell_type": "code",
   "execution_count": null,
   "id": "72ec5283",
   "metadata": {},
   "outputs": [
    {
     "name": "stdout",
     "output_type": "stream",
     "text": [
      "Lista despues de eliminar el elemento 2: [1, 4, 6, 2, 11]\n"
     ]
    }
   ],
   "source": [
    "lista_prueba = [1, 2, 4, 6, 2, 11]\n",
    "# Remove-. Elimina o remueve un elemento de la lista\n",
    "lista_prueba.remove(2)\n",
    "print(f\"Lista despues de eliminar el elemento 2: {lista_prueba}\")"
   ]
  },
  {
   "cell_type": "code",
   "execution_count": 18,
   "id": "9ad52b11",
   "metadata": {},
   "outputs": [],
   "source": [
    "lista_prueba = [1, 2, 3, 4, 5, 2 , 6, 7, 8, 9, 2]"
   ]
  },
  {
   "cell_type": "code",
   "execution_count": 17,
   "id": "b7191bad",
   "metadata": {},
   "outputs": [],
   "source": [
    "def eliminar (valor):\n",
    "    \n",
    "    for indice, elemento in enumerate(lista_prueba):\n",
    "       # print(f'Indice: {indice}, Elemento: {elemento} ')\n",
    "       if elemento == valor:\n",
    "           del lista_prueba[indice]"
   ]
  },
  {
   "cell_type": "code",
   "execution_count": 19,
   "id": "83f0be5a",
   "metadata": {},
   "outputs": [
    {
     "name": "stdout",
     "output_type": "stream",
     "text": [
      "lista actual: [1, 2, 3, 4, 5, 2, 6, 7, 8, 9, 2]\n",
      "Lista despues de eliminar el elemento 2: [1, 3, 4, 5, 6, 7, 8, 9]\n"
     ]
    }
   ],
   "source": [
    "print(f\"lista actual: {lista_prueba}\")\n",
    "eliminar(2)\n",
    "print(f\"Lista despues de eliminar el elemento 2: {lista_prueba}\")"
   ]
  },
  {
   "cell_type": "markdown",
   "id": "db6c00f5",
   "metadata": {},
   "source": [
    "### Los indices negativos son legales\n",
    "\n",
    "` Un elemento con indice =-1 es el ultimo en la lista`"
   ]
  },
  {
   "cell_type": "code",
   "execution_count": 20,
   "id": "39dbca2e",
   "metadata": {},
   "outputs": [
    {
     "name": "stdout",
     "output_type": "stream",
     "text": [
      "El ultimos valor de la lista es: 1\n"
     ]
    }
   ],
   "source": [
    "numbers_2 = [ 111, 7, 2, 1]\n",
    "print(f\"El ultimos valor de la lista es: {numbers_2[-1]}\")"
   ]
  },
  {
   "cell_type": "code",
   "execution_count": 21,
   "id": "74e1ae01",
   "metadata": {},
   "outputs": [
    {
     "name": "stdout",
     "output_type": "stream",
     "text": [
      "El ultimos valor de la lista es: 7\n"
     ]
    }
   ],
   "source": [
    "numbers_2 = [ 111, 7, 2, 1]\n",
    "print(f\"El ultimos valor de la lista es: {numbers_2[-3]}\")"
   ]
  },
  {
   "cell_type": "markdown",
   "id": "6812f292",
   "metadata": {},
   "source": [
    "## Ejercicio de listas\n",
    "\n"
   ]
  },
  {
   "cell_type": "code",
   "execution_count": null,
   "id": "13ba3386",
   "metadata": {},
   "outputs": [
    {
     "name": "stdout",
     "output_type": "stream",
     "text": [
      "[1, 2, 3, 4, 5]\n"
     ]
    }
   ],
   "source": [
    "hat_list = [1, 2, 3, 4, 5]  # Esta es una lista existente de números ocultos en el sombrero.\n",
    "\n",
    "# Paso 1: escribe una línea de código que solicite al usuario\n",
    "# reemplazar el número de en medio con un número entero ingresado por el usuario.\n",
    "\n",
    "# Paso 2: escribe aquí una línea de código que elimine el último elemento de la lista.\n",
    "\n",
    "# Paso 3: escribe aquí una línea de código que imprima la longitud de la lista existente.\n",
    "\n",
    "print(hat_list)"
   ]
  },
  {
   "cell_type": "code",
   "execution_count": 53,
   "id": "7f6ac35b",
   "metadata": {},
   "outputs": [
    {
     "name": "stdout",
     "output_type": "stream",
     "text": [
      "La longitud de la lista es: 4\n",
      "[1, 2, 8, 4]\n"
     ]
    }
   ],
   "source": [
    "hat_list = [1, 2, 3, 4, 5]  # Esta es una lista existente de números ocultos en el sombrero.\n",
    "\n",
    "# Paso 1: escribe una línea de código que solicite al usuario\n",
    "# reemplazar el número de en medio con un número entero ingresado por el usuario.\n",
    "nuevo_numero = int(input(\"Ingresa un número entero para reemplazar el número del medio: \"))\n",
    "hat_list[2] = nuevo_numero \n",
    "\n",
    "# Paso 2: escribe aquí una línea de código que elimine el último elemento de la lista.\n",
    "\n",
    "del hat_list[-1]  # Elimina el último elemento de la lista\n",
    "\n",
    "# Paso 3: escribe aquí una línea de código que imprima la longitud de la lista existente.\n",
    "print(f\"La longitud de la lista es: {len(hat_list)}\")\n",
    "\n",
    "print(hat_list)"
   ]
  },
  {
   "cell_type": "markdown",
   "id": "4a392a18",
   "metadata": {},
   "source": [
    "## Agregando un elementos a una lista: append() e insert()\n",
    "\n",
    "Un nuevo elemento puede ser añadido al final de la lista existente \n",
    "\n",
    "`List.apped(value)`\n",
    "El metodo `insert` es un poco mas inteligente - puede agregar un nuevo elemento en cualquier lugar de la lista, no solo al final\n",
    "\n",
    "\n",
    "Toma dos argumentos:\n",
    "\n",
    "- el primero muestra la ubicación requerida del elemento a insertar; nota: todos los elementos existentes que ocupan ubicaciones a la derecha del nuevo elemento (incluido el que está en la posición indicada) se desplazan a la derecha, para hacer espacio para el nuevo elemento;\n",
    "-  el segundo es el elemento a insertar.\n",
    "Observa el código en el editor. Ve como usamos los métodos append() e insert(). Presta atención a lo que sucede después de usar insert(): el primer elemento an"
   ]
  },
  {
   "cell_type": "code",
   "execution_count": 26,
   "id": "4ef516d8",
   "metadata": {},
   "outputs": [
    {
     "name": "stdout",
     "output_type": "stream",
     "text": [
      "La lista original es: [123, 8, 4, 1]\n",
      "El tamaño de la lista es: 4\n",
      "La lista despues de agg: [123, 8, 4, 1, 10]\n",
      "El tamaño de la lista es: 5\n"
     ]
    }
   ],
   "source": [
    "numbers_3 = [123, 8, 4, 1]\n",
    "print(f\"La lista original es: {numbers_3}\")\n",
    "print(f\"El tamaño de la lista es: {len(numbers_3)}\")\n",
    "\n",
    "# Agregar un elemento al final de la lista con append\n",
    "numbers_3.append(10)\n",
    "print(f\"La lista despues de agg: {numbers_3}\")\n",
    "print(f\"El tamaño de la lista es: {len(numbers_3)}\")"
   ]
  },
  {
   "cell_type": "code",
   "execution_count": 31,
   "id": "975db248",
   "metadata": {},
   "outputs": [
    {
     "name": "stdout",
     "output_type": "stream",
     "text": [
      "Lista original: [222, 222, 123, 8, 4, 1, 10]\n",
      "El tamaño de la lista es: 7\n",
      "Lista original: [222, 222, 222, 123, 8, 4, 1, 10]\n",
      "El tamaño de la lista es: 8\n"
     ]
    }
   ],
   "source": [
    "## Metodo insert\n",
    "print(f\"Lista original: {numbers_3}\")\n",
    "print(f\"El tamaño de la lista es: {len(numbers_3)}\")\n",
    "\n",
    "numbers_3.insert(0, 222)\n",
    "print(f\"Lista original: {numbers_3}\")\n",
    "print(f\"El tamaño de la lista es: {len(numbers_3)}\")"
   ]
  },
  {
   "cell_type": "code",
   "execution_count": 37,
   "id": "0473437f",
   "metadata": {},
   "outputs": [],
   "source": [
    "def llenar_lista_append(valor):\n",
    "    my_list = []\n",
    "    for i in range(valor):\n",
    "        my_list.append(i+1)\n",
    "        \n",
    "    return my_list"
   ]
  },
  {
   "cell_type": "code",
   "execution_count": 38,
   "id": "f4121630",
   "metadata": {},
   "outputs": [],
   "source": [
    "def imprimir_lista(lista):\n",
    "    print(f\"La lista es: {lista}\")"
   ]
  },
  {
   "cell_type": "code",
   "execution_count": 39,
   "id": "8bccf9d5",
   "metadata": {},
   "outputs": [
    {
     "name": "stdout",
     "output_type": "stream",
     "text": [
      "La lista es: [1, 2, 3, 4, 5, 6, 7, 8, 9, 10]\n"
     ]
    }
   ],
   "source": [
    "lista = llenar_lista_append(10)\n",
    "imprimir_lista(lista)"
   ]
  },
  {
   "cell_type": "code",
   "execution_count": 40,
   "id": "6d616086",
   "metadata": {},
   "outputs": [
    {
     "name": "stdout",
     "output_type": "stream",
     "text": [
      "[5, 4, 3, 2, 1]\n"
     ]
    }
   ],
   "source": [
    "my_list = []\n",
    "\n",
    "for i in range(5):\n",
    "    my_list.insert(0, i+1)  # Inserta al inicio de la lista\n",
    "print(my_list)"
   ]
  },
  {
   "cell_type": "code",
   "execution_count": 43,
   "id": "bbbb63d4",
   "metadata": {},
   "outputs": [
    {
     "name": "stdout",
     "output_type": "stream",
     "text": [
      "10\n",
      "1\n",
      "8\n",
      "3\n",
      "5\n"
     ]
    }
   ],
   "source": [
    "# Recorrer la lista con un ciclo\n",
    "\n",
    "mi_lista = [10, 1, 8, 3, 5]\n",
    "for i in mi_lista:\n",
    "    print(i)"
   ]
  },
  {
   "cell_type": "code",
   "execution_count": 44,
   "id": "727dd296",
   "metadata": {},
   "outputs": [
    {
     "name": "stdout",
     "output_type": "stream",
     "text": [
      "La suma de los valores de la lista es: 27\n"
     ]
    }
   ],
   "source": [
    "# Sumar los valores de la lista\n",
    "suma = 0\n",
    "for i in mi_lista:\n",
    "    suma += i\n",
    "    \n",
    "print(f\"La suma de los valores de la lista es: {suma}\")"
   ]
  },
  {
   "cell_type": "markdown",
   "id": "250fa0f9",
   "metadata": {},
   "source": [
    "#### Realizar un programa que permita almacenar varias calificaciones en un lista para despues poder sacar el promedio de ellas, mediante una funcion"
   ]
  },
  {
   "cell_type": "code",
   "execution_count": 48,
   "id": "8b0862ba",
   "metadata": {},
   "outputs": [],
   "source": [
    "def guardar_calificaciones(numero):\n",
    "    lista_calificaciones = []\n",
    "    i = 1\n",
    "    \n",
    "    while i <= numero:\n",
    "        calificacion = float(input(f\"Ingrese la calificación del estudiante {i}: \"))\n",
    "        lista_calificaciones.append(calificacion)\n",
    "        i += 1\n",
    "    return lista_calificaciones"
   ]
  },
  {
   "cell_type": "code",
   "execution_count": 49,
   "id": "db410032",
   "metadata": {},
   "outputs": [
    {
     "name": "stdout",
     "output_type": "stream",
     "text": [
      "[8.0, 8.0, 8.0, 9.0, 9.0]\n"
     ]
    }
   ],
   "source": [
    "lista = guardar_calificaciones(5)\n",
    "print(lista)"
   ]
  },
  {
   "cell_type": "code",
   "execution_count": 50,
   "id": "df06af2b",
   "metadata": {},
   "outputs": [],
   "source": [
    "def guardar_calificaciones2(numero):\n",
    "    lista_calificaciones = []\n",
    "    i = 1\n",
    "    \n",
    "    for i in range(numero):\n",
    "        calificacion = float(input(f\"Ingrese la calificación del estudiante {i}: \"))\n",
    "        lista_calificaciones.append(calificacion)\n",
    "    return lista_calificaciones"
   ]
  },
  {
   "cell_type": "code",
   "execution_count": 51,
   "id": "da7b1cc4",
   "metadata": {},
   "outputs": [
    {
     "name": "stdout",
     "output_type": "stream",
     "text": [
      "[8.0, 7.0, 9.0, 6.0, 8.0]\n"
     ]
    }
   ],
   "source": [
    "lista = guardar_calificaciones(5)\n",
    "print(lista)"
   ]
  }
 ],
 "metadata": {
  "kernelspec": {
   "display_name": "Python 3",
   "language": "python",
   "name": "python3"
  },
  "language_info": {
   "codemirror_mode": {
    "name": "ipython",
    "version": 3
   },
   "file_extension": ".py",
   "mimetype": "text/x-python",
   "name": "python",
   "nbconvert_exporter": "python",
   "pygments_lexer": "ipython3",
   "version": "3.10.11"
  }
 },
 "nbformat": 4,
 "nbformat_minor": 5
}
