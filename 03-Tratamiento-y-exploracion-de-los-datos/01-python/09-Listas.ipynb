{
 "cells": [
  {
   "cell_type": "markdown",
   "id": "8c439294",
   "metadata": {},
   "source": [
    "# Listas\n",
    "\n",
    "1. Objetivos\n",
    "\n",
    "- Entender la sintaxis de las listas en python\n",
    "- Apender a crear listas y accesarlas\n",
    "\n",
    "---\n",
    "\n",
    "2. Desarrollo:"
   ]
  },
  {
   "cell_type": "markdown",
   "id": "5e53f963",
   "metadata": {},
   "source": [
    "## Creando listas y accediendo a ellas.\n",
    "\n",
    "Las listas son secuencias. El orden de los datos en la lista es el mismo orden que tienen los datos a la hora de ser asignado. Una lista se ve asi:"
   ]
  },
  {
   "cell_type": "code",
   "execution_count": 2,
   "id": "ddea0467",
   "metadata": {},
   "outputs": [
    {
     "data": {
      "text/plain": [
       "list"
      ]
     },
     "execution_count": 2,
     "metadata": {},
     "output_type": "execute_result"
    }
   ],
   "source": [
    "lista_1 = [1,4,6,2,4]\n",
    "lista_1\n",
    "\n",
    "type(lista_1)"
   ]
  },
  {
   "cell_type": "markdown",
   "id": "39648ecd",
   "metadata": {},
   "source": [
    "Cada elemento de la lista tiene un indice que se utiliza para acceder a dicho elemento. Dado que las listas son ordenadas, los indices se van asignando secuencialmente desde el porimer elemento hasta el ultimo. El primer indice es siempre `0`, y por lo tanto el ultimo indice es siempre `n-1`, donde `n` es el numero total de elemtnos en la lista."
   ]
  },
  {
   "cell_type": "code",
   "execution_count": 3,
   "id": "7357afdd",
   "metadata": {},
   "outputs": [
    {
     "name": "stdout",
     "output_type": "stream",
     "text": [
      "Primer elemento de la lista: 1\n",
      "El ultimo elemtno de la lista: 4\n"
     ]
    }
   ],
   "source": [
    "# imprimir el primer elemento de la lista\n",
    "\n",
    "print(f'Primer elemento de la lista: {lista_1[0]}')\n",
    "print(f'El ultimo elemtno de la lista: {lista_1[4]}')"
   ]
  },
  {
   "cell_type": "code",
   "execution_count": 4,
   "id": "82f0f643",
   "metadata": {},
   "outputs": [
    {
     "ename": "IndexError",
     "evalue": "list index out of range",
     "output_type": "error",
     "traceback": [
      "\u001b[31m---------------------------------------------------------------------------\u001b[39m",
      "\u001b[31mIndexError\u001b[39m                                Traceback (most recent call last)",
      "\u001b[36mCell\u001b[39m\u001b[36m \u001b[39m\u001b[32mIn[4]\u001b[39m\u001b[32m, line 1\u001b[39m\n\u001b[32m----> \u001b[39m\u001b[32m1\u001b[39m \u001b[43mlista_1\u001b[49m\u001b[43m[\u001b[49m\u001b[32;43m5\u001b[39;49m\u001b[43m]\u001b[49m\n",
      "\u001b[31mIndexError\u001b[39m: list index out of range"
     ]
    }
   ],
   "source": [
    "lista_1[5]"
   ]
  },
  {
   "cell_type": "code",
   "execution_count": 6,
   "id": "f29456e3",
   "metadata": {},
   "outputs": [
    {
     "name": "stdout",
     "output_type": "stream",
     "text": [
      "Contenido de la lista: [10, 5, 7, 2, 1]\n",
      "<class 'list'>\n"
     ]
    }
   ],
   "source": [
    "numbers = [ 10, 5, 7 ,2, 1]\n",
    "\n",
    "# Imprimir el contenido de la lista\n",
    "print (f'Contenido de la lista: {numbers}')\n",
    "print(type(numbers))"
   ]
  },
  {
   "cell_type": "code",
   "execution_count": 7,
   "id": "2b3ef12d",
   "metadata": {},
   "outputs": [
    {
     "data": {
      "text/plain": [
       "2"
      ]
     },
     "execution_count": 7,
     "metadata": {},
     "output_type": "execute_result"
    }
   ],
   "source": [
    "# Permite accesar al valor que se encuentra en la posicion\n",
    "numbers[3]"
   ]
  },
  {
   "cell_type": "markdown",
   "id": "318dc6fd",
   "metadata": {},
   "source": [
    "### Vamos asignar un nuevo valor 111 al primer elemento en la lista. Lo hacemos de la siguiente manera:"
   ]
  },
  {
   "cell_type": "code",
   "execution_count": 8,
   "id": "07e33613",
   "metadata": {},
   "outputs": [
    {
     "name": "stdout",
     "output_type": "stream",
     "text": [
      "[111, 5, 7, 2, 1]\n"
     ]
    }
   ],
   "source": [
    "numbers[0] = 111\n",
    "print(numbers)"
   ]
  },
  {
   "cell_type": "code",
   "execution_count": 9,
   "id": "cf469de4",
   "metadata": {},
   "outputs": [
    {
     "name": "stdout",
     "output_type": "stream",
     "text": [
      "[111, 1, 7, 2, 1]\n"
     ]
    }
   ],
   "source": [
    "# copia el valor del quinto elemento al segundo\n",
    "numbers[1] = numbers[4]\n",
    "\n",
    "print(numbers)"
   ]
  },
  {
   "cell_type": "code",
   "execution_count": 10,
   "id": "834cac08",
   "metadata": {},
   "outputs": [
    {
     "name": "stdout",
     "output_type": "stream",
     "text": [
      "111\n"
     ]
    }
   ],
   "source": [
    "print(numbers [-5])"
   ]
  },
  {
   "cell_type": "markdown",
   "id": "fb1d21b8",
   "metadata": {},
   "source": [
    "### Eliminando elementos de la lista"
   ]
  },
  {
   "cell_type": "markdown",
   "id": "65058e8e",
   "metadata": {},
   "source": [
    "Cualquier elemento de la lista puede ser eliminado en cualquier momento - esto se hace con una instrucción llamada del (eliminar). Nota: es una instrucción, no una función."
   ]
  },
  {
   "cell_type": "markdown",
   "id": "a36e3f57",
   "metadata": {},
   "source": [
    "Tienes que apuntar al elemento que quieres eliminar - desaparecera de la lista y la longuitud de la lista se reducira en uno."
   ]
  },
  {
   "cell_type": "code",
   "execution_count": 14,
   "id": "2a4b665d",
   "metadata": {},
   "outputs": [
    {
     "name": "stdout",
     "output_type": "stream",
     "text": [
      "La lista actual es: [111, 1, 7, 2, 1]\n"
     ]
    }
   ],
   "source": [
    "print(f'La lista actual es: {numbers}')\n",
    "del numbers[2]"
   ]
  },
  {
   "cell_type": "code",
   "execution_count": 15,
   "id": "6a6a76aa",
   "metadata": {},
   "outputs": [
    {
     "name": "stdout",
     "output_type": "stream",
     "text": [
      "La lista actual es: [111, 1, 2, 1]\n",
      "El tamano de la lista es: 4\n"
     ]
    }
   ],
   "source": [
    "print(f'La lista actual es: {numbers}')\n",
    "print(f'El tamano de la lista es: {len(numbers)}')"
   ]
  },
  {
   "cell_type": "code",
   "execution_count": 16,
   "id": "c8d36838",
   "metadata": {},
   "outputs": [
    {
     "name": "stdout",
     "output_type": "stream",
     "text": [
      "La lista actual es: [111, 1, 1]\n",
      "El tamaño de la lista es 3\n"
     ]
    }
   ],
   "source": [
    "del numbers[-2]\n",
    "print(f'La lista actual es: {numbers}')\n",
    "print(f'El tamaño de la lista es {len(numbers)}')"
   ]
  },
  {
   "cell_type": "code",
   "execution_count": 25,
   "id": "caef14f6",
   "metadata": {},
   "outputs": [
    {
     "name": "stdout",
     "output_type": "stream",
     "text": [
      "La lista actual es: [1, 2, 4, 6, 2, 11]\n",
      "El tamaño de la lista es 6\n"
     ]
    }
   ],
   "source": [
    "print(f'La lista actual es: {lista_prueba}')\n",
    "print(f'El tamaño de la lista es {len(lista_prueba)}')"
   ]
  },
  {
   "cell_type": "code",
   "execution_count": 26,
   "id": "45683d45",
   "metadata": {},
   "outputs": [],
   "source": [
    "lista_prueba = [ 1, 2, 4, 6, 2 , 11 ]"
   ]
  },
  {
   "cell_type": "code",
   "execution_count": 27,
   "id": "5fb41e05",
   "metadata": {},
   "outputs": [],
   "source": [
    "def eliminar (valor):\n",
    "    for indice, elemento in enumerate(lista_prueba):\n",
    "        # print(f'indice: {indice}, Elemento: {elemento} ')\n",
    "        if elemento == valor:\n",
    "            del lista_prueba[indice]"
   ]
  },
  {
   "cell_type": "code",
   "execution_count": 28,
   "id": "0c4de51a",
   "metadata": {},
   "outputs": [
    {
     "name": "stdout",
     "output_type": "stream",
     "text": [
      "Lista Actual [1, 2, 4, 6, 2, 11]\n",
      "Lista Despues de eliminar [1, 4, 6, 11]\n"
     ]
    }
   ],
   "source": [
    "print(f'Lista Actual {lista_prueba}')\n",
    "eliminar(2)\n",
    "print(f'Lista Despues de eliminar {lista_prueba}')"
   ]
  },
  {
   "cell_type": "markdown",
   "id": "8c6cb944",
   "metadata": {},
   "source": [
    "### Agregando elementos a una lista: append() e insert()\n",
    "\n",
    "Un numero elemento puede ser añadido al final de la lista existente:\n",
    "\n",
    "`list.append(value)`\n",
    "\n",
    "El metodo `insert()` es un poco mas inteligente - puede agregar un nuevo elemento en cualquier lugar de la lista, no solo al final\n",
    "\n",
    "`list.insert(location, value)`\n",
    "\n",
    "Toma dos argumentos:\n",
    "- El primero muestra la ubicacion requerida del elemento a insertar: nota: todos los elementos existentes que ocupan ubicaciones a la derecha del nuevo.\n",
    "- El segundo es el elemento a insertar:"
   ]
  },
  {
   "cell_type": "code",
   "execution_count": 29,
   "id": "ca14ee7d",
   "metadata": {},
   "outputs": [
    {
     "name": "stdout",
     "output_type": "stream",
     "text": [
      "La lista original es: [123, 8, 4, 1]\n",
      "El tamaño de la lista es: 4\n",
      "La lista despues de agregar al final es: [123, 8, 4, 1, 10]\n",
      "El tamaño de la lista es: 5\n"
     ]
    }
   ],
   "source": [
    "numbers_3 = [ 123, 8, 4, 1 ]\n",
    "print(f'La lista original es: {numbers_3}')\n",
    "print(f'El tamaño de la lista es: {len(numbers_3)}')\n",
    "\n",
    "# Agregar un valor al final de la lista con el método append\n",
    "numbers_3.append(10)\n",
    "print(f'La lista despues de agregar al final es: {numbers_3}')\n",
    "print(f'El tamaño de la lista es: {len(numbers_3)}')"
   ]
  },
  {
   "cell_type": "code",
   "execution_count": 32,
   "id": "aebe520b",
   "metadata": {},
   "outputs": [],
   "source": [
    "def llenar_lista_append ( valor ):\n",
    "    my_list = [] # Crea una lista vacia\n",
    "\n",
    "    for i in range( valor ):\n",
    "        my_list.append(i+1)\n",
    "\n",
    "    return my_list"
   ]
  },
  {
   "cell_type": "code",
   "execution_count": 33,
   "id": "5eb26bfc",
   "metadata": {},
   "outputs": [],
   "source": [
    "def imprimir_lista (lista):\n",
    "    print(f'La lista es: {lista}')"
   ]
  },
  {
   "cell_type": "code",
   "execution_count": 34,
   "id": "47580b68",
   "metadata": {},
   "outputs": [
    {
     "name": "stdout",
     "output_type": "stream",
     "text": [
      "La lista es: [1, 2, 3, 4, 5, 6, 7, 8, 9, 10]\n"
     ]
    }
   ],
   "source": [
    "lista = llenar_lista_append(10)\n",
    "imprimir_lista(lista)"
   ]
  },
  {
   "cell_type": "code",
   "execution_count": 35,
   "id": "ca49248e",
   "metadata": {},
   "outputs": [
    {
     "name": "stdout",
     "output_type": "stream",
     "text": [
      "[5, 4, 3, 2, 1]\n"
     ]
    }
   ],
   "source": [
    "my_list = []\n",
    "\n",
    "for i in range(5):\n",
    "    my_list.insert(0, i+1)\n",
    "\n",
    "print(my_list)"
   ]
  },
  {
   "cell_type": "code",
   "execution_count": 36,
   "id": "c8a78486",
   "metadata": {},
   "outputs": [
    {
     "name": "stdout",
     "output_type": "stream",
     "text": [
      "10\n",
      "1\n",
      "8\n",
      "3\n",
      "5\n"
     ]
    }
   ],
   "source": [
    "# Recorrer la lista con un ciclo\n",
    "mi_lista = [10, 1, 8, 3, 5]\n",
    "\n",
    "for i in mi_lista:\n",
    "    print(i)"
   ]
  },
  {
   "cell_type": "code",
   "execution_count": 37,
   "id": "fe3429c8",
   "metadata": {},
   "outputs": [
    {
     "name": "stdout",
     "output_type": "stream",
     "text": [
      "La suma de los valores de la lista es 27\n"
     ]
    }
   ],
   "source": [
    "# sumar los valores de la lista\n",
    "total = 0\n",
    "\n",
    "for i in mi_lista:\n",
    "    total+=i\n",
    "\n",
    "print(f'La suma de los valores de la lista es {total}')"
   ]
  },
  {
   "cell_type": "markdown",
   "id": "98a52a97",
   "metadata": {},
   "source": [
    "### Realizar un programa que mermita almacenar varias calificaciones en una lista para despues poder sacar el promedio de ellas, utilizando una funcion"
   ]
  },
  {
   "cell_type": "code",
   "execution_count": 39,
   "id": "0e305cf0",
   "metadata": {},
   "outputs": [],
   "source": [
    "def guardar_calificaciones (numero):\n",
    "    lista_calificaciones = []\n",
    "    i = 1\n",
    "    while i<=numero:\n",
    "        calificacion = float(input(f'Solicita la calificacion {i}'))\n",
    "        lista_calificaciones.append(calificacion)\n",
    "        i+=1\n",
    "    return lista_calificaciones"
   ]
  },
  {
   "cell_type": "code",
   "execution_count": 40,
   "id": "65f3fac9",
   "metadata": {},
   "outputs": [
    {
     "name": "stdout",
     "output_type": "stream",
     "text": [
      "[2.8, 9.8, 5.8, 8.9, 4.5]\n"
     ]
    }
   ],
   "source": [
    "lista = guardar_calificaciones(5)\n",
    "print(lista)"
   ]
  }
 ],
 "metadata": {
  "kernelspec": {
   "display_name": "base",
   "language": "python",
   "name": "python3"
  },
  "language_info": {
   "codemirror_mode": {
    "name": "ipython",
    "version": 3
   },
   "file_extension": ".py",
   "mimetype": "text/x-python",
   "name": "python",
   "nbconvert_exporter": "python",
   "pygments_lexer": "ipython3",
   "version": "3.12.3"
  }
 },
 "nbformat": 4,
 "nbformat_minor": 5
}
