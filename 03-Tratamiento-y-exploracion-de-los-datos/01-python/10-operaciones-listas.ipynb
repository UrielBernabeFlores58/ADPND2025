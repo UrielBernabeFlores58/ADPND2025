{
 "cells": [
  {
   "cell_type": "code",
   "execution_count": 1,
   "id": "e5968078",
   "metadata": {},
   "outputs": [
    {
     "name": "stdout",
     "output_type": "stream",
     "text": [
      "lista 1: [1]\n",
      "Lista 2: [1]\n"
     ]
    }
   ],
   "source": [
    "lista_1 = [1]\n",
    "lista_2 = lista_1\n",
    "\n",
    "print(f'lista 1: {lista_1}\\nLista 2: {lista_2}')"
   ]
  },
  {
   "cell_type": "code",
   "execution_count": 2,
   "id": "f627a6fd",
   "metadata": {},
   "outputs": [],
   "source": [
    "lista_2.append(10)"
   ]
  },
  {
   "cell_type": "code",
   "execution_count": 3,
   "id": "59201d8c",
   "metadata": {},
   "outputs": [
    {
     "name": "stdout",
     "output_type": "stream",
     "text": [
      "[1, 10]\n"
     ]
    }
   ],
   "source": [
    "print(lista_2)"
   ]
  },
  {
   "cell_type": "code",
   "execution_count": 4,
   "id": "5c6dd02b",
   "metadata": {},
   "outputs": [
    {
     "name": "stdout",
     "output_type": "stream",
     "text": [
      "[1, 10]\n"
     ]
    }
   ],
   "source": [
    "print(lista_1)"
   ]
  },
  {
   "cell_type": "markdown",
   "id": "b77c6287",
   "metadata": {},
   "source": [
    "## Slicing o Rebanadas"
   ]
  },
  {
   "cell_type": "code",
   "execution_count": 5,
   "id": "705d58ec",
   "metadata": {},
   "outputs": [
    {
     "data": {
      "text/plain": [
       "[3, 4, 5, 6, 7, 8]"
      ]
     },
     "execution_count": 5,
     "metadata": {},
     "output_type": "execute_result"
    }
   ],
   "source": [
    "list_1 = [3,4,5,6,7,8]\n",
    "list_1[:]"
   ]
  },
  {
   "cell_type": "code",
   "execution_count": 6,
   "id": "0b82fe70",
   "metadata": {},
   "outputs": [
    {
     "data": {
      "text/plain": [
       "[3, 4, 5, 6, 7, 8, 11]"
      ]
     },
     "execution_count": 6,
     "metadata": {},
     "output_type": "execute_result"
    }
   ],
   "source": [
    "# Forma correcta\n",
    "\n",
    "list_2 = list_1[:]\n",
    "list_2.append(11)\n",
    "list_2"
   ]
  },
  {
   "cell_type": "code",
   "execution_count": 7,
   "id": "aa72ccc7",
   "metadata": {},
   "outputs": [
    {
     "data": {
      "text/plain": [
       "[3, 4, 5, 6, 7, 8]"
      ]
     },
     "execution_count": 7,
     "metadata": {},
     "output_type": "execute_result"
    }
   ],
   "source": [
    "list_1"
   ]
  },
  {
   "cell_type": "code",
   "execution_count": 8,
   "id": "975cdc11",
   "metadata": {},
   "outputs": [
    {
     "name": "stdout",
     "output_type": "stream",
     "text": [
      "[4, 6, 7, 9, 12]\n"
     ]
    }
   ],
   "source": [
    "x = [4, 6, 7, 9, 12]\n",
    "y = []\n",
    "\n",
    "y = x.copy()\n",
    "print(y)"
   ]
  },
  {
   "cell_type": "markdown",
   "id": "a8846a67",
   "metadata": {},
   "source": [
    "### Slicing & Rebanadas - Indices Negativos\n",
    "\n",
    "Observa el fragmento de codigo a continuacion:\n",
    "\n",
    "`my_list[start:end]`\n",
    "\n",
    "para conformar:\n",
    "\n",
    "1. **start** es el indice del primer elemento incluido en la rebanada\n",
    "2. **end** es el indice del primer elemento no incluido en la rebanada."
   ]
  },
  {
   "cell_type": "code",
   "execution_count": 1,
   "id": "a04aad0c",
   "metadata": {},
   "outputs": [
    {
     "name": "stdout",
     "output_type": "stream",
     "text": [
      "La lista original es [10, 8, 6, 4, 2]\n",
      "la nueva lista es: [10, 8, 6]\n"
     ]
    }
   ],
   "source": [
    "HALO = [10,8,6,4,2]\n",
    "HALO_Reach = HALO[0:3]\n",
    "print(f'La lista original es {HALO}\\nla nueva lista es: {HALO_Reach}') "
   ]
  },
  {
   "cell_type": "code",
   "execution_count": null,
   "id": "a6be7876",
   "metadata": {},
   "outputs": [
    {
     "data": {
      "text/plain": [
       "[10, 4, 2]"
      ]
     },
     "execution_count": 2,
     "metadata": {},
     "output_type": "execute_result"
    }
   ],
   "source": [
    "# Dada la lista [10,8,6,4,2] eliminar los numeros 8 y 6\n",
    "\n",
    "list_3 = [10,8,6,4,2]\n",
    "\n",
    "del list_3[1:3]\n",
    "\n",
    "list_3"
   ]
  },
  {
   "cell_type": "markdown",
   "id": "f7d068b1",
   "metadata": {},
   "source": [
    "## pop remueve el ultimo elemento de la lista si se llama sin argumentos"
   ]
  },
  {
   "cell_type": "code",
   "execution_count": 3,
   "id": "f2ffafbc",
   "metadata": {},
   "outputs": [
    {
     "data": {
      "text/plain": [
       "[10, 4]"
      ]
     },
     "execution_count": 3,
     "metadata": {},
     "output_type": "execute_result"
    }
   ],
   "source": [
    "list_3.pop()\n",
    "list_3"
   ]
  },
  {
   "cell_type": "code",
   "execution_count": 4,
   "id": "99cae8be",
   "metadata": {},
   "outputs": [],
   "source": [
    "list_3.append(7)\n",
    "list_3.append(5)\n",
    "list_3.append(9)\n",
    "list_3.append(11)"
   ]
  },
  {
   "cell_type": "code",
   "execution_count": 5,
   "id": "7235b8e0",
   "metadata": {},
   "outputs": [
    {
     "data": {
      "text/plain": [
       "[10, 4, 7, 5, 9, 11]"
      ]
     },
     "execution_count": 5,
     "metadata": {},
     "output_type": "execute_result"
    }
   ],
   "source": [
    "list_3"
   ]
  },
  {
   "cell_type": "code",
   "execution_count": 6,
   "id": "a3a9708b",
   "metadata": {},
   "outputs": [
    {
     "data": {
      "text/plain": [
       "[10, 7, 5, 9, 11]"
      ]
     },
     "execution_count": 6,
     "metadata": {},
     "output_type": "execute_result"
    }
   ],
   "source": [
    "list_3.pop(1)\n",
    "list_3"
   ]
  },
  {
   "cell_type": "code",
   "execution_count": 10,
   "id": "534ef259",
   "metadata": {},
   "outputs": [
    {
     "name": "stdout",
     "output_type": "stream",
     "text": [
      "['a', 12, True]\n",
      "<class 'list'>\n"
     ]
    }
   ],
   "source": [
    "list_example = [\"a\", 12, True]\n",
    "print(list_example)\n",
    "print(type(list_example))"
   ]
  },
  {
   "cell_type": "code",
   "execution_count": 12,
   "id": "7bf58c55",
   "metadata": {},
   "outputs": [
    {
     "name": "stdout",
     "output_type": "stream",
     "text": [
      "[['hallway', 100], ['kitchen', 85]]\n",
      "<class 'list'>\n"
     ]
    }
   ],
   "source": [
    "# Lista de \n",
    "\n",
    "list_house = [['hallway', 100], ['kitchen', 85]]\n",
    "print(list_house)\n",
    "print(type(list_house))"
   ]
  },
  {
   "cell_type": "code",
   "execution_count": 13,
   "id": "308aa860",
   "metadata": {},
   "outputs": [
    {
     "data": {
      "text/plain": [
       "'kitchen'"
      ]
     },
     "execution_count": 13,
     "metadata": {},
     "output_type": "execute_result"
    }
   ],
   "source": [
    "# Tiene acceso a la lista en la posicion 0 y su elemento en la posicion 1\n",
    "list_house[1][0] "
   ]
  },
  {
   "cell_type": "code",
   "execution_count": 23,
   "id": "99d8ab5a",
   "metadata": {},
   "outputs": [
    {
     "name": "stdout",
     "output_type": "stream",
     "text": [
      "['heydy', 22, 'ines', 54, 'henry', 33, 'oscar', 38]\n"
     ]
    }
   ],
   "source": [
    "list_family = ['heydy', 22, 'ines', 54, 'henry', 33, 'oscar', 38]\n",
    "print(list_family)"
   ]
  },
  {
   "cell_type": "code",
   "execution_count": 15,
   "id": "8744c93f",
   "metadata": {},
   "outputs": [
    {
     "name": "stdout",
     "output_type": "stream",
     "text": [
      "ines\n",
      "ines\n"
     ]
    }
   ],
   "source": [
    "# Indexacion (Entrar a algun lugar de la lista)\n",
    "print(list_family[2])\n",
    "\n",
    "# Inexacion negativa\n",
    "print(list_family[-6])"
   ]
  },
  {
   "cell_type": "code",
   "execution_count": 19,
   "id": "6adba234",
   "metadata": {},
   "outputs": [
    {
     "name": "stdout",
     "output_type": "stream",
     "text": [
      "[54, 'henry']\n",
      "['heydy', 22, 'ines', 54, 'henry']\n",
      "[33, 'oscar', 38]\n"
     ]
    }
   ],
   "source": [
    "# slicing [start:end]\n",
    "#           inclusivo: exclusive\n",
    "\n",
    "print(list_family[3:5]) # No toma el ultimo digito\n",
    "print(list_family[:5]) # Desde el inicio hasta la posicion 4\n",
    "print(list_family[5:]) # Desde la posicion 5 hasta el final"
   ]
  },
  {
   "cell_type": "code",
   "execution_count": 24,
   "id": "0f2f0c04",
   "metadata": {},
   "outputs": [
    {
     "name": "stdout",
     "output_type": "stream",
     "text": [
      "['heydy', 22, 'ines', 54, 'henry', 33, 'oscar', 37]\n",
      "['Mayumy', 24, 'ines', 54, 'henry', 33, 'oscar', 37]\n"
     ]
    }
   ],
   "source": [
    "list_family[-1] = 37\n",
    "print(list_family)\n",
    "\n",
    "list_family[:2] = [\"Mayumy\", 24]\n",
    "print(list_family)"
   ]
  },
  {
   "cell_type": "code",
   "execution_count": 26,
   "id": "a75a3a30",
   "metadata": {},
   "outputs": [
    {
     "name": "stdout",
     "output_type": "stream",
     "text": [
      "['Mayumy', 24, 'ines', 54, 'henry', 33, 'oscar', 37, 'Achuchena', 12]\n",
      "['Mayumy', 24, 'ines', 'henry', 33, 'oscar', 37, 'Achuchena', 12]\n"
     ]
    }
   ],
   "source": [
    "# Agregar y remover elementos de la lista\n",
    "\n",
    "# Agregar\n",
    "fam_ext = list_family + ['Achuchena', 12]\n",
    "print(fam_ext)\n",
    "\n",
    "# Elininar \n",
    "del(fam_ext[3])\n",
    "# fam_ext.pop(3)\n",
    "# fam_ext.remove(54)\n",
    "print(fam_ext)"
   ]
  },
  {
   "cell_type": "code",
   "execution_count": 29,
   "id": "eb523831",
   "metadata": {},
   "outputs": [
    {
     "name": "stdout",
     "output_type": "stream",
     "text": [
      "['hallway', 11.25, 'kitchen', 18.0, 'chill zone', 20.0, 'bedroom', 10.75, 'bathroom', 10.5, 'garage', 15.45]\n"
     ]
    }
   ],
   "source": [
    "#Ejercicio  - Eliminar 'poolhouse' y 24.5\n",
    "\n",
    "areas = [\"hallway\", 11.25, 'kitchen', 18.0,\n",
    "         \"chill zone\", 20.0, 'bedroom', 10.75,\n",
    "         \"bathroom\", 10.50, \"poolhouse\", 24.5,\n",
    "         'garage', 15.45]\n",
    "\n",
    "del(areas[10:12])\n",
    "print(areas)"
   ]
  },
  {
   "cell_type": "markdown",
   "id": "e17dfc5c",
   "metadata": {},
   "source": [
    "# Funciones y Paquetes"
   ]
  },
  {
   "cell_type": "markdown",
   "id": "0032db5b",
   "metadata": {},
   "source": [
    "## **Funcion**\n",
    "\n",
    "Es una pieza de codigo reutilizable, destinada a resolver una tarea en particula."
   ]
  },
  {
   "cell_type": "code",
   "execution_count": 30,
   "id": "e1427e9c",
   "metadata": {},
   "outputs": [
    {
     "name": "stdout",
     "output_type": "stream",
     "text": [
      "[22, 54, 33, 38, 36]\n",
      "El tamaño de la lista es: 5\n",
      "El valor maximo de la lista es: 54\n"
     ]
    }
   ],
   "source": [
    "list_fam = [22, 54, 33, 38, 36]\n",
    "print(list_fam)\n",
    "print(f'El tamaño de la lista es: {len(list_fam)}')\n",
    "print(f'El valor maximo de la lista es: {max(list_fam)}')"
   ]
  },
  {
   "cell_type": "code",
   "execution_count": 31,
   "id": "a8694758",
   "metadata": {},
   "outputs": [
    {
     "data": {
      "text/plain": [
       "1.69"
      ]
     },
     "execution_count": 31,
     "metadata": {},
     "output_type": "execute_result"
    }
   ],
   "source": [
    "round(1.689,2)"
   ]
  },
  {
   "cell_type": "code",
   "execution_count": 32,
   "id": "9f9bfc6e",
   "metadata": {},
   "outputs": [
    {
     "name": "stdout",
     "output_type": "stream",
     "text": [
      "Help on built-in function round in module builtins:\n",
      "\n",
      "round(number, ndigits=None)\n",
      "    Round a number to a given precision in decimal digits.\n",
      "\n",
      "    The return value is an integer if ndigits is omitted or None.  Otherwise\n",
      "    the return value has the same type as the number.  ndigits may be negative.\n",
      "\n"
     ]
    }
   ],
   "source": [
    "help(round)"
   ]
  },
  {
   "cell_type": "code",
   "execution_count": 34,
   "id": "d66e6298",
   "metadata": {},
   "outputs": [
    {
     "name": "stdout",
     "output_type": "stream",
     "text": [
      "[18.0, 20.0, 51.25]\n",
      "[18.0, 20.0, 51.25]\n",
      "[51.25, 20.0, 18.0]\n"
     ]
    }
   ],
   "source": [
    "first = [51.25, 18.0, 20.0]\n",
    "full_sorted = sorted(first) # Ordena de forma ascendente\n",
    "full_sorted_asc = sorted(first, reverse=False) # Ascendente\n",
    "full_sorted_desc = sorted(first, reverse=True) # descendente\n",
    "\n",
    "print(full_sorted)\n",
    "print(full_sorted_asc)\n",
    "print(full_sorted_desc)"
   ]
  },
  {
   "cell_type": "markdown",
   "id": "9f443d76",
   "metadata": {},
   "source": [
    "### **Metodos**\n",
    "\n",
    "En python todo es objeto. Y cada objeto tiene metodos especificos asociados.\n",
    "\n",
    "- Objetos con diferentes tipos pueden tener metodos con el mismo nombre."
   ]
  },
  {
   "cell_type": "code",
   "execution_count": 35,
   "id": "5fd1dc4e",
   "metadata": {},
   "outputs": [
    {
     "name": "stdout",
     "output_type": "stream",
     "text": [
      "Indice: 4\n",
      "Contar: 2\n"
     ]
    }
   ],
   "source": [
    "list_fam = ['heydy', 22, 'ines', 54, 'henry', 33, 'oscar', 54]\n",
    "\n",
    "print(f\"Indice: {list_fam.index('henry')}\") # Obtiene el indice de la lista\n",
    "print(f'Contar: {list_fam.count(54)}') # Contar cuantas veces aparece algo"
   ]
  },
  {
   "cell_type": "code",
   "execution_count": 36,
   "id": "37378ff5",
   "metadata": {},
   "outputs": [
    {
     "name": "stdout",
     "output_type": "stream",
     "text": [
      "['heydy', 22, 'ines', 54, 33, 'oscar', 54]\n"
     ]
    }
   ],
   "source": [
    "del(list_fam[list_fam.index('henry')])\n",
    "print(list_fam)"
   ]
  },
  {
   "cell_type": "code",
   "execution_count": 37,
   "id": "30097b68",
   "metadata": {},
   "outputs": [
    {
     "name": "stdout",
     "output_type": "stream",
     "text": [
      "Mayumi\n"
     ]
    }
   ],
   "source": [
    "name = \"Mayumi\"\n",
    "print(name.capitalize())"
   ]
  },
  {
   "cell_type": "code",
   "execution_count": 38,
   "id": "2f9a9d85",
   "metadata": {},
   "outputs": [
    {
     "name": "stdout",
     "output_type": "stream",
     "text": [
      "Susel\n"
     ]
    }
   ],
   "source": [
    "lista_entornos = ['susel', 'bandon', 'alejandro', 'gabriel']\n",
    "lista_entornos = lista_entornos[0].capitalize()\n",
    "print(lista_entornos)"
   ]
  },
  {
   "cell_type": "code",
   "execution_count": 39,
   "id": "c046612d",
   "metadata": {},
   "outputs": [
    {
     "name": "stdout",
     "output_type": "stream",
     "text": [
      "Ma*umi\n"
     ]
    }
   ],
   "source": [
    "print(name.replace('y', '*'))"
   ]
  },
  {
   "cell_type": "code",
   "execution_count": 40,
   "id": "e6d78481",
   "metadata": {},
   "outputs": [
    {
     "data": {
      "text/plain": [
       "'MAYUMI'"
      ]
     },
     "execution_count": 40,
     "metadata": {},
     "output_type": "execute_result"
    }
   ],
   "source": [
    "name.upper()"
   ]
  },
  {
   "cell_type": "code",
   "execution_count": 41,
   "id": "f3157001",
   "metadata": {},
   "outputs": [
    {
     "name": "stdout",
     "output_type": "stream",
     "text": [
      "['heydy', 22, 'ines', 54, 33, 'oscar', 54]\n",
      "[54, 'oscar', 33, 54, 'ines', 22, 'heydy']\n"
     ]
    }
   ],
   "source": [
    "print(list_fam)\n",
    "list_fam.reverse()\n",
    "print(list_fam)"
   ]
  }
 ],
 "metadata": {
  "kernelspec": {
   "display_name": "base",
   "language": "python",
   "name": "python3"
  },
  "language_info": {
   "codemirror_mode": {
    "name": "ipython",
    "version": 3
   },
   "file_extension": ".py",
   "mimetype": "text/x-python",
   "name": "python",
   "nbconvert_exporter": "python",
   "pygments_lexer": "ipython3",
   "version": "3.12.3"
  }
 },
 "nbformat": 4,
 "nbformat_minor": 5
}
