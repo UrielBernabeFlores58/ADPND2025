{
 "cells": [
  {
   "cell_type": "markdown",
   "id": "016a9eee",
   "metadata": {},
   "source": [
    "#  OPERACIONES CON LISTAS"
   ]
  },
  {
   "cell_type": "markdown",
   "id": "acdf0732",
   "metadata": {},
   "source": [
    "## Copiar una lista a otra"
   ]
  },
  {
   "cell_type": "code",
   "execution_count": 8,
   "id": "bb1b703f",
   "metadata": {},
   "outputs": [
    {
     "name": "stdout",
     "output_type": "stream",
     "text": [
      "lista 1:[1] \n",
      "lista 2:[1]\n"
     ]
    }
   ],
   "source": [
    "# FORMA INCORRECTA DE COPIAR UNA LISTA A OTRA \n",
    "lista_1 = [1]\n",
    "lista_2 = lista_1\n",
    "\n",
    "print(f'lista 1:{lista_1} \\nlista 2:{lista_2}')"
   ]
  },
  {
   "cell_type": "code",
   "execution_count": 5,
   "id": "1cc40321",
   "metadata": {},
   "outputs": [],
   "source": [
    "lista_2.append(10)\n"
   ]
  },
  {
   "cell_type": "code",
   "execution_count": 6,
   "id": "ab459e7c",
   "metadata": {},
   "outputs": [
    {
     "name": "stdout",
     "output_type": "stream",
     "text": [
      "[1, 10]\n"
     ]
    }
   ],
   "source": [
    "print(lista_2)"
   ]
  },
  {
   "cell_type": "code",
   "execution_count": 7,
   "id": "66dc5cca",
   "metadata": {},
   "outputs": [
    {
     "name": "stdout",
     "output_type": "stream",
     "text": [
      "[1, 10]\n"
     ]
    }
   ],
   "source": [
    "print(lista_1)"
   ]
  },
  {
   "cell_type": "markdown",
   "id": "56d1c689",
   "metadata": {},
   "source": [
    "### SLICING O REBANADAS"
   ]
  },
  {
   "cell_type": "code",
   "execution_count": 11,
   "id": "f58bd0a4",
   "metadata": {},
   "outputs": [
    {
     "data": {
      "text/plain": [
       "[3, 4, 5, 6, 7, 8]"
      ]
     },
     "execution_count": 11,
     "metadata": {},
     "output_type": "execute_result"
    }
   ],
   "source": [
    "list1= [3,4,5,6,7,8]\n",
    "list1[:]"
   ]
  },
  {
   "cell_type": "code",
   "execution_count": 14,
   "id": "c563885a",
   "metadata": {},
   "outputs": [
    {
     "data": {
      "text/plain": [
       "[3, 4, 5, 6, 7, 8, 11]"
      ]
     },
     "execution_count": 14,
     "metadata": {},
     "output_type": "execute_result"
    }
   ],
   "source": [
    "# FORMA CORRECTA\n",
    "\n",
    "list_2 = list1[:]\n",
    "list_2.append(11)\n",
    "list_2"
   ]
  },
  {
   "cell_type": "code",
   "execution_count": 15,
   "id": "c77d1efc",
   "metadata": {},
   "outputs": [
    {
     "data": {
      "text/plain": [
       "[3, 4, 5, 6, 7, 8]"
      ]
     },
     "execution_count": 15,
     "metadata": {},
     "output_type": "execute_result"
    }
   ],
   "source": [
    "list1"
   ]
  },
  {
   "cell_type": "code",
   "execution_count": 18,
   "id": "50c586b2",
   "metadata": {},
   "outputs": [
    {
     "name": "stdout",
     "output_type": "stream",
     "text": [
      "[4, 6, 7, 9, 12]\n"
     ]
    }
   ],
   "source": [
    "x =[4,6,7,9,12]\n",
    "y = []\n",
    "y= x.copy()\n",
    "\n",
    "print (y)"
   ]
  },
  {
   "cell_type": "markdown",
   "id": "38238518",
   "metadata": {},
   "source": [
    "### SLICING O REBANADAS - INDICES NEGATIVOS\n",
    "\n",
    "obserba el fragmento de codigo a continuacion:\n",
    "`my_list[start:end]`\n",
    "\n",
    "\n",
    "para confirmar :\n",
    "\n",
    "1. **start** es el indice del primer elemento incluido de la rebanada\n",
    "2. **end** es el indice del primer elemento no incluido en la rebanada\n"
   ]
  },
  {
   "cell_type": "code",
   "execution_count": 29,
   "id": "729de832",
   "metadata": {},
   "outputs": [
    {
     "data": {
      "text/plain": [
       "[10, 8, 6]"
      ]
     },
     "execution_count": 29,
     "metadata": {},
     "output_type": "execute_result"
    }
   ],
   "source": [
    "klist= [10,8,6,4,2]\n",
    "klist[:3]\n",
    "\n"
   ]
  },
  {
   "cell_type": "code",
   "execution_count": null,
   "id": "0b4b2b55",
   "metadata": {},
   "outputs": [],
   "source": [
    "klist2 = klist[0:3]"
   ]
  },
  {
   "cell_type": "code",
   "execution_count": 1,
   "id": "70f6afca",
   "metadata": {},
   "outputs": [
    {
     "data": {
      "text/plain": [
       "[10, 4, 2]"
      ]
     },
     "execution_count": 1,
     "metadata": {},
     "output_type": "execute_result"
    }
   ],
   "source": [
    "# DADA LA LISTA [10,8,6,4,2] ELIMIAR LOS NUMEROS EL 8 Y EL 6\n",
    "\n",
    "list_3 = [10,8,6,4,2]\n",
    "\n",
    "del list_3 [1:3]\n",
    "\n",
    "list_3"
   ]
  },
  {
   "cell_type": "markdown",
   "id": "d7585597",
   "metadata": {},
   "source": [
    "### `pop` agrega un remueve el ultimo elemento de la lista si se llama sin argumentos "
   ]
  },
  {
   "cell_type": "code",
   "execution_count": 4,
   "id": "ee330be0",
   "metadata": {},
   "outputs": [
    {
     "data": {
      "text/plain": [
       "[10, 4, 2]"
      ]
     },
     "execution_count": 4,
     "metadata": {},
     "output_type": "execute_result"
    }
   ],
   "source": [
    "list_3\n"
   ]
  },
  {
   "cell_type": "code",
   "execution_count": 5,
   "id": "dcf91dd4",
   "metadata": {},
   "outputs": [
    {
     "data": {
      "text/plain": [
       "[10, 4]"
      ]
     },
     "execution_count": 5,
     "metadata": {},
     "output_type": "execute_result"
    }
   ],
   "source": [
    "list_3.pop()\n",
    "list_3"
   ]
  },
  {
   "cell_type": "code",
   "execution_count": null,
   "id": "b6d75d80",
   "metadata": {},
   "outputs": [],
   "source": [
    "# reiniciar lista list_3 = []\n",
    "list_3.append(7)\n",
    "list_3.append(5)\n",
    "list_3.append(9)\n",
    "list_3.append(11)\n",
    "list_3.append(5)"
   ]
  },
  {
   "cell_type": "code",
   "execution_count": 9,
   "id": "90d71d7d",
   "metadata": {},
   "outputs": [
    {
     "data": {
      "text/plain": [
       "[10, 4, 7, 5, 9, 11, 7, 5, 9, 11, 5]"
      ]
     },
     "execution_count": 9,
     "metadata": {},
     "output_type": "execute_result"
    }
   ],
   "source": [
    "list_3\n"
   ]
  },
  {
   "cell_type": "code",
   "execution_count": 11,
   "id": "f2acf348",
   "metadata": {},
   "outputs": [
    {
     "data": {
      "text/plain": [
       "[10, 4, 7, 9, 7, 5, 9, 11, 5]"
      ]
     },
     "execution_count": 11,
     "metadata": {},
     "output_type": "execute_result"
    }
   ],
   "source": [
    "list_3.pop(3)\n",
    "list_3"
   ]
  },
  {
   "cell_type": "code",
   "execution_count": 15,
   "id": "6c3a4f06",
   "metadata": {},
   "outputs": [
    {
     "name": "stdout",
     "output_type": "stream",
     "text": [
      "['a', 12, True]\n",
      "<class 'list'>\n"
     ]
    }
   ],
   "source": [
    "list_example = [\"a\",12, True]\n",
    "print(list_example)\n",
    "print(type(list_example))"
   ]
  },
  {
   "cell_type": "code",
   "execution_count": 16,
   "id": "b3cc8281",
   "metadata": {},
   "outputs": [
    {
     "name": "stdout",
     "output_type": "stream",
     "text": [
      "[['hallway', 100], ['kitchen', 85]]\n",
      "<class 'list'>\n"
     ]
    }
   ],
   "source": [
    "# lista de listas \n",
    "list_house = [['hallway', 100], ['kitchen', 85]]\n",
    "print(list_house)\n",
    "print(type(list_house))\n"
   ]
  },
  {
   "cell_type": "code",
   "execution_count": 18,
   "id": "0f262742",
   "metadata": {},
   "outputs": [
    {
     "data": {
      "text/plain": [
       "'hallway'"
      ]
     },
     "execution_count": 18,
     "metadata": {},
     "output_type": "execute_result"
    }
   ],
   "source": [
    "#tiene acceso a la lista en la posicion a y su elemento en la posicion 1\n",
    "list_house[1][0]\n",
    "list_house[0][0]"
   ]
  },
  {
   "cell_type": "code",
   "execution_count": 29,
   "id": "b3293529",
   "metadata": {},
   "outputs": [
    {
     "name": "stdout",
     "output_type": "stream",
     "text": [
      "['heydy', 22, 'ines', 54, 'henry', 33, 'oscar', 58]\n"
     ]
    }
   ],
   "source": [
    "list_family = ['heydy',22,'ines',54,'henry',33,'oscar',58]\n",
    "print(list_family)"
   ]
  },
  {
   "cell_type": "code",
   "execution_count": 22,
   "id": "f18d7738",
   "metadata": {},
   "outputs": [
    {
     "name": "stdout",
     "output_type": "stream",
     "text": [
      "ines\n",
      "ines\n"
     ]
    }
   ],
   "source": [
    "# indexisacion\n",
    "print(list_family[2])\n",
    "print(list_family[-6])"
   ]
  },
  {
   "cell_type": "code",
   "execution_count": 24,
   "id": "8ddaf8ea",
   "metadata": {},
   "outputs": [
    {
     "name": "stdout",
     "output_type": "stream",
     "text": [
      "[54, 'henry']\n",
      "['heydy', 22, 'ines', 54, 'henry']\n",
      "[33, 'oscar', 58]\n"
     ]
    }
   ],
   "source": [
    "#Siling [start:end]\n",
    "# start es inclusive (incluye) end (excluye)\n",
    "\n",
    "print(list_family[3:5]) # no toma el ultimo digito \n",
    "print(list_family[:5]) # Desde el inicio hasta la posicion 4 (end quita 1 a el argumento de la posicion indicada)\n",
    "print(list_family[5:]) # desde la posicion 5 hasta el final"
   ]
  },
  {
   "cell_type": "markdown",
   "id": "675c5ac4",
   "metadata": {},
   "source": [
    "### ***Manipular listas***"
   ]
  },
  {
   "cell_type": "code",
   "execution_count": 25,
   "id": "36310f96",
   "metadata": {},
   "outputs": [
    {
     "name": "stdout",
     "output_type": "stream",
     "text": [
      "['heydy', 22, 'ines', 54, 'henry', 33, 'oscar', 58]\n"
     ]
    }
   ],
   "source": [
    "print(list_family)"
   ]
  },
  {
   "cell_type": "code",
   "execution_count": 30,
   "id": "f6789e87",
   "metadata": {},
   "outputs": [
    {
     "name": "stdout",
     "output_type": "stream",
     "text": [
      "['heydy', 22, 'ines', 54, 'henry', 33, 'oscar', 37]\n",
      "['mayumi', 24, 'ines', 54, 'henry', 33, 'oscar', 37]\n"
     ]
    }
   ],
   "source": [
    "list_family[-1] = 37\n",
    "print (list_family)\n",
    "# print(f'la nueva lista es {list_family}')\n",
    "\n",
    "list_family[:2] = [\"mayumi\",24]\n",
    "print(list_family)\n"
   ]
  },
  {
   "cell_type": "code",
   "execution_count": null,
   "id": "7428fd42",
   "metadata": {},
   "outputs": [
    {
     "name": "stdout",
     "output_type": "stream",
     "text": [
      "['mayumi', 24, 'ines', 54, 'henry', 33, 'oscar', 37, 'Achuchena', 12]\n",
      "['mayumi', 24, 'ines', 'henry', 33, 'oscar', 37, 'Achuchena', 12]\n"
     ]
    }
   ],
   "source": [
    "# agregar y remover elementos de la lista \n",
    "\n",
    "\n",
    "# Agregar\n",
    "\n",
    "familia_extendida = list_family + ['Achuchena',12]\n",
    "print(familia_extendida)\n",
    "\n",
    "#pop quita el ultimo valor\n",
    "\n",
    "# Eliminar \n",
    "del familia_extendida [3] #elimina los parametros \n",
    "#ejemplos\n",
    "#familia_extendida.remove(54) # primero que encuentra  \n",
    "#familia_extendida.pop(3) #para eliminar el ultimo \n",
    "print (familia_extendida)"
   ]
  },
  {
   "cell_type": "code",
   "execution_count": 44,
   "id": "7b4d0c18",
   "metadata": {},
   "outputs": [],
   "source": [
    "# eliminar 'poolhouse' y 24.5\n",
    "\n",
    "areas = ['hallwat', 11.25, 'kitchen', 18.0,\"chill zone\", 20.0, \n",
    "         'bedroom', 10.75,'bathroom', 10.50, 'poolhouse', 24.5,\n",
    "         'garage', 15.45\n",
    "         ]"
   ]
  },
  {
   "cell_type": "code",
   "execution_count": 42,
   "id": "25e26a8d",
   "metadata": {},
   "outputs": [
    {
     "name": "stdout",
     "output_type": "stream",
     "text": [
      "['hallwat', 11.25, 'kitchen', 18.0, 'chill zone', 20.0, 'bedroom', 10.75, 'bathroom', 10.5, 'poolhouse', 24.5, 'garage', 15.45]\n"
     ]
    }
   ],
   "source": [
    "print(areas)\n",
    "\n"
   ]
  },
  {
   "cell_type": "code",
   "execution_count": 48,
   "id": "482184de",
   "metadata": {},
   "outputs": [
    {
     "name": "stdout",
     "output_type": "stream",
     "text": [
      "['poolhouse', 24.5]\n",
      "['hallwat', 11.25, 'kitchen', 18.0, 'chill zone', 20.0, 'bedroom', 10.75, 'bathroom', 10.5, 'garage', 15.45]\n"
     ]
    }
   ],
   "source": [
    "# eliminar\n",
    "print (areas[10:12])\n",
    "del areas [10:12]\n",
    "print (areas)\n"
   ]
  },
  {
   "cell_type": "markdown",
   "id": "c4396729",
   "metadata": {},
   "source": [
    "# FUNCIONES Y PAQUETES \n",
    "## ***Funcion***\n",
    "\n",
    "es una pieza de codigo reutilizable, destinada a resolver una tarea en particular"
   ]
  },
  {
   "cell_type": "code",
   "execution_count": 49,
   "id": "a7f56310",
   "metadata": {},
   "outputs": [
    {
     "name": "stdout",
     "output_type": "stream",
     "text": [
      "[22, 54, 33, 38, 36]\n",
      "el tamaño de la lista es 5\n",
      "el valor maximo de la lista es 54\n"
     ]
    }
   ],
   "source": [
    "list_fam =  [22,54,33,38,36]\n",
    "print(list_fam)\n",
    "print(f'el tamaño de la lista es {len(list_fam)}')\n",
    "print(f'el valor maximo de la lista es {max(list_fam)}')"
   ]
  },
  {
   "cell_type": "code",
   "execution_count": null,
   "id": "46445d7e",
   "metadata": {},
   "outputs": [
    {
     "data": {
      "text/plain": [
       "1.67"
      ]
     },
     "execution_count": 50,
     "metadata": {},
     "output_type": "execute_result"
    }
   ],
   "source": [
    "round(1.6689,2)\n"
   ]
  },
  {
   "cell_type": "code",
   "execution_count": 58,
   "id": "82cb02f9",
   "metadata": {},
   "outputs": [
    {
     "name": "stdout",
     "output_type": "stream",
     "text": [
      "Help on built-in function round in module builtins:\n",
      "\n",
      "round(number, ndigits=None)\n",
      "    Round a number to a given precision in decimal digits.\n",
      "    \n",
      "    The return value is an integer if ndigits is omitted or None.  Otherwise\n",
      "    the return value has the same type as the number.  ndigits may be negative.\n",
      "\n"
     ]
    }
   ],
   "source": [
    "help(round)\n",
    "\n"
   ]
  },
  {
   "cell_type": "code",
   "execution_count": 62,
   "id": "992fd823",
   "metadata": {},
   "outputs": [
    {
     "name": "stdout",
     "output_type": "stream",
     "text": [
      "[18.0, 20.0, 51.25]\n",
      "[18.0, 20.0, 51.25]\n",
      "[51.25, 20.0, 18.0]\n"
     ]
    }
   ],
   "source": [
    "first = [51.25,18.0,20.0]\n",
    "full_sorted = sorted(first) #ordena de forma acendente\n",
    "full_sorted_asc =  sorted(first, reverse= False) # Asendente\n",
    "full_sorted_desc =  sorted(first, reverse= True) # Decendente\n",
    "\n",
    "\n",
    "print (full_sorted)\n",
    "print (full_sorted_asc)\n",
    "print (full_sorted_desc)"
   ]
  },
  {
   "cell_type": "markdown",
   "id": "13fe99d4",
   "metadata": {},
   "source": [
    "### ***Metodos***\n",
    "\n",
    "en python todo es objeto, y cada objeto tiene metodos especificos asociados\n",
    "\n",
    "    - Objetos con diferentes tipos pueden tener el mismo nombre "
   ]
  },
  {
   "cell_type": "code",
   "execution_count": 69,
   "id": "26643389",
   "metadata": {},
   "outputs": [
    {
     "name": "stdout",
     "output_type": "stream",
     "text": [
      "indice:2\n",
      "indice: 4\n"
     ]
    }
   ],
   "source": [
    "lis_fam = ['heydy',22,'ines',54, 'henry',33, 'oscar',54]\n",
    "print(f'indice:{lis_fam.count(54)}')\n",
    "print(f\"indice: {lis_fam.index('henry')}\") # obtiene el indice de la lista\n",
    "\n",
    " # obtiene cuantas veces apatrece algo"
   ]
  },
  {
   "cell_type": "code",
   "execution_count": 70,
   "id": "71ed43af",
   "metadata": {},
   "outputs": [
    {
     "name": "stdout",
     "output_type": "stream",
     "text": [
      "['heydy', 22, 'ines', 54, 33, 'oscar', 54]\n"
     ]
    }
   ],
   "source": [
    "del(lis_fam[lis_fam.index('henry')])\n",
    "print(lis_fam)"
   ]
  },
  {
   "cell_type": "code",
   "execution_count": 71,
   "id": "9f125106",
   "metadata": {},
   "outputs": [
    {
     "name": "stdout",
     "output_type": "stream",
     "text": [
      "Nayumi\n"
     ]
    }
   ],
   "source": [
    "name = \"nayumi\"\n",
    "print(name.capitalize())"
   ]
  },
  {
   "cell_type": "code",
   "execution_count": 72,
   "id": "cbca3b1d",
   "metadata": {},
   "outputs": [
    {
     "name": "stdout",
     "output_type": "stream",
     "text": [
      "Susel\n",
      "None\n"
     ]
    }
   ],
   "source": [
    "lista_entornos = ['susel','brandon','alejandro', 'gabriel']\n",
    "lista_entornos = print(lista_entornos[0].capitalize())\n",
    "print(lista_entornos)"
   ]
  },
  {
   "cell_type": "code",
   "execution_count": 73,
   "id": "9380768b",
   "metadata": {},
   "outputs": [
    {
     "name": "stdout",
     "output_type": "stream",
     "text": [
      "na*umi\n"
     ]
    }
   ],
   "source": [
    "print(name.replace('y', '*'))"
   ]
  },
  {
   "cell_type": "code",
   "execution_count": 74,
   "id": "9eac2422",
   "metadata": {},
   "outputs": [
    {
     "data": {
      "text/plain": [
       "'NAYUMI'"
      ]
     },
     "execution_count": 74,
     "metadata": {},
     "output_type": "execute_result"
    }
   ],
   "source": [
    "name.upper()"
   ]
  },
  {
   "cell_type": "code",
   "execution_count": 77,
   "id": "af05ee4e",
   "metadata": {},
   "outputs": [
    {
     "name": "stdout",
     "output_type": "stream",
     "text": [
      "['heydy', 22, 'ines', 54, 33, 'oscar', 54]\n",
      "['heydy', 22, 'ines', 54, 33, 'oscar', 54]\n"
     ]
    }
   ],
   "source": [
    "print (lis_fam)\n",
    "lis_fam.reverse\n",
    "print(lis_fam)"
   ]
  }
 ],
 "metadata": {
  "kernelspec": {
   "display_name": "Python 3",
   "language": "python",
   "name": "python3"
  },
  "language_info": {
   "codemirror_mode": {
    "name": "ipython",
    "version": 3
   },
   "file_extension": ".py",
   "mimetype": "text/x-python",
   "name": "python",
   "nbconvert_exporter": "python",
   "pygments_lexer": "ipython3",
   "version": "3.11.9"
  }
 },
 "nbformat": 4,
 "nbformat_minor": 5
}
