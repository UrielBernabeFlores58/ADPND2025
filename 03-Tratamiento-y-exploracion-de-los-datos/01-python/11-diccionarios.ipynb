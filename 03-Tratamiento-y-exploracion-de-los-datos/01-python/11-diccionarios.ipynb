{
 "cells": [
  {
   "cell_type": "markdown",
   "id": "51b46b24",
   "metadata": {},
   "source": [
    "># Crear y Accesar a los Diccionarios"
   ]
  },
  {
   "cell_type": "markdown",
   "id": "2c17d48e",
   "metadata": {},
   "source": [
    "## Objetivos\n",
    "\n",
    "- Aprender a crear diccionarios con pares llaves-valor\n",
    "- Aprender a accesar los valores guardados en el diccionario\n",
    "---"
   ]
  },
  {
   "cell_type": "markdown",
   "id": "6d909469",
   "metadata": {},
   "source": [
    "## Desarrollo:\n",
    "\n",
    "Los diccionarios se definen usando (`{}`)"
   ]
  },
  {
   "cell_type": "code",
   "execution_count": 1,
   "id": "d247f9e1",
   "metadata": {},
   "outputs": [],
   "source": [
    "diccionario_1 = {}"
   ]
  },
  {
   "cell_type": "code",
   "execution_count": null,
   "id": "f6841457",
   "metadata": {},
   "outputs": [],
   "source": []
  },
  {
   "cell_type": "markdown",
   "id": "3a7a1edf",
   "metadata": {},
   "source": [
    "diccionario_1 ya es un diccionario. Solo que esta vacio. Para incluir datos dentro de un diccionario, tenemos que agregar pares llave-valor dentro de las llaves ({}),. Cada par llave-valor se separa con una (,);"
   ]
  },
  {
   "cell_type": "code",
   "execution_count": 1,
   "id": "f838c3fd",
   "metadata": {},
   "outputs": [],
   "source": [
    "diccionario_2 = {\n",
    "    'Llave_1':\"valor_1\",\n",
    "    'Llave_2':\"valor_2\",\n",
    "    'Llave_3':\"valor_3\",\n",
    "    'Llave_4':\"valor_4\"\n",
    "}"
   ]
  },
  {
   "cell_type": "markdown",
   "id": "c2f1d069",
   "metadata": {},
   "source": [
    "Nuestra llaves puedem ser tanto `string` como `int`(pueden ser otras cosas, pero estos son los mas comunes`)"
   ]
  },
  {
   "cell_type": "code",
   "execution_count": 1,
   "id": "8ec2a1f2",
   "metadata": {},
   "outputs": [],
   "source": [
    "diccionario_3 = {\n",
    "    1:'uno',\n",
    "    2:'dos',\n",
    "    3:'tres',\n",
    "    4:'cuatro'\n",
    "}"
   ]
  },
  {
   "cell_type": "markdown",
   "id": "92735ac7",
   "metadata": {},
   "source": [
    "Nuestros valores pueden ser cualquier tipo de datos que se conozca hasta este momento."
   ]
  },
  {
   "cell_type": "code",
   "execution_count": 4,
   "id": "b0367426",
   "metadata": {},
   "outputs": [],
   "source": [
    "diccionario_4 = {\n",
    "    'int': 123,\n",
    "    'float':23.56,\n",
    "    'string':'Hola',\n",
    "    'boolean': True,\n",
    "    'lista':[1,2,3,4],\n",
    "    'diccionario':{\n",
    "        1:'uno',\n",
    "        2:'dos'\n",
    "    }\n",
    "}"
   ]
  },
  {
   "cell_type": "markdown",
   "id": "a2e3ccac",
   "metadata": {},
   "source": [
    "Acceder a un diccionario es tan facil como escribir el nombre del diccionario, agregar corchetes ('[]') y pasarle el nombre de la llave que quieres acceder. Por obvias razones, un diccionario no puede tener mas de una llave con el mismo nombre. Si tenemos otras estructuras de datos dentro de nuestro diccionario, podemos acceder a los elementos dentro de ellas despues de haber accedido prumero a toda la estructura de datos:"
   ]
  },
  {
   "cell_type": "code",
   "execution_count": 5,
   "id": "933cd295",
   "metadata": {},
   "outputs": [
    {
     "name": "stdout",
     "output_type": "stream",
     "text": [
      "23.56\n"
     ]
    }
   ],
   "source": [
    "print(diccionario_4['float'])"
   ]
  },
  {
   "cell_type": "code",
   "execution_count": 6,
   "id": "cb9087cb",
   "metadata": {},
   "outputs": [
    {
     "name": "stdout",
     "output_type": "stream",
     "text": [
      "True\n"
     ]
    }
   ],
   "source": [
    "print(diccionario_4['boolean'])"
   ]
  },
  {
   "cell_type": "code",
   "execution_count": 18,
   "id": "27ef1853",
   "metadata": {},
   "outputs": [
    {
     "name": "stdout",
     "output_type": "stream",
     "text": [
      "3\n",
      "dos\n"
     ]
    }
   ],
   "source": [
    "print(diccionario_4['lista'][2])\n",
    "print(diccionario_4['diccionario'][2])"
   ]
  }
 ],
 "metadata": {
  "kernelspec": {
   "display_name": "base",
   "language": "python",
   "name": "python3"
  },
  "language_info": {
   "codemirror_mode": {
    "name": "ipython",
    "version": 3
   },
   "file_extension": ".py",
   "mimetype": "text/x-python",
   "name": "python",
   "nbconvert_exporter": "python",
   "pygments_lexer": "ipython3",
   "version": "3.12.3"
  }
 },
 "nbformat": 4,
 "nbformat_minor": 5
}
