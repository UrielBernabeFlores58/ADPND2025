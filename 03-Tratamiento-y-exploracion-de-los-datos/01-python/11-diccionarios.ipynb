{
 "cells": [
  {
   "cell_type": "markdown",
   "id": "544f520f",
   "metadata": {},
   "source": [
    "># Crear y aprender diccionarios "
   ]
  },
  {
   "cell_type": "markdown",
   "id": "a61930d4",
   "metadata": {},
   "source": [
    "## Objetivos\n",
    "\n",
    "    - Aprender a crear diccionarios pares claves - valor\n",
    "    - Aprender a accesar a los valores guardados en el diccionario"
   ]
  },
  {
   "cell_type": "markdown",
   "id": "a3a01054",
   "metadata": {},
   "source": [
    "## Desarollo \n",
    "\n",
    "los diccionarios se definen usando ({})"
   ]
  },
  {
   "cell_type": "code",
   "execution_count": 1,
   "id": "1c77a35f",
   "metadata": {},
   "outputs": [],
   "source": [
    "diccionario_1 = {}"
   ]
  },
  {
   "cell_type": "markdown",
   "id": "5fac078e",
   "metadata": {},
   "source": [
    "diccionario ya es un diccionario solo que esta vacio, para incluir datos de un dicccionario tenemos que agregar pares llave -valor dentro de las llaves ({}),. - valor dentro de las llave -  valor que se separa con una (`,`):"
   ]
  },
  {
   "cell_type": "code",
   "execution_count": 3,
   "id": "5ff7467e",
   "metadata": {},
   "outputs": [],
   "source": [
    "diccionario_2 = {\n",
    "    'LLAVE_1': \"Valor_1\",\n",
    "    'LLAVE_2': \"Valor_2\",\n",
    "    'LLAVE_3': \"Valor_3\",\n",
    "    'LLAVE_4': \"Valor_4\"\n",
    "}"
   ]
  },
  {
   "cell_type": "markdown",
   "id": "abb41963",
   "metadata": {},
   "source": [
    "Nuestras Llaves pueden ser tanto `String` como `Int` (pueden ser otras cosas, pero estos son los mas comunes)"
   ]
  },
  {
   "cell_type": "code",
   "execution_count": 4,
   "id": "92ff6598",
   "metadata": {},
   "outputs": [],
   "source": [
    "diccionario_3 = {\n",
    "    1:'Uno',\n",
    "    2:'Dos',\n",
    "    3:'Tres',\n",
    "    4:'Cuatro'\n",
    "}"
   ]
  },
  {
   "cell_type": "markdown",
   "id": "3ddf1868",
   "metadata": {},
   "source": [
    "NUESTROS VALORES  PUEDEN SER SE CUALQUIER TIPO DE DATO QUE SE CONOZCA HASTA ESTE MOMENTO "
   ]
  },
  {
   "cell_type": "code",
   "execution_count": 8,
   "id": "ea90b527",
   "metadata": {},
   "outputs": [],
   "source": [
    "diccionario_4 = {\n",
    "    'int' : 123,\n",
    "    'float' : 23.56,\n",
    "    'String' : 'Hola',\n",
    "    'boolean' : True,\n",
    "    'Lista' : [1,2,3,4,],\n",
    "    'diccionario':{\n",
    "        1:'uno',\n",
    "        2:'dos'\n",
    "    }\n",
    "}"
   ]
  },
  {
   "cell_type": "markdown",
   "id": "509a5f4e",
   "metadata": {},
   "source": [
    "acceder a un diccionario es tan facil como escribor e; nombre del diccionario, agregar corchetes (`[]`) y pasar el numero de la llave que quieres acceder.\n",
    "por obvias razones, un diccionario no puede tener mas de uyna llave con el mismo nombre, si tenemos otras estructuras de datos dentro de nuestro diccionario , podemos aaceder a los elementos dentro de ellas despues de haver accedido primero a toda la estructura de datos."
   ]
  },
  {
   "cell_type": "code",
   "execution_count": 9,
   "id": "5390cf94",
   "metadata": {},
   "outputs": [
    {
     "name": "stdout",
     "output_type": "stream",
     "text": [
      "23.56\n"
     ]
    }
   ],
   "source": [
    "print(diccionario_4['float'])"
   ]
  },
  {
   "cell_type": "code",
   "execution_count": 11,
   "id": "866c55e7",
   "metadata": {},
   "outputs": [
    {
     "name": "stdout",
     "output_type": "stream",
     "text": [
      "True\n"
     ]
    }
   ],
   "source": [
    "print(diccionario_4['boolean'])"
   ]
  },
  {
   "cell_type": "code",
   "execution_count": 18,
   "id": "3b963593",
   "metadata": {},
   "outputs": [
    {
     "name": "stdout",
     "output_type": "stream",
     "text": [
      "[1, 2, 3, 4]\n"
     ]
    }
   ],
   "source": [
    "print(diccionario_4['Lista'])"
   ]
  },
  {
   "cell_type": "code",
   "execution_count": 23,
   "id": "2d5b35ed",
   "metadata": {},
   "outputs": [
    {
     "name": "stdout",
     "output_type": "stream",
     "text": [
      "3\n"
     ]
    }
   ],
   "source": [
    "print(diccionario_4['Lista'][2])"
   ]
  },
  {
   "cell_type": "markdown",
   "id": "1180efbe",
   "metadata": {},
   "source": []
  },
  {
   "cell_type": "markdown",
   "id": "8b23df89",
   "metadata": {},
   "source": []
  },
  {
   "cell_type": "code",
   "execution_count": null,
   "id": "da7f4a02",
   "metadata": {},
   "outputs": [],
   "source": []
  }
 ],
 "metadata": {
  "kernelspec": {
   "display_name": "Python 3",
   "language": "python",
   "name": "python3"
  },
  "language_info": {
   "codemirror_mode": {
    "name": "ipython",
    "version": 3
   },
   "file_extension": ".py",
   "mimetype": "text/x-python",
   "name": "python",
   "nbconvert_exporter": "python",
   "pygments_lexer": "ipython3",
   "version": "3.11.9"
  }
 },
 "nbformat": 4,
 "nbformat_minor": 5
}
