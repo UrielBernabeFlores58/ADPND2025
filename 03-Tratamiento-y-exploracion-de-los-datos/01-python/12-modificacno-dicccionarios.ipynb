{
 "cells": [
  {
   "cell_type": "markdown",
   "id": "0666824a",
   "metadata": {},
   "source": []
  },
  {
   "cell_type": "markdown",
   "id": "4fcc2de5",
   "metadata": {},
   "source": [
    "## Obejtivos\n",
    "\n",
    "\n",
    "- Practicar los tres metodos basicos de moficiacion de diccionario: ***Agregar datos, mpdificar datos y borrar datos***\n"
   ]
  },
  {
   "cell_type": "markdown",
   "id": "29eccd70",
   "metadata": {},
   "source": [
    "## 2. Desarollo\n",
    "\n",
    "\n",
    "tenemos 3 maneras basicas de modificar los diccionarios\n",
    "\n",
    "---"
   ]
  },
  {
   "cell_type": "markdown",
   "id": "f9f8f654",
   "metadata": {},
   "source": [
    "### Agregar datos\n",
    "\n",
    "- para agregar ub dato a un diccionario ya existente basta con llamar la llave que queremos agregar y asignar un valor"
   ]
  },
  {
   "cell_type": "code",
   "execution_count": 1,
   "id": "79fda795",
   "metadata": {},
   "outputs": [],
   "source": [
    "from pprint import pprint\n"
   ]
  },
  {
   "cell_type": "code",
   "execution_count": 3,
   "id": "79e918e8",
   "metadata": {},
   "outputs": [
    {
     "name": "stdout",
     "output_type": "stream",
     "text": [
      "{'Nombre': 'Maluma',\n",
      " 'Tel': 5588779964,\n",
      " 'dir': {'Calle': 'Pirineros', 'colonia': 'El 61', 'cp': 42830, 'num': 69}}\n"
     ]
    }
   ],
   "source": [
    "info_de_contacto = {\n",
    "    'Nombre': 'Maluma',\n",
    "    'Tel': 5588779964,\n",
    "    'dir': {\n",
    "        'colonia': 'El 61',\n",
    "        'Calle' : 'Pirineros' ,\n",
    "        'num': 69,\n",
    "        'cp' : 42830\n",
    "        }\n",
    "\n",
    "}\n",
    "\n",
    "pprint(info_de_contacto)"
   ]
  },
  {
   "cell_type": "code",
   "execution_count": 4,
   "id": "04c8c7cb",
   "metadata": {},
   "outputs": [],
   "source": [
    "info_de_contacto['email'] = 'malumahastaabajo@regechafa.com'"
   ]
  },
  {
   "cell_type": "markdown",
   "id": "47d9fd8b",
   "metadata": {},
   "source": [
    "## Modificar pares llave-valor existentes\n",
    "\n",
    "Para modificar un par de llave-valor ya existente basta con reasingnar  y si\n",
    "\n"
   ]
  }
 ],
 "metadata": {
  "kernelspec": {
   "display_name": "Python 3",
   "language": "python",
   "name": "python3"
  },
  "language_info": {
   "codemirror_mode": {
    "name": "ipython",
    "version": 3
   },
   "file_extension": ".py",
   "mimetype": "text/x-python",
   "name": "python",
   "nbconvert_exporter": "python",
   "pygments_lexer": "ipython3",
   "version": "3.11.9"
  }
 },
 "nbformat": 4,
 "nbformat_minor": 5
}
