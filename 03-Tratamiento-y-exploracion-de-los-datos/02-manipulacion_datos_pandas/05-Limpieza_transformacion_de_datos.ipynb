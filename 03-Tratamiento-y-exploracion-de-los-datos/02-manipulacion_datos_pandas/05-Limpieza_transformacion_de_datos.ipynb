{
 "cells": [
  {
   "cell_type": "markdown",
   "id": "a17ea769",
   "metadata": {},
   "source": [
    "### Importar Librerias"
   ]
  },
  {
   "cell_type": "code",
   "execution_count": 1,
   "id": "c16b30b1",
   "metadata": {},
   "outputs": [],
   "source": [
    "import pandas as pd\n",
    "import numpy as np\n",
    "import matplotlib.pyplot as plt"
   ]
  },
  {
   "cell_type": "markdown",
   "id": "bf7640af",
   "metadata": {},
   "source": [
    "### Importar archivo .CSV"
   ]
  },
  {
   "cell_type": "code",
   "execution_count": 3,
   "id": "fc62d102",
   "metadata": {},
   "outputs": [],
   "source": [
    "salarios = pd.read_csv(\"./data/linkedin-jobs-usa.csv\")"
   ]
  },
  {
   "cell_type": "code",
   "execution_count": 5,
   "id": "58437e05",
   "metadata": {},
   "outputs": [
    {
     "name": "stdout",
     "output_type": "stream",
     "text": [
      "<class 'pandas.core.frame.DataFrame'>\n",
      "RangeIndex: 2845 entries, 0 to 2844\n",
      "Data columns (total 9 columns):\n",
      " #   Column         Non-Null Count  Dtype \n",
      "---  ------         --------------  ----- \n",
      " 0   title          2845 non-null   object\n",
      " 1   company        2845 non-null   object\n",
      " 2   description    2845 non-null   object\n",
      " 3   onsite_remote  2845 non-null   object\n",
      " 4   salary         929 non-null    object\n",
      " 5   location       2845 non-null   object\n",
      " 6   criteria       2845 non-null   object\n",
      " 7   posted_date    2845 non-null   object\n",
      " 8   link           2845 non-null   object\n",
      "dtypes: object(9)\n",
      "memory usage: 200.2+ KB\n"
     ]
    }
   ],
   "source": [
    "salarios.info()"
   ]
  },
  {
   "cell_type": "markdown",
   "id": "3fd11b4c",
   "metadata": {},
   "source": [
    "### Tratamiento de duplicados"
   ]
  },
  {
   "cell_type": "code",
   "execution_count": 6,
   "id": "987d931b",
   "metadata": {},
   "outputs": [
    {
     "data": {
      "text/html": [
       "<div>\n",
       "<style scoped>\n",
       "    .dataframe tbody tr th:only-of-type {\n",
       "        vertical-align: middle;\n",
       "    }\n",
       "\n",
       "    .dataframe tbody tr th {\n",
       "        vertical-align: top;\n",
       "    }\n",
       "\n",
       "    .dataframe thead th {\n",
       "        text-align: right;\n",
       "    }\n",
       "</style>\n",
       "<table border=\"1\" class=\"dataframe\">\n",
       "  <thead>\n",
       "    <tr style=\"text-align: right;\">\n",
       "      <th></th>\n",
       "      <th>title</th>\n",
       "      <th>company</th>\n",
       "      <th>description</th>\n",
       "      <th>onsite_remote</th>\n",
       "      <th>salary</th>\n",
       "      <th>location</th>\n",
       "      <th>criteria</th>\n",
       "      <th>posted_date</th>\n",
       "      <th>link</th>\n",
       "    </tr>\n",
       "  </thead>\n",
       "  <tbody>\n",
       "    <tr>\n",
       "      <th>0</th>\n",
       "      <td>Data Analyst - Recent Graduate</td>\n",
       "      <td>PayPal</td>\n",
       "      <td>At PayPal (NASDAQ: PYPL), we believe that ever...</td>\n",
       "      <td>onsite</td>\n",
       "      <td>NaN</td>\n",
       "      <td>Buffalo-Niagara Falls Area</td>\n",
       "      <td>[{'Seniority level': 'Not Applicable'}, {'Empl...</td>\n",
       "      <td>2022-11-22</td>\n",
       "      <td>https://www.linkedin.com/jobs/view/data-analys...</td>\n",
       "    </tr>\n",
       "    <tr>\n",
       "      <th>1</th>\n",
       "      <td>Data Analyst - Recent Graduate</td>\n",
       "      <td>PayPal</td>\n",
       "      <td>At PayPal (NASDAQ: PYPL), we believe that ever...</td>\n",
       "      <td>onsite</td>\n",
       "      <td>NaN</td>\n",
       "      <td>San Jose, CA</td>\n",
       "      <td>[{'Seniority level': 'Not Applicable'}, {'Empl...</td>\n",
       "      <td>2022-11-22</td>\n",
       "      <td>https://www.linkedin.com/jobs/view/data-analys...</td>\n",
       "    </tr>\n",
       "    <tr>\n",
       "      <th>2</th>\n",
       "      <td>Data Analyst</td>\n",
       "      <td>PayPal</td>\n",
       "      <td>At PayPal (NASDAQ: PYPL), we believe that ever...</td>\n",
       "      <td>onsite</td>\n",
       "      <td>NaN</td>\n",
       "      <td>Texas, United States</td>\n",
       "      <td>[{'Seniority level': 'Not Applicable'}, {'Empl...</td>\n",
       "      <td>2022-11-17</td>\n",
       "      <td>https://www.linkedin.com/jobs/view/data-analys...</td>\n",
       "    </tr>\n",
       "    <tr>\n",
       "      <th>3</th>\n",
       "      <td>Data Analyst</td>\n",
       "      <td>PayPal</td>\n",
       "      <td>At PayPal (NASDAQ: PYPL), we believe that ever...</td>\n",
       "      <td>onsite</td>\n",
       "      <td>NaN</td>\n",
       "      <td>Illinois, United States</td>\n",
       "      <td>[{'Seniority level': 'Not Applicable'}, {'Empl...</td>\n",
       "      <td>2022-11-17</td>\n",
       "      <td>https://www.linkedin.com/jobs/view/data-analys...</td>\n",
       "    </tr>\n",
       "    <tr>\n",
       "      <th>4</th>\n",
       "      <td>Entry-Level Data Analyst</td>\n",
       "      <td>The Federal Savings Bank</td>\n",
       "      <td>The Federal Savings Bank, a national bank and ...</td>\n",
       "      <td>onsite</td>\n",
       "      <td>NaN</td>\n",
       "      <td>Chicago, IL</td>\n",
       "      <td>[{'Seniority level': 'Entry level'}, {'Employm...</td>\n",
       "      <td>2022-11-17</td>\n",
       "      <td>https://www.linkedin.com/jobs/view/entry-level...</td>\n",
       "    </tr>\n",
       "    <tr>\n",
       "      <th>...</th>\n",
       "      <td>...</td>\n",
       "      <td>...</td>\n",
       "      <td>...</td>\n",
       "      <td>...</td>\n",
       "      <td>...</td>\n",
       "      <td>...</td>\n",
       "      <td>...</td>\n",
       "      <td>...</td>\n",
       "      <td>...</td>\n",
       "    </tr>\n",
       "    <tr>\n",
       "      <th>2840</th>\n",
       "      <td>Junior Data Analyst</td>\n",
       "      <td>Iris Software Inc.</td>\n",
       "      <td>Iris's client, one of the world's largest fina...</td>\n",
       "      <td>hybrid</td>\n",
       "      <td>NaN</td>\n",
       "      <td>Texas, United States</td>\n",
       "      <td>[{'Seniority level': 'Mid-Senior level'}, {'Em...</td>\n",
       "      <td>2022-10-21</td>\n",
       "      <td>https://www.linkedin.com/jobs/view/junior-data...</td>\n",
       "    </tr>\n",
       "    <tr>\n",
       "      <th>2841</th>\n",
       "      <td>Data Analyst (SQL)</td>\n",
       "      <td>Marwood Group</td>\n",
       "      <td>The Marwood Group (Marwood) is a leading healt...</td>\n",
       "      <td>hybrid</td>\n",
       "      <td>$75,000.00\\r\\n            -\\r\\n            $95...</td>\n",
       "      <td>New York City Metropolitan Area</td>\n",
       "      <td>[{'Seniority level': 'Mid-Senior level'}, {'Em...</td>\n",
       "      <td>2022-10-26</td>\n",
       "      <td>https://www.linkedin.com/jobs/view/data-analys...</td>\n",
       "    </tr>\n",
       "    <tr>\n",
       "      <th>2842</th>\n",
       "      <td>Data Analyst</td>\n",
       "      <td>SmartSense by Digi</td>\n",
       "      <td>Join a high-performing, tight-knit team at a f...</td>\n",
       "      <td>hybrid</td>\n",
       "      <td>NaN</td>\n",
       "      <td>Mishawaka, IN</td>\n",
       "      <td>[{'Seniority level': 'Associate'}, {'Employmen...</td>\n",
       "      <td>2022-11-17</td>\n",
       "      <td>https://www.linkedin.com/jobs/view/data-analys...</td>\n",
       "    </tr>\n",
       "    <tr>\n",
       "      <th>2843</th>\n",
       "      <td>Data Analyst</td>\n",
       "      <td>Synergy Search</td>\n",
       "      <td>Nashville (Berry Hill) based company looking t...</td>\n",
       "      <td>hybrid</td>\n",
       "      <td>$85,000.00\\r\\n            -\\r\\n            $95...</td>\n",
       "      <td>Nashville Metropolitan Area</td>\n",
       "      <td>[{'Seniority level': 'Not Applicable'}, {'Empl...</td>\n",
       "      <td>2022-11-14</td>\n",
       "      <td>https://www.linkedin.com/jobs/view/data-analys...</td>\n",
       "    </tr>\n",
       "    <tr>\n",
       "      <th>2844</th>\n",
       "      <td>Data Analyst</td>\n",
       "      <td>Insight Global</td>\n",
       "      <td>Overview - Minimum 5 years in a quantitative d...</td>\n",
       "      <td>hybrid</td>\n",
       "      <td>$130,000.00\\r\\n            -\\r\\n            $1...</td>\n",
       "      <td>Burbank, CA</td>\n",
       "      <td>[{'Seniority level': 'Mid-Senior level'}, {'Em...</td>\n",
       "      <td>2022-11-14</td>\n",
       "      <td>https://www.linkedin.com/jobs/view/data-analys...</td>\n",
       "    </tr>\n",
       "  </tbody>\n",
       "</table>\n",
       "<p>2845 rows × 9 columns</p>\n",
       "</div>"
      ],
      "text/plain": [
       "                               title                   company  \\\n",
       "0     Data Analyst - Recent Graduate                    PayPal   \n",
       "1     Data Analyst - Recent Graduate                    PayPal   \n",
       "2                       Data Analyst                    PayPal   \n",
       "3                       Data Analyst                    PayPal   \n",
       "4           Entry-Level Data Analyst  The Federal Savings Bank   \n",
       "...                              ...                       ...   \n",
       "2840             Junior Data Analyst        Iris Software Inc.   \n",
       "2841              Data Analyst (SQL)             Marwood Group   \n",
       "2842                    Data Analyst        SmartSense by Digi   \n",
       "2843                    Data Analyst            Synergy Search   \n",
       "2844                    Data Analyst            Insight Global   \n",
       "\n",
       "                                            description onsite_remote  \\\n",
       "0     At PayPal (NASDAQ: PYPL), we believe that ever...        onsite   \n",
       "1     At PayPal (NASDAQ: PYPL), we believe that ever...        onsite   \n",
       "2     At PayPal (NASDAQ: PYPL), we believe that ever...        onsite   \n",
       "3     At PayPal (NASDAQ: PYPL), we believe that ever...        onsite   \n",
       "4     The Federal Savings Bank, a national bank and ...        onsite   \n",
       "...                                                 ...           ...   \n",
       "2840  Iris's client, one of the world's largest fina...        hybrid   \n",
       "2841  The Marwood Group (Marwood) is a leading healt...        hybrid   \n",
       "2842  Join a high-performing, tight-knit team at a f...        hybrid   \n",
       "2843  Nashville (Berry Hill) based company looking t...        hybrid   \n",
       "2844  Overview - Minimum 5 years in a quantitative d...        hybrid   \n",
       "\n",
       "                                                 salary  \\\n",
       "0                                                   NaN   \n",
       "1                                                   NaN   \n",
       "2                                                   NaN   \n",
       "3                                                   NaN   \n",
       "4                                                   NaN   \n",
       "...                                                 ...   \n",
       "2840                                                NaN   \n",
       "2841  $75,000.00\\r\\n            -\\r\\n            $95...   \n",
       "2842                                                NaN   \n",
       "2843  $85,000.00\\r\\n            -\\r\\n            $95...   \n",
       "2844  $130,000.00\\r\\n            -\\r\\n            $1...   \n",
       "\n",
       "                             location  \\\n",
       "0          Buffalo-Niagara Falls Area   \n",
       "1                        San Jose, CA   \n",
       "2                Texas, United States   \n",
       "3             Illinois, United States   \n",
       "4                         Chicago, IL   \n",
       "...                               ...   \n",
       "2840             Texas, United States   \n",
       "2841  New York City Metropolitan Area   \n",
       "2842                    Mishawaka, IN   \n",
       "2843      Nashville Metropolitan Area   \n",
       "2844                      Burbank, CA   \n",
       "\n",
       "                                               criteria posted_date  \\\n",
       "0     [{'Seniority level': 'Not Applicable'}, {'Empl...  2022-11-22   \n",
       "1     [{'Seniority level': 'Not Applicable'}, {'Empl...  2022-11-22   \n",
       "2     [{'Seniority level': 'Not Applicable'}, {'Empl...  2022-11-17   \n",
       "3     [{'Seniority level': 'Not Applicable'}, {'Empl...  2022-11-17   \n",
       "4     [{'Seniority level': 'Entry level'}, {'Employm...  2022-11-17   \n",
       "...                                                 ...         ...   \n",
       "2840  [{'Seniority level': 'Mid-Senior level'}, {'Em...  2022-10-21   \n",
       "2841  [{'Seniority level': 'Mid-Senior level'}, {'Em...  2022-10-26   \n",
       "2842  [{'Seniority level': 'Associate'}, {'Employmen...  2022-11-17   \n",
       "2843  [{'Seniority level': 'Not Applicable'}, {'Empl...  2022-11-14   \n",
       "2844  [{'Seniority level': 'Mid-Senior level'}, {'Em...  2022-11-14   \n",
       "\n",
       "                                                   link  \n",
       "0     https://www.linkedin.com/jobs/view/data-analys...  \n",
       "1     https://www.linkedin.com/jobs/view/data-analys...  \n",
       "2     https://www.linkedin.com/jobs/view/data-analys...  \n",
       "3     https://www.linkedin.com/jobs/view/data-analys...  \n",
       "4     https://www.linkedin.com/jobs/view/entry-level...  \n",
       "...                                                 ...  \n",
       "2840  https://www.linkedin.com/jobs/view/junior-data...  \n",
       "2841  https://www.linkedin.com/jobs/view/data-analys...  \n",
       "2842  https://www.linkedin.com/jobs/view/data-analys...  \n",
       "2843  https://www.linkedin.com/jobs/view/data-analys...  \n",
       "2844  https://www.linkedin.com/jobs/view/data-analys...  \n",
       "\n",
       "[2845 rows x 9 columns]"
      ]
     },
     "execution_count": 6,
     "metadata": {},
     "output_type": "execute_result"
    }
   ],
   "source": [
    "salarios.drop_duplicates()"
   ]
  },
  {
   "cell_type": "code",
   "execution_count": 13,
   "id": "37b4b427",
   "metadata": {},
   "outputs": [],
   "source": [
    "salarios_limpieza = salarios.copy()"
   ]
  },
  {
   "cell_type": "code",
   "execution_count": null,
   "id": "1c8629b1",
   "metadata": {},
   "outputs": [],
   "source": [
    "salarios_limpieza.duplicates()"
   ]
  },
  {
   "cell_type": "code",
   "execution_count": 9,
   "id": "37a88ffc",
   "metadata": {},
   "outputs": [
    {
     "data": {
      "text/plain": [
       "np.int64(0)"
      ]
     },
     "execution_count": 9,
     "metadata": {},
     "output_type": "execute_result"
    }
   ],
   "source": [
    "salarios_limpieza.duplicated().sum()"
   ]
  },
  {
   "cell_type": "code",
   "execution_count": 10,
   "id": "f2e136c6",
   "metadata": {},
   "outputs": [
    {
     "data": {
      "text/html": [
       "<div>\n",
       "<style scoped>\n",
       "    .dataframe tbody tr th:only-of-type {\n",
       "        vertical-align: middle;\n",
       "    }\n",
       "\n",
       "    .dataframe tbody tr th {\n",
       "        vertical-align: top;\n",
       "    }\n",
       "\n",
       "    .dataframe thead th {\n",
       "        text-align: right;\n",
       "    }\n",
       "</style>\n",
       "<table border=\"1\" class=\"dataframe\">\n",
       "  <thead>\n",
       "    <tr style=\"text-align: right;\">\n",
       "      <th></th>\n",
       "      <th>title</th>\n",
       "      <th>company</th>\n",
       "      <th>description</th>\n",
       "      <th>onsite_remote</th>\n",
       "      <th>salary</th>\n",
       "      <th>location</th>\n",
       "      <th>criteria</th>\n",
       "      <th>posted_date</th>\n",
       "      <th>link</th>\n",
       "    </tr>\n",
       "  </thead>\n",
       "  <tbody>\n",
       "  </tbody>\n",
       "</table>\n",
       "</div>"
      ],
      "text/plain": [
       "Empty DataFrame\n",
       "Columns: [title, company, description, onsite_remote, salary, location, criteria, posted_date, link]\n",
       "Index: []"
      ]
     },
     "execution_count": 10,
     "metadata": {},
     "output_type": "execute_result"
    }
   ],
   "source": [
    "salarios[salarios_limpieza.duplicated()]"
   ]
  },
  {
   "cell_type": "code",
   "execution_count": 11,
   "id": "675bd710",
   "metadata": {},
   "outputs": [],
   "source": [
    "salarios_limpieza = salarios_limpieza.drop_duplicates"
   ]
  },
  {
   "cell_type": "markdown",
   "id": "795445b9",
   "metadata": {},
   "source": [
    "## Tratamiento de valores nulos\n",
    "\n",
    "### Visualizar los valores nulos\n",
    "\n"
   ]
  },
  {
   "cell_type": "code",
   "execution_count": null,
   "id": "3437282a",
   "metadata": {},
   "outputs": [
    {
     "name": "stdout",
     "output_type": "stream",
     "text": [
      "Valores NaN por Culumna title               0\n",
      "company             0\n",
      "description         0\n",
      "onsite_remote       0\n",
      "salary           1916\n",
      "location            0\n",
      "criteria            0\n",
      "posted_date         0\n",
      "link                0\n",
      "dtype: int64\n"
     ]
    }
   ],
   "source": [
    "print(f\"Valores NaN por Culumna {salarios_limpieza.isna().sum}\")"
   ]
  },
  {
   "cell_type": "code",
   "execution_count": 18,
   "id": "12e2e5e6",
   "metadata": {},
   "outputs": [],
   "source": [
    "# Eliminar filas que contiene al menos un valor nulo\n",
    "# Que elimina toda la fila y podemos perder datos importantes\n",
    "\n",
    "df_sin_nulos = salarios.dropna()\n",
    "\n",
    "# Eliminar columnas que contiene al menos un valor nulo\n",
    "df_sin_nulos_columnas = salarios.dropna(axis=1)"
   ]
  },
  {
   "cell_type": "code",
   "execution_count": 19,
   "id": "14ef5309",
   "metadata": {},
   "outputs": [
    {
     "data": {
      "text/plain": [
       "title            0\n",
       "company          0\n",
       "description      0\n",
       "onsite_remote    0\n",
       "salary           0\n",
       "location         0\n",
       "criteria         0\n",
       "posted_date      0\n",
       "link             0\n",
       "dtype: int64"
      ]
     },
     "execution_count": 19,
     "metadata": {},
     "output_type": "execute_result"
    }
   ],
   "source": [
    "df_sin_nulos.isna().sum()"
   ]
  },
  {
   "cell_type": "code",
   "execution_count": 21,
   "id": "156de213",
   "metadata": {},
   "outputs": [
    {
     "data": {
      "text/html": [
       "<div>\n",
       "<style scoped>\n",
       "    .dataframe tbody tr th:only-of-type {\n",
       "        vertical-align: middle;\n",
       "    }\n",
       "\n",
       "    .dataframe tbody tr th {\n",
       "        vertical-align: top;\n",
       "    }\n",
       "\n",
       "    .dataframe thead th {\n",
       "        text-align: right;\n",
       "    }\n",
       "</style>\n",
       "<table border=\"1\" class=\"dataframe\">\n",
       "  <thead>\n",
       "    <tr style=\"text-align: right;\">\n",
       "      <th></th>\n",
       "      <th>title</th>\n",
       "      <th>company</th>\n",
       "      <th>description</th>\n",
       "      <th>onsite_remote</th>\n",
       "      <th>salary</th>\n",
       "      <th>location</th>\n",
       "      <th>criteria</th>\n",
       "      <th>posted_date</th>\n",
       "      <th>link</th>\n",
       "    </tr>\n",
       "  </thead>\n",
       "  <tbody>\n",
       "    <tr>\n",
       "      <th>8</th>\n",
       "      <td>Data Analyst</td>\n",
       "      <td>London Approach</td>\n",
       "      <td>The ideal candidate for the Data Analyst/Finan...</td>\n",
       "      <td>onsite</td>\n",
       "      <td>$100,000.00\\r\\n            -\\r\\n            $1...</td>\n",
       "      <td>Franklin, TN</td>\n",
       "      <td>[{'Seniority level': 'Associate'}, {'Employmen...</td>\n",
       "      <td>2022-11-21</td>\n",
       "      <td>https://www.linkedin.com/jobs/view/data-analys...</td>\n",
       "    </tr>\n",
       "    <tr>\n",
       "      <th>24</th>\n",
       "      <td>Data Analyst</td>\n",
       "      <td>Eva Garland Consulting, LLC</td>\n",
       "      <td>Reporting to the Director of Operations, the D...</td>\n",
       "      <td>onsite</td>\n",
       "      <td>$50,000.00\\r\\n            -\\r\\n            $55...</td>\n",
       "      <td>Raleigh, NC</td>\n",
       "      <td>[{'Seniority level': 'Entry level'}, {'Employm...</td>\n",
       "      <td>2022-11-22</td>\n",
       "      <td>https://www.linkedin.com/jobs/view/data-analys...</td>\n",
       "    </tr>\n",
       "    <tr>\n",
       "      <th>35</th>\n",
       "      <td>Data Analyst</td>\n",
       "      <td>London Approach</td>\n",
       "      <td>The ideal candidate for the Data Analyst/Finan...</td>\n",
       "      <td>onsite</td>\n",
       "      <td>$100,000.00\\r\\n            -\\r\\n            $1...</td>\n",
       "      <td>Franklin, TN</td>\n",
       "      <td>[{'Seniority level': 'Associate'}, {'Employmen...</td>\n",
       "      <td>2022-11-21</td>\n",
       "      <td>https://www.linkedin.com/jobs/view/data-analys...</td>\n",
       "    </tr>\n",
       "    <tr>\n",
       "      <th>61</th>\n",
       "      <td>Data Analyst</td>\n",
       "      <td>London Approach</td>\n",
       "      <td>The ideal candidate for the Data Analyst/Finan...</td>\n",
       "      <td>onsite</td>\n",
       "      <td>$100,000.00\\r\\n            -\\r\\n            $1...</td>\n",
       "      <td>Franklin, TN</td>\n",
       "      <td>[{'Seniority level': 'Associate'}, {'Employmen...</td>\n",
       "      <td>2022-11-21</td>\n",
       "      <td>https://www.linkedin.com/jobs/view/data-analys...</td>\n",
       "    </tr>\n",
       "    <tr>\n",
       "      <th>88</th>\n",
       "      <td>Data Analyst</td>\n",
       "      <td>London Approach</td>\n",
       "      <td>The ideal candidate for the Data Analyst/Finan...</td>\n",
       "      <td>onsite</td>\n",
       "      <td>$100,000.00\\r\\n            -\\r\\n            $1...</td>\n",
       "      <td>Franklin, TN</td>\n",
       "      <td>[{'Seniority level': 'Associate'}, {'Employmen...</td>\n",
       "      <td>2022-11-21</td>\n",
       "      <td>https://www.linkedin.com/jobs/view/data-analys...</td>\n",
       "    </tr>\n",
       "  </tbody>\n",
       "</table>\n",
       "</div>"
      ],
      "text/plain": [
       "           title                      company  \\\n",
       "8   Data Analyst              London Approach   \n",
       "24  Data Analyst  Eva Garland Consulting, LLC   \n",
       "35  Data Analyst              London Approach   \n",
       "61  Data Analyst              London Approach   \n",
       "88  Data Analyst              London Approach   \n",
       "\n",
       "                                          description onsite_remote  \\\n",
       "8   The ideal candidate for the Data Analyst/Finan...        onsite   \n",
       "24  Reporting to the Director of Operations, the D...        onsite   \n",
       "35  The ideal candidate for the Data Analyst/Finan...        onsite   \n",
       "61  The ideal candidate for the Data Analyst/Finan...        onsite   \n",
       "88  The ideal candidate for the Data Analyst/Finan...        onsite   \n",
       "\n",
       "                                               salary      location  \\\n",
       "8   $100,000.00\\r\\n            -\\r\\n            $1...  Franklin, TN   \n",
       "24  $50,000.00\\r\\n            -\\r\\n            $55...   Raleigh, NC   \n",
       "35  $100,000.00\\r\\n            -\\r\\n            $1...  Franklin, TN   \n",
       "61  $100,000.00\\r\\n            -\\r\\n            $1...  Franklin, TN   \n",
       "88  $100,000.00\\r\\n            -\\r\\n            $1...  Franklin, TN   \n",
       "\n",
       "                                             criteria posted_date  \\\n",
       "8   [{'Seniority level': 'Associate'}, {'Employmen...  2022-11-21   \n",
       "24  [{'Seniority level': 'Entry level'}, {'Employm...  2022-11-22   \n",
       "35  [{'Seniority level': 'Associate'}, {'Employmen...  2022-11-21   \n",
       "61  [{'Seniority level': 'Associate'}, {'Employmen...  2022-11-21   \n",
       "88  [{'Seniority level': 'Associate'}, {'Employmen...  2022-11-21   \n",
       "\n",
       "                                                 link  \n",
       "8   https://www.linkedin.com/jobs/view/data-analys...  \n",
       "24  https://www.linkedin.com/jobs/view/data-analys...  \n",
       "35  https://www.linkedin.com/jobs/view/data-analys...  \n",
       "61  https://www.linkedin.com/jobs/view/data-analys...  \n",
       "88  https://www.linkedin.com/jobs/view/data-analys...  "
      ]
     },
     "execution_count": 21,
     "metadata": {},
     "output_type": "execute_result"
    }
   ],
   "source": [
    "df_sin_nulos.head()"
   ]
  },
  {
   "cell_type": "code",
   "execution_count": 22,
   "id": "76168fd4",
   "metadata": {},
   "outputs": [
    {
     "data": {
      "text/plain": [
       "8     $100,000.00\\r\\n            -\\r\\n            $1...\n",
       "24    $50,000.00\\r\\n            -\\r\\n            $55...\n",
       "35    $100,000.00\\r\\n            -\\r\\n            $1...\n",
       "61    $100,000.00\\r\\n            -\\r\\n            $1...\n",
       "88    $100,000.00\\r\\n            -\\r\\n            $1...\n",
       "Name: salary, dtype: object"
      ]
     },
     "execution_count": 22,
     "metadata": {},
     "output_type": "execute_result"
    }
   ],
   "source": [
    "df_sin_nulos['salary'].head()"
   ]
  },
  {
   "cell_type": "code",
   "execution_count": 17,
   "id": "ead6b969",
   "metadata": {},
   "outputs": [
    {
     "data": {
      "text/plain": [
       "(929, 9)"
      ]
     },
     "execution_count": 17,
     "metadata": {},
     "output_type": "execute_result"
    }
   ],
   "source": [
    "df_sin_nulos.shape"
   ]
  },
  {
   "cell_type": "markdown",
   "id": "6198ba1f",
   "metadata": {},
   "source": [
    "### Axis=0 revisa fila horizontal\n",
    "\n",
    "### Axix=1 revisa por columna vertical\n",
    "\n",
    "### Any = Elimina si existe por lo menos un NaN\n",
    "\n",
    "### All = Elimina si todos son NaN"
   ]
  },
  {
   "cell_type": "code",
   "execution_count": null,
   "id": "7a1974d6",
   "metadata": {},
   "outputs": [],
   "source": [
    "df_sin_nulos_columnas = salarios.dropna(axis=1, how='All')\n",
    "\n",
    "df_sin_nulos_columnas = salarios.dropna(axis=0, how='any')"
   ]
  },
  {
   "cell_type": "markdown",
   "id": "5f6586f5",
   "metadata": {},
   "source": [
    "# Transformacion de datos\n",
    "\n",
    "## 2da opcion: Remplazar NaNs por la media\n",
    "\n",
    "#### Parsing (\"Parseo\") de la columna Salary"
   ]
  },
  {
   "cell_type": "code",
   "execution_count": null,
   "id": "20f7fb52",
   "metadata": {},
   "outputs": [
    {
     "data": {
      "text/plain": [
       "8       $100,000.00\\r\\n            -\\r\\n            $1...\n",
       "24      $50,000.00\\r\\n            -\\r\\n            $55...\n",
       "35      $100,000.00\\r\\n            -\\r\\n            $1...\n",
       "61      $100,000.00\\r\\n            -\\r\\n            $1...\n",
       "88      $100,000.00\\r\\n            -\\r\\n            $1...\n",
       "                              ...                        \n",
       "2834        $30.00\\r\\n            -\\r\\n            $33.00\n",
       "2836    $120,000.00\\r\\n            -\\r\\n            $1...\n",
       "2841    $75,000.00\\r\\n            -\\r\\n            $95...\n",
       "2843    $85,000.00\\r\\n            -\\r\\n            $95...\n",
       "2844    $130,000.00\\r\\n            -\\r\\n            $1...\n",
       "Name: salary, Length: 929, dtype: object"
      ]
     },
     "execution_count": 23,
     "metadata": {},
     "output_type": "execute_result"
    }
   ],
   "source": [
    "df_sin_nulos['salary']"
   ]
  },
  {
   "cell_type": "markdown",
   "id": "a83fcb25",
   "metadata": {},
   "source": [
    "## Este código toma una columna 'salary' que contiene valores de salario en formato de cadena, \n",
    "## elimina cualquier caracter no numérico, extrae los dígitos y convierte la columna resultante en valores numéricos de tipo float. \n",
    "El resultado se almacena en una nueva columna llamada 'salary_numeric'. \n",
    "Esto es útil cuando la columna 'salary' inicial contiene caracteres no numéricos y se desea trabajar con los salarios como valores numéricos."
   ]
  },
  {
   "cell_type": "code",
   "execution_count": 24,
   "id": "055d0b32",
   "metadata": {},
   "outputs": [
    {
     "name": "stderr",
     "output_type": "stream",
     "text": [
      "C:\\Users\\Bruno\\AppData\\Local\\Temp\\ipykernel_13812\\3084583614.py:1: SettingWithCopyWarning: \n",
      "A value is trying to be set on a copy of a slice from a DataFrame.\n",
      "Try using .loc[row_indexer,col_indexer] = value instead\n",
      "\n",
      "See the caveats in the documentation: https://pandas.pydata.org/pandas-docs/stable/user_guide/indexing.html#returning-a-view-versus-a-copy\n",
      "  df_sin_nulos['salary_numeric'] = df_sin_nulos['salary'].replace('[^\\d.]', '', regex=True).str.extract('(\\d+)').astype(float)\n"
     ]
    }
   ],
   "source": [
    "df_sin_nulos['salary_numeric'] = df_sin_nulos['salary'].replace('[^\\d.]', '', regex=True).str.extract('(\\d+)').astype(float)"
   ]
  },
  {
   "cell_type": "code",
   "execution_count": 28,
   "id": "68d84d90",
   "metadata": {},
   "outputs": [
    {
     "data": {
      "text/plain": [
       "dtype('float64')"
      ]
     },
     "execution_count": 28,
     "metadata": {},
     "output_type": "execute_result"
    }
   ],
   "source": [
    "import re\n",
    "\n",
    "# Extrae el primer número válido (entero o decimal) de cada celda y lo convierte a float\n",
    "df_sin_nulos['salary_numeric'].dtype"
   ]
  }
 ],
 "metadata": {
  "kernelspec": {
   "display_name": "Python 3",
   "language": "python",
   "name": "python3"
  },
  "language_info": {
   "codemirror_mode": {
    "name": "ipython",
    "version": 3
   },
   "file_extension": ".py",
   "mimetype": "text/x-python",
   "name": "python",
   "nbconvert_exporter": "python",
   "pygments_lexer": "ipython3",
   "version": "3.10.6"
  }
 },
 "nbformat": 4,
 "nbformat_minor": 5
}
