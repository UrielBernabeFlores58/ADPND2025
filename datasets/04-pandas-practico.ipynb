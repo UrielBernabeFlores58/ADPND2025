{
 "cells": [
  {
   "cell_type": "markdown",
   "id": "eaf5f5df",
   "metadata": {},
   "source": [
    "# Ejemplo Practico para Pandas con Data Frames"
   ]
  },
  {
   "cell_type": "markdown",
   "id": "9447e54c",
   "metadata": {},
   "source": [
    "## 1. Inspeccion inicial  del dataframe"
   ]
  },
  {
   "cell_type": "code",
   "execution_count": 1,
   "id": "6572ea4d",
   "metadata": {},
   "outputs": [],
   "source": [
    "# Importacion de librerias\n",
    "import pandas as pd\n"
   ]
  },
  {
   "cell_type": "code",
   "execution_count": 2,
   "id": "f65b1b97",
   "metadata": {},
   "outputs": [],
   "source": [
    "#crear un dataframe a partir de un diccionario\n",
    "\n",
    "data = {\n",
    "    'Nombre' : ['Ana','Luis','Carlos', 'Lucia', 'Martha','Jorge', 'Sofia'],\n",
    "    'Edad' : [23,35,45,25,30,28,32],\n",
    "    'Ciudad' : ['CDMX', 'Guadalajara', 'Monterrey', 'CDMX','Puebla', 'CDMX', 'Guadalajara'],\n",
    "    'Salario' : [12000,15000,18000,12500,14000,13000,15500],\n",
    "    'Departamento' : ['Ventas','Marketing','Ventas','TI','TI','Markting','Ventas']\n",
    "    }\n"
   ]
  },
  {
   "cell_type": "code",
   "execution_count": 3,
   "id": "180f2dbc",
   "metadata": {},
   "outputs": [
    {
     "data": {
      "text/html": [
       "<div>\n",
       "<style scoped>\n",
       "    .dataframe tbody tr th:only-of-type {\n",
       "        vertical-align: middle;\n",
       "    }\n",
       "\n",
       "    .dataframe tbody tr th {\n",
       "        vertical-align: top;\n",
       "    }\n",
       "\n",
       "    .dataframe thead th {\n",
       "        text-align: right;\n",
       "    }\n",
       "</style>\n",
       "<table border=\"1\" class=\"dataframe\">\n",
       "  <thead>\n",
       "    <tr style=\"text-align: right;\">\n",
       "      <th></th>\n",
       "      <th>Nombre</th>\n",
       "      <th>Edad</th>\n",
       "      <th>Ciudad</th>\n",
       "      <th>Salario</th>\n",
       "      <th>Departamento</th>\n",
       "    </tr>\n",
       "  </thead>\n",
       "  <tbody>\n",
       "    <tr>\n",
       "      <th>0</th>\n",
       "      <td>Ana</td>\n",
       "      <td>23</td>\n",
       "      <td>CDMX</td>\n",
       "      <td>12000</td>\n",
       "      <td>Ventas</td>\n",
       "    </tr>\n",
       "    <tr>\n",
       "      <th>1</th>\n",
       "      <td>Luis</td>\n",
       "      <td>35</td>\n",
       "      <td>Guadalajara</td>\n",
       "      <td>15000</td>\n",
       "      <td>Marketing</td>\n",
       "    </tr>\n",
       "    <tr>\n",
       "      <th>2</th>\n",
       "      <td>Carlos</td>\n",
       "      <td>45</td>\n",
       "      <td>Monterrey</td>\n",
       "      <td>18000</td>\n",
       "      <td>Ventas</td>\n",
       "    </tr>\n",
       "    <tr>\n",
       "      <th>3</th>\n",
       "      <td>Lucia</td>\n",
       "      <td>25</td>\n",
       "      <td>CDMX</td>\n",
       "      <td>12500</td>\n",
       "      <td>TI</td>\n",
       "    </tr>\n",
       "    <tr>\n",
       "      <th>4</th>\n",
       "      <td>Martha</td>\n",
       "      <td>30</td>\n",
       "      <td>Puebla</td>\n",
       "      <td>14000</td>\n",
       "      <td>TI</td>\n",
       "    </tr>\n",
       "    <tr>\n",
       "      <th>5</th>\n",
       "      <td>Jorge</td>\n",
       "      <td>28</td>\n",
       "      <td>CDMX</td>\n",
       "      <td>13000</td>\n",
       "      <td>Markting</td>\n",
       "    </tr>\n",
       "    <tr>\n",
       "      <th>6</th>\n",
       "      <td>Sofia</td>\n",
       "      <td>32</td>\n",
       "      <td>Guadalajara</td>\n",
       "      <td>15500</td>\n",
       "      <td>Ventas</td>\n",
       "    </tr>\n",
       "  </tbody>\n",
       "</table>\n",
       "</div>"
      ],
      "text/plain": [
       "   Nombre  Edad       Ciudad  Salario Departamento\n",
       "0     Ana    23         CDMX    12000       Ventas\n",
       "1    Luis    35  Guadalajara    15000    Marketing\n",
       "2  Carlos    45    Monterrey    18000       Ventas\n",
       "3   Lucia    25         CDMX    12500           TI\n",
       "4  Martha    30       Puebla    14000           TI\n",
       "5   Jorge    28         CDMX    13000     Markting\n",
       "6   Sofia    32  Guadalajara    15500       Ventas"
      ]
     },
     "execution_count": 3,
     "metadata": {},
     "output_type": "execute_result"
    }
   ],
   "source": [
    "df = pd.DataFrame(data)\n",
    "df"
   ]
  },
  {
   "cell_type": "markdown",
   "id": "e81c10b9",
   "metadata": {},
   "source": [
    "### 2. Estructura"
   ]
  },
  {
   "cell_type": "code",
   "execution_count": 4,
   "id": "8ad73d9a",
   "metadata": {},
   "outputs": [
    {
     "name": "stdout",
     "output_type": "stream",
     "text": [
      "<class 'pandas.core.frame.DataFrame'>\n",
      "RangeIndex: 7 entries, 0 to 6\n",
      "Data columns (total 5 columns):\n",
      " #   Column        Non-Null Count  Dtype \n",
      "---  ------        --------------  ----- \n",
      " 0   Nombre        7 non-null      object\n",
      " 1   Edad          7 non-null      int64 \n",
      " 2   Ciudad        7 non-null      object\n",
      " 3   Salario       7 non-null      int64 \n",
      " 4   Departamento  7 non-null      object\n",
      "dtypes: int64(2), object(3)\n",
      "memory usage: 412.0+ bytes\n"
     ]
    }
   ],
   "source": [
    "df.info()"
   ]
  },
  {
   "cell_type": "code",
   "execution_count": 5,
   "id": "8566729e",
   "metadata": {},
   "outputs": [
    {
     "data": {
      "text/plain": [
       "(7, 5)"
      ]
     },
     "execution_count": 5,
     "metadata": {},
     "output_type": "execute_result"
    }
   ],
   "source": [
    "df.shape"
   ]
  },
  {
   "cell_type": "code",
   "execution_count": 10,
   "id": "29c4da03",
   "metadata": {},
   "outputs": [
    {
     "data": {
      "text/plain": [
       "7"
      ]
     },
     "execution_count": 10,
     "metadata": {},
     "output_type": "execute_result"
    }
   ],
   "source": [
    "df.shape[0]"
   ]
  },
  {
   "cell_type": "code",
   "execution_count": 11,
   "id": "a3addecc",
   "metadata": {},
   "outputs": [
    {
     "data": {
      "text/plain": [
       "5"
      ]
     },
     "execution_count": 11,
     "metadata": {},
     "output_type": "execute_result"
    }
   ],
   "source": [
    "df.shape[1]"
   ]
  },
  {
   "cell_type": "code",
   "execution_count": 6,
   "id": "3a290e90",
   "metadata": {},
   "outputs": [
    {
     "data": {
      "text/plain": [
       "<bound method NDFrame.describe of    Nombre  Edad       Ciudad  Salario Departamento\n",
       "0     Ana    23         CDMX    12000       Ventas\n",
       "1    Luis    35  Guadalajara    15000    Marketing\n",
       "2  Carlos    45    Monterrey    18000       Ventas\n",
       "3   Lucia    25         CDMX    12500           TI\n",
       "4  Martha    30       Puebla    14000           TI\n",
       "5   Jorge    28         CDMX    13000     Markting\n",
       "6   Sofia    32  Guadalajara    15500       Ventas>"
      ]
     },
     "execution_count": 6,
     "metadata": {},
     "output_type": "execute_result"
    }
   ],
   "source": [
    "df.describe"
   ]
  },
  {
   "cell_type": "code",
   "execution_count": 7,
   "id": "ada9f966",
   "metadata": {},
   "outputs": [
    {
     "data": {
      "text/plain": [
       "Nombre          object\n",
       "Edad             int64\n",
       "Ciudad          object\n",
       "Salario          int64\n",
       "Departamento    object\n",
       "dtype: object"
      ]
     },
     "execution_count": 7,
     "metadata": {},
     "output_type": "execute_result"
    }
   ],
   "source": [
    "df.dtypes"
   ]
  },
  {
   "cell_type": "code",
   "execution_count": 8,
   "id": "0a5f941f",
   "metadata": {},
   "outputs": [
    {
     "data": {
      "text/plain": [
       "Index(['Nombre', 'Edad', 'Ciudad', 'Salario', 'Departamento'], dtype='object')"
      ]
     },
     "execution_count": 8,
     "metadata": {},
     "output_type": "execute_result"
    }
   ],
   "source": [
    "df.columns"
   ]
  },
  {
   "cell_type": "code",
   "execution_count": 9,
   "id": "459b5d63",
   "metadata": {},
   "outputs": [
    {
     "data": {
      "text/plain": [
       "RangeIndex(start=0, stop=7, step=1)"
      ]
     },
     "execution_count": 9,
     "metadata": {},
     "output_type": "execute_result"
    }
   ],
   "source": [
    "df.index"
   ]
  },
  {
   "cell_type": "markdown",
   "id": "1aa96574",
   "metadata": {},
   "source": [
    "## 3. Seleccion de columnas y Filas"
   ]
  },
  {
   "cell_type": "code",
   "execution_count": 13,
   "id": "f20a45b5",
   "metadata": {},
   "outputs": [
    {
     "data": {
      "text/html": [
       "<div>\n",
       "<style scoped>\n",
       "    .dataframe tbody tr th:only-of-type {\n",
       "        vertical-align: middle;\n",
       "    }\n",
       "\n",
       "    .dataframe tbody tr th {\n",
       "        vertical-align: top;\n",
       "    }\n",
       "\n",
       "    .dataframe thead th {\n",
       "        text-align: right;\n",
       "    }\n",
       "</style>\n",
       "<table border=\"1\" class=\"dataframe\">\n",
       "  <thead>\n",
       "    <tr style=\"text-align: right;\">\n",
       "      <th></th>\n",
       "      <th>Edad</th>\n",
       "    </tr>\n",
       "  </thead>\n",
       "  <tbody>\n",
       "    <tr>\n",
       "      <th>0</th>\n",
       "      <td>23</td>\n",
       "    </tr>\n",
       "    <tr>\n",
       "      <th>1</th>\n",
       "      <td>35</td>\n",
       "    </tr>\n",
       "    <tr>\n",
       "      <th>2</th>\n",
       "      <td>45</td>\n",
       "    </tr>\n",
       "    <tr>\n",
       "      <th>3</th>\n",
       "      <td>25</td>\n",
       "    </tr>\n",
       "    <tr>\n",
       "      <th>4</th>\n",
       "      <td>30</td>\n",
       "    </tr>\n",
       "    <tr>\n",
       "      <th>5</th>\n",
       "      <td>28</td>\n",
       "    </tr>\n",
       "    <tr>\n",
       "      <th>6</th>\n",
       "      <td>32</td>\n",
       "    </tr>\n",
       "  </tbody>\n",
       "</table>\n",
       "</div>"
      ],
      "text/plain": [
       "   Edad\n",
       "0    23\n",
       "1    35\n",
       "2    45\n",
       "3    25\n",
       "4    30\n",
       "5    28\n",
       "6    32"
      ]
     },
     "execution_count": 13,
     "metadata": {},
     "output_type": "execute_result"
    }
   ],
   "source": [
    "# selecciona una sola columna del dataframe como una serie\n",
    "df['Edad']"
   ]
  },
  {
   "cell_type": "code",
   "execution_count": 14,
   "id": "47a4bd5f",
   "metadata": {},
   "outputs": [
    {
     "data": {
      "text/plain": [
       "pandas.core.series.Series"
      ]
     },
     "execution_count": 14,
     "metadata": {},
     "output_type": "execute_result"
    }
   ],
   "source": [
    "type(df['Edad'])"
   ]
  },
  {
   "cell_type": "code",
   "execution_count": 15,
   "id": "4d678a2e",
   "metadata": {},
   "outputs": [
    {
     "data": {
      "text/html": [
       "<div>\n",
       "<style scoped>\n",
       "    .dataframe tbody tr th:only-of-type {\n",
       "        vertical-align: middle;\n",
       "    }\n",
       "\n",
       "    .dataframe tbody tr th {\n",
       "        vertical-align: top;\n",
       "    }\n",
       "\n",
       "    .dataframe thead th {\n",
       "        text-align: right;\n",
       "    }\n",
       "</style>\n",
       "<table border=\"1\" class=\"dataframe\">\n",
       "  <thead>\n",
       "    <tr style=\"text-align: right;\">\n",
       "      <th></th>\n",
       "      <th>Edad</th>\n",
       "    </tr>\n",
       "  </thead>\n",
       "  <tbody>\n",
       "    <tr>\n",
       "      <th>0</th>\n",
       "      <td>23</td>\n",
       "    </tr>\n",
       "    <tr>\n",
       "      <th>1</th>\n",
       "      <td>35</td>\n",
       "    </tr>\n",
       "    <tr>\n",
       "      <th>2</th>\n",
       "      <td>45</td>\n",
       "    </tr>\n",
       "    <tr>\n",
       "      <th>3</th>\n",
       "      <td>25</td>\n",
       "    </tr>\n",
       "    <tr>\n",
       "      <th>4</th>\n",
       "      <td>30</td>\n",
       "    </tr>\n",
       "    <tr>\n",
       "      <th>5</th>\n",
       "      <td>28</td>\n",
       "    </tr>\n",
       "    <tr>\n",
       "      <th>6</th>\n",
       "      <td>32</td>\n",
       "    </tr>\n",
       "  </tbody>\n",
       "</table>\n",
       "</div>"
      ],
      "text/plain": [
       "   Edad\n",
       "0    23\n",
       "1    35\n",
       "2    45\n",
       "3    25\n",
       "4    30\n",
       "5    28\n",
       "6    32"
      ]
     },
     "execution_count": 15,
     "metadata": {},
     "output_type": "execute_result"
    }
   ],
   "source": [
    "df[['Edad']]"
   ]
  },
  {
   "cell_type": "code",
   "execution_count": 17,
   "id": "460a3877",
   "metadata": {},
   "outputs": [
    {
     "data": {
      "text/html": [
       "<div>\n",
       "<style scoped>\n",
       "    .dataframe tbody tr th:only-of-type {\n",
       "        vertical-align: middle;\n",
       "    }\n",
       "\n",
       "    .dataframe tbody tr th {\n",
       "        vertical-align: top;\n",
       "    }\n",
       "\n",
       "    .dataframe thead th {\n",
       "        text-align: right;\n",
       "    }\n",
       "</style>\n",
       "<table border=\"1\" class=\"dataframe\">\n",
       "  <thead>\n",
       "    <tr style=\"text-align: right;\">\n",
       "      <th></th>\n",
       "      <th>Salario</th>\n",
       "      <th>Nombre</th>\n",
       "      <th>Departamento</th>\n",
       "    </tr>\n",
       "  </thead>\n",
       "  <tbody>\n",
       "    <tr>\n",
       "      <th>0</th>\n",
       "      <td>12000</td>\n",
       "      <td>Ana</td>\n",
       "      <td>Ventas</td>\n",
       "    </tr>\n",
       "    <tr>\n",
       "      <th>1</th>\n",
       "      <td>15000</td>\n",
       "      <td>Luis</td>\n",
       "      <td>Marketing</td>\n",
       "    </tr>\n",
       "    <tr>\n",
       "      <th>2</th>\n",
       "      <td>18000</td>\n",
       "      <td>Carlos</td>\n",
       "      <td>Ventas</td>\n",
       "    </tr>\n",
       "    <tr>\n",
       "      <th>3</th>\n",
       "      <td>12500</td>\n",
       "      <td>Lucia</td>\n",
       "      <td>TI</td>\n",
       "    </tr>\n",
       "    <tr>\n",
       "      <th>4</th>\n",
       "      <td>14000</td>\n",
       "      <td>Martha</td>\n",
       "      <td>TI</td>\n",
       "    </tr>\n",
       "    <tr>\n",
       "      <th>5</th>\n",
       "      <td>13000</td>\n",
       "      <td>Jorge</td>\n",
       "      <td>Markting</td>\n",
       "    </tr>\n",
       "    <tr>\n",
       "      <th>6</th>\n",
       "      <td>15500</td>\n",
       "      <td>Sofia</td>\n",
       "      <td>Ventas</td>\n",
       "    </tr>\n",
       "  </tbody>\n",
       "</table>\n",
       "</div>"
      ],
      "text/plain": [
       "   Salario  Nombre Departamento\n",
       "0    12000     Ana       Ventas\n",
       "1    15000    Luis    Marketing\n",
       "2    18000  Carlos       Ventas\n",
       "3    12500   Lucia           TI\n",
       "4    14000  Martha           TI\n",
       "5    13000   Jorge     Markting\n",
       "6    15500   Sofia       Ventas"
      ]
     },
     "execution_count": 17,
     "metadata": {},
     "output_type": "execute_result"
    }
   ],
   "source": [
    "#una lista dentro de otra\n",
    "df[['Salario', 'Nombre', 'Departamento']]"
   ]
  },
  {
   "cell_type": "markdown",
   "id": "cfd313eb",
   "metadata": {},
   "source": [
    "# 4.Filtrado"
   ]
  },
  {
   "cell_type": "code",
   "execution_count": 23,
   "id": "78fca53b",
   "metadata": {},
   "outputs": [
    {
     "data": {
      "text/html": [
       "<div>\n",
       "<style scoped>\n",
       "    .dataframe tbody tr th:only-of-type {\n",
       "        vertical-align: middle;\n",
       "    }\n",
       "\n",
       "    .dataframe tbody tr th {\n",
       "        vertical-align: top;\n",
       "    }\n",
       "\n",
       "    .dataframe thead th {\n",
       "        text-align: right;\n",
       "    }\n",
       "</style>\n",
       "<table border=\"1\" class=\"dataframe\">\n",
       "  <thead>\n",
       "    <tr style=\"text-align: right;\">\n",
       "      <th></th>\n",
       "      <th>Nombre</th>\n",
       "      <th>Edad</th>\n",
       "      <th>Ciudad</th>\n",
       "      <th>Salario</th>\n",
       "      <th>Departamento</th>\n",
       "    </tr>\n",
       "  </thead>\n",
       "  <tbody>\n",
       "    <tr>\n",
       "      <th>0</th>\n",
       "      <td>Ana</td>\n",
       "      <td>23</td>\n",
       "      <td>CDMX</td>\n",
       "      <td>12000</td>\n",
       "      <td>Ventas</td>\n",
       "    </tr>\n",
       "    <tr>\n",
       "      <th>3</th>\n",
       "      <td>Lucia</td>\n",
       "      <td>25</td>\n",
       "      <td>CDMX</td>\n",
       "      <td>12500</td>\n",
       "      <td>TI</td>\n",
       "    </tr>\n",
       "    <tr>\n",
       "      <th>5</th>\n",
       "      <td>Jorge</td>\n",
       "      <td>28</td>\n",
       "      <td>CDMX</td>\n",
       "      <td>13000</td>\n",
       "      <td>Markting</td>\n",
       "    </tr>\n",
       "  </tbody>\n",
       "</table>\n",
       "</div>"
      ],
      "text/plain": [
       "  Nombre  Edad Ciudad  Salario Departamento\n",
       "0    Ana    23   CDMX    12000       Ventas\n",
       "3  Lucia    25   CDMX    12500           TI\n",
       "5  Jorge    28   CDMX    13000     Markting"
      ]
     },
     "execution_count": 23,
     "metadata": {},
     "output_type": "execute_result"
    }
   ],
   "source": [
    "df[df['Ciudad'] == 'CDMX']"
   ]
  },
  {
   "cell_type": "code",
   "execution_count": 24,
   "id": "5935fe7f",
   "metadata": {},
   "outputs": [
    {
     "data": {
      "text/html": [
       "<div>\n",
       "<style scoped>\n",
       "    .dataframe tbody tr th:only-of-type {\n",
       "        vertical-align: middle;\n",
       "    }\n",
       "\n",
       "    .dataframe tbody tr th {\n",
       "        vertical-align: top;\n",
       "    }\n",
       "\n",
       "    .dataframe thead th {\n",
       "        text-align: right;\n",
       "    }\n",
       "</style>\n",
       "<table border=\"1\" class=\"dataframe\">\n",
       "  <thead>\n",
       "    <tr style=\"text-align: right;\">\n",
       "      <th></th>\n",
       "      <th>Nombre</th>\n",
       "      <th>Ciudad</th>\n",
       "      <th>Salario</th>\n",
       "    </tr>\n",
       "  </thead>\n",
       "  <tbody>\n",
       "    <tr>\n",
       "      <th>0</th>\n",
       "      <td>Ana</td>\n",
       "      <td>CDMX</td>\n",
       "      <td>12000</td>\n",
       "    </tr>\n",
       "    <tr>\n",
       "      <th>3</th>\n",
       "      <td>Lucia</td>\n",
       "      <td>CDMX</td>\n",
       "      <td>12500</td>\n",
       "    </tr>\n",
       "    <tr>\n",
       "      <th>5</th>\n",
       "      <td>Jorge</td>\n",
       "      <td>CDMX</td>\n",
       "      <td>13000</td>\n",
       "    </tr>\n",
       "  </tbody>\n",
       "</table>\n",
       "</div>"
      ],
      "text/plain": [
       "  Nombre Ciudad  Salario\n",
       "0    Ana   CDMX    12000\n",
       "3  Lucia   CDMX    12500\n",
       "5  Jorge   CDMX    13000"
      ]
     },
     "execution_count": 24,
     "metadata": {},
     "output_type": "execute_result"
    }
   ],
   "source": [
    "df[df['Ciudad'] == 'CDMX'][['Nombre', 'Ciudad','Salario']]"
   ]
  },
  {
   "cell_type": "markdown",
   "id": "e73bcd5c",
   "metadata": {},
   "source": [
    "define una variable en donde guardes los de la ciudad"
   ]
  },
  {
   "cell_type": "code",
   "execution_count": 25,
   "id": "b93b7f13",
   "metadata": {},
   "outputs": [],
   "source": [
    "df_cdmx = df[df['Ciudad'] == 'CDMX']"
   ]
  },
  {
   "cell_type": "code",
   "execution_count": 26,
   "id": "8f2c8914",
   "metadata": {},
   "outputs": [
    {
     "data": {
      "text/html": [
       "<div>\n",
       "<style scoped>\n",
       "    .dataframe tbody tr th:only-of-type {\n",
       "        vertical-align: middle;\n",
       "    }\n",
       "\n",
       "    .dataframe tbody tr th {\n",
       "        vertical-align: top;\n",
       "    }\n",
       "\n",
       "    .dataframe thead th {\n",
       "        text-align: right;\n",
       "    }\n",
       "</style>\n",
       "<table border=\"1\" class=\"dataframe\">\n",
       "  <thead>\n",
       "    <tr style=\"text-align: right;\">\n",
       "      <th></th>\n",
       "      <th>Nombre</th>\n",
       "      <th>Ciudad</th>\n",
       "      <th>Salario</th>\n",
       "    </tr>\n",
       "  </thead>\n",
       "  <tbody>\n",
       "    <tr>\n",
       "      <th>0</th>\n",
       "      <td>Ana</td>\n",
       "      <td>CDMX</td>\n",
       "      <td>12000</td>\n",
       "    </tr>\n",
       "    <tr>\n",
       "      <th>3</th>\n",
       "      <td>Lucia</td>\n",
       "      <td>CDMX</td>\n",
       "      <td>12500</td>\n",
       "    </tr>\n",
       "    <tr>\n",
       "      <th>5</th>\n",
       "      <td>Jorge</td>\n",
       "      <td>CDMX</td>\n",
       "      <td>13000</td>\n",
       "    </tr>\n",
       "  </tbody>\n",
       "</table>\n",
       "</div>"
      ],
      "text/plain": [
       "  Nombre Ciudad  Salario\n",
       "0    Ana   CDMX    12000\n",
       "3  Lucia   CDMX    12500\n",
       "5  Jorge   CDMX    13000"
      ]
     },
     "execution_count": 26,
     "metadata": {},
     "output_type": "execute_result"
    }
   ],
   "source": [
    "df_cdmx[['Nombre','Ciudad','Salario']]"
   ]
  },
  {
   "cell_type": "code",
   "execution_count": 30,
   "id": "00ca88a7",
   "metadata": {},
   "outputs": [
    {
     "data": {
      "text/html": [
       "<div>\n",
       "<style scoped>\n",
       "    .dataframe tbody tr th:only-of-type {\n",
       "        vertical-align: middle;\n",
       "    }\n",
       "\n",
       "    .dataframe tbody tr th {\n",
       "        vertical-align: top;\n",
       "    }\n",
       "\n",
       "    .dataframe thead th {\n",
       "        text-align: right;\n",
       "    }\n",
       "</style>\n",
       "<table border=\"1\" class=\"dataframe\">\n",
       "  <thead>\n",
       "    <tr style=\"text-align: right;\">\n",
       "      <th></th>\n",
       "      <th>Nombre</th>\n",
       "      <th>Edad</th>\n",
       "      <th>Ciudad</th>\n",
       "      <th>Salario</th>\n",
       "      <th>Departamento</th>\n",
       "    </tr>\n",
       "  </thead>\n",
       "  <tbody>\n",
       "    <tr>\n",
       "      <th>3</th>\n",
       "      <td>Lucia</td>\n",
       "      <td>25</td>\n",
       "      <td>CDMX</td>\n",
       "      <td>12500</td>\n",
       "      <td>TI</td>\n",
       "    </tr>\n",
       "  </tbody>\n",
       "</table>\n",
       "</div>"
      ],
      "text/plain": [
       "  Nombre  Edad Ciudad  Salario Departamento\n",
       "3  Lucia    25   CDMX    12500           TI"
      ]
     },
     "execution_count": 30,
     "metadata": {},
     "output_type": "execute_result"
    }
   ],
   "source": [
    "# Mostrar todas las filas de la ciudad de mexico y del departamento de ti\n",
    "\n",
    "df[(df['Ciudad'] == 'CDMX') & (df['Departamento'] == 'TI')]"
   ]
  },
  {
   "cell_type": "code",
   "execution_count": 31,
   "id": "47d65d1c",
   "metadata": {},
   "outputs": [
    {
     "data": {
      "text/html": [
       "<div>\n",
       "<style scoped>\n",
       "    .dataframe tbody tr th:only-of-type {\n",
       "        vertical-align: middle;\n",
       "    }\n",
       "\n",
       "    .dataframe tbody tr th {\n",
       "        vertical-align: top;\n",
       "    }\n",
       "\n",
       "    .dataframe thead th {\n",
       "        text-align: right;\n",
       "    }\n",
       "</style>\n",
       "<table border=\"1\" class=\"dataframe\">\n",
       "  <thead>\n",
       "    <tr style=\"text-align: right;\">\n",
       "      <th></th>\n",
       "      <th>Nombre</th>\n",
       "      <th>Edad</th>\n",
       "      <th>Ciudad</th>\n",
       "      <th>Salario</th>\n",
       "      <th>Departamento</th>\n",
       "    </tr>\n",
       "  </thead>\n",
       "  <tbody>\n",
       "    <tr>\n",
       "      <th>0</th>\n",
       "      <td>Ana</td>\n",
       "      <td>23</td>\n",
       "      <td>CDMX</td>\n",
       "      <td>12000</td>\n",
       "      <td>Ventas</td>\n",
       "    </tr>\n",
       "    <tr>\n",
       "      <th>3</th>\n",
       "      <td>Lucia</td>\n",
       "      <td>25</td>\n",
       "      <td>CDMX</td>\n",
       "      <td>12500</td>\n",
       "      <td>TI</td>\n",
       "    </tr>\n",
       "    <tr>\n",
       "      <th>4</th>\n",
       "      <td>Martha</td>\n",
       "      <td>30</td>\n",
       "      <td>Puebla</td>\n",
       "      <td>14000</td>\n",
       "      <td>TI</td>\n",
       "    </tr>\n",
       "    <tr>\n",
       "      <th>5</th>\n",
       "      <td>Jorge</td>\n",
       "      <td>28</td>\n",
       "      <td>CDMX</td>\n",
       "      <td>13000</td>\n",
       "      <td>Markting</td>\n",
       "    </tr>\n",
       "  </tbody>\n",
       "</table>\n",
       "</div>"
      ],
      "text/plain": [
       "   Nombre  Edad  Ciudad  Salario Departamento\n",
       "0     Ana    23    CDMX    12000       Ventas\n",
       "3   Lucia    25    CDMX    12500           TI\n",
       "4  Martha    30  Puebla    14000           TI\n",
       "5   Jorge    28    CDMX    13000     Markting"
      ]
     },
     "execution_count": 31,
     "metadata": {},
     "output_type": "execute_result"
    }
   ],
   "source": [
    "# MOSTRAR TODAS LAS FILAS DE LA CIUDAD DE MEXICO O DEL DEPARTAMENTO DE TI\n",
    "df[(df['Ciudad'] == 'CDMX') | (df['Departamento'] == 'TI')]"
   ]
  },
  {
   "cell_type": "code",
   "execution_count": null,
   "id": "4928e63d",
   "metadata": {},
   "outputs": [],
   "source": []
  },
  {
   "cell_type": "markdown",
   "id": "632027bb",
   "metadata": {},
   "source": [
    "# 5. ORDENAR FILAS"
   ]
  },
  {
   "cell_type": "code",
   "execution_count": 33,
   "id": "32a01e97",
   "metadata": {},
   "outputs": [
    {
     "data": {
      "text/html": [
       "<div>\n",
       "<style scoped>\n",
       "    .dataframe tbody tr th:only-of-type {\n",
       "        vertical-align: middle;\n",
       "    }\n",
       "\n",
       "    .dataframe tbody tr th {\n",
       "        vertical-align: top;\n",
       "    }\n",
       "\n",
       "    .dataframe thead th {\n",
       "        text-align: right;\n",
       "    }\n",
       "</style>\n",
       "<table border=\"1\" class=\"dataframe\">\n",
       "  <thead>\n",
       "    <tr style=\"text-align: right;\">\n",
       "      <th></th>\n",
       "      <th>Nombre</th>\n",
       "      <th>Edad</th>\n",
       "      <th>Ciudad</th>\n",
       "      <th>Salario</th>\n",
       "      <th>Departamento</th>\n",
       "    </tr>\n",
       "  </thead>\n",
       "  <tbody>\n",
       "    <tr>\n",
       "      <th>0</th>\n",
       "      <td>Ana</td>\n",
       "      <td>23</td>\n",
       "      <td>CDMX</td>\n",
       "      <td>12000</td>\n",
       "      <td>Ventas</td>\n",
       "    </tr>\n",
       "    <tr>\n",
       "      <th>3</th>\n",
       "      <td>Lucia</td>\n",
       "      <td>25</td>\n",
       "      <td>CDMX</td>\n",
       "      <td>12500</td>\n",
       "      <td>TI</td>\n",
       "    </tr>\n",
       "    <tr>\n",
       "      <th>5</th>\n",
       "      <td>Jorge</td>\n",
       "      <td>28</td>\n",
       "      <td>CDMX</td>\n",
       "      <td>13000</td>\n",
       "      <td>Markting</td>\n",
       "    </tr>\n",
       "    <tr>\n",
       "      <th>4</th>\n",
       "      <td>Martha</td>\n",
       "      <td>30</td>\n",
       "      <td>Puebla</td>\n",
       "      <td>14000</td>\n",
       "      <td>TI</td>\n",
       "    </tr>\n",
       "    <tr>\n",
       "      <th>1</th>\n",
       "      <td>Luis</td>\n",
       "      <td>35</td>\n",
       "      <td>Guadalajara</td>\n",
       "      <td>15000</td>\n",
       "      <td>Marketing</td>\n",
       "    </tr>\n",
       "    <tr>\n",
       "      <th>6</th>\n",
       "      <td>Sofia</td>\n",
       "      <td>32</td>\n",
       "      <td>Guadalajara</td>\n",
       "      <td>15500</td>\n",
       "      <td>Ventas</td>\n",
       "    </tr>\n",
       "    <tr>\n",
       "      <th>2</th>\n",
       "      <td>Carlos</td>\n",
       "      <td>45</td>\n",
       "      <td>Monterrey</td>\n",
       "      <td>18000</td>\n",
       "      <td>Ventas</td>\n",
       "    </tr>\n",
       "  </tbody>\n",
       "</table>\n",
       "</div>"
      ],
      "text/plain": [
       "   Nombre  Edad       Ciudad  Salario Departamento\n",
       "0     Ana    23         CDMX    12000       Ventas\n",
       "3   Lucia    25         CDMX    12500           TI\n",
       "5   Jorge    28         CDMX    13000     Markting\n",
       "4  Martha    30       Puebla    14000           TI\n",
       "1    Luis    35  Guadalajara    15000    Marketing\n",
       "6   Sofia    32  Guadalajara    15500       Ventas\n",
       "2  Carlos    45    Monterrey    18000       Ventas"
      ]
     },
     "execution_count": 33,
     "metadata": {},
     "output_type": "execute_result"
    }
   ],
   "source": [
    "# ordena por salario de forma asendente (A-Z, 0-9)\n",
    "df.sort_values(by= 'Salario')"
   ]
  },
  {
   "cell_type": "code",
   "execution_count": null,
   "id": "d8afbff4",
   "metadata": {},
   "outputs": [],
   "source": [
    "# ordena por salario de forma desendente (Z-A, 9-0)\n",
    "df.sort_values(by= 'Salario', ascending= False)"
   ]
  },
  {
   "cell_type": "code",
   "execution_count": 34,
   "id": "0b704aaa",
   "metadata": {},
   "outputs": [
    {
     "data": {
      "text/html": [
       "<div>\n",
       "<style scoped>\n",
       "    .dataframe tbody tr th:only-of-type {\n",
       "        vertical-align: middle;\n",
       "    }\n",
       "\n",
       "    .dataframe tbody tr th {\n",
       "        vertical-align: top;\n",
       "    }\n",
       "\n",
       "    .dataframe thead th {\n",
       "        text-align: right;\n",
       "    }\n",
       "</style>\n",
       "<table border=\"1\" class=\"dataframe\">\n",
       "  <thead>\n",
       "    <tr style=\"text-align: right;\">\n",
       "      <th></th>\n",
       "      <th>Nombre</th>\n",
       "      <th>Edad</th>\n",
       "      <th>Ciudad</th>\n",
       "      <th>Salario</th>\n",
       "      <th>Departamento</th>\n",
       "    </tr>\n",
       "  </thead>\n",
       "  <tbody>\n",
       "    <tr>\n",
       "      <th>0</th>\n",
       "      <td>Ana</td>\n",
       "      <td>23</td>\n",
       "      <td>CDMX</td>\n",
       "      <td>12000</td>\n",
       "      <td>Ventas</td>\n",
       "    </tr>\n",
       "    <tr>\n",
       "      <th>3</th>\n",
       "      <td>Lucia</td>\n",
       "      <td>25</td>\n",
       "      <td>CDMX</td>\n",
       "      <td>12500</td>\n",
       "      <td>TI</td>\n",
       "    </tr>\n",
       "    <tr>\n",
       "      <th>5</th>\n",
       "      <td>Jorge</td>\n",
       "      <td>28</td>\n",
       "      <td>CDMX</td>\n",
       "      <td>13000</td>\n",
       "      <td>Markting</td>\n",
       "    </tr>\n",
       "    <tr>\n",
       "      <th>1</th>\n",
       "      <td>Luis</td>\n",
       "      <td>35</td>\n",
       "      <td>Guadalajara</td>\n",
       "      <td>15000</td>\n",
       "      <td>Marketing</td>\n",
       "    </tr>\n",
       "    <tr>\n",
       "      <th>6</th>\n",
       "      <td>Sofia</td>\n",
       "      <td>32</td>\n",
       "      <td>Guadalajara</td>\n",
       "      <td>15500</td>\n",
       "      <td>Ventas</td>\n",
       "    </tr>\n",
       "    <tr>\n",
       "      <th>2</th>\n",
       "      <td>Carlos</td>\n",
       "      <td>45</td>\n",
       "      <td>Monterrey</td>\n",
       "      <td>18000</td>\n",
       "      <td>Ventas</td>\n",
       "    </tr>\n",
       "    <tr>\n",
       "      <th>4</th>\n",
       "      <td>Martha</td>\n",
       "      <td>30</td>\n",
       "      <td>Puebla</td>\n",
       "      <td>14000</td>\n",
       "      <td>TI</td>\n",
       "    </tr>\n",
       "  </tbody>\n",
       "</table>\n",
       "</div>"
      ],
      "text/plain": [
       "   Nombre  Edad       Ciudad  Salario Departamento\n",
       "0     Ana    23         CDMX    12000       Ventas\n",
       "3   Lucia    25         CDMX    12500           TI\n",
       "5   Jorge    28         CDMX    13000     Markting\n",
       "1    Luis    35  Guadalajara    15000    Marketing\n",
       "6   Sofia    32  Guadalajara    15500       Ventas\n",
       "2  Carlos    45    Monterrey    18000       Ventas\n",
       "4  Martha    30       Puebla    14000           TI"
      ]
     },
     "execution_count": 34,
     "metadata": {},
     "output_type": "execute_result"
    }
   ],
   "source": [
    "#ORDENAR POR EL SALARIO Y LA CIUDAD\n",
    "df.sort_values(by=['Ciudad', 'Salario'])"
   ]
  },
  {
   "cell_type": "code",
   "execution_count": 37,
   "id": "f1112202",
   "metadata": {},
   "outputs": [
    {
     "data": {
      "text/html": [
       "<div>\n",
       "<style scoped>\n",
       "    .dataframe tbody tr th:only-of-type {\n",
       "        vertical-align: middle;\n",
       "    }\n",
       "\n",
       "    .dataframe tbody tr th {\n",
       "        vertical-align: top;\n",
       "    }\n",
       "\n",
       "    .dataframe thead th {\n",
       "        text-align: right;\n",
       "    }\n",
       "</style>\n",
       "<table border=\"1\" class=\"dataframe\">\n",
       "  <thead>\n",
       "    <tr style=\"text-align: right;\">\n",
       "      <th></th>\n",
       "      <th>Nombre</th>\n",
       "      <th>Edad</th>\n",
       "      <th>Ciudad</th>\n",
       "      <th>Salario</th>\n",
       "      <th>Departamento</th>\n",
       "    </tr>\n",
       "  </thead>\n",
       "  <tbody>\n",
       "    <tr>\n",
       "      <th>4</th>\n",
       "      <td>Martha</td>\n",
       "      <td>30</td>\n",
       "      <td>Puebla</td>\n",
       "      <td>14000</td>\n",
       "      <td>TI</td>\n",
       "    </tr>\n",
       "    <tr>\n",
       "      <th>2</th>\n",
       "      <td>Carlos</td>\n",
       "      <td>45</td>\n",
       "      <td>Monterrey</td>\n",
       "      <td>18000</td>\n",
       "      <td>Ventas</td>\n",
       "    </tr>\n",
       "    <tr>\n",
       "      <th>6</th>\n",
       "      <td>Sofia</td>\n",
       "      <td>32</td>\n",
       "      <td>Guadalajara</td>\n",
       "      <td>15500</td>\n",
       "      <td>Ventas</td>\n",
       "    </tr>\n",
       "    <tr>\n",
       "      <th>1</th>\n",
       "      <td>Luis</td>\n",
       "      <td>35</td>\n",
       "      <td>Guadalajara</td>\n",
       "      <td>15000</td>\n",
       "      <td>Marketing</td>\n",
       "    </tr>\n",
       "    <tr>\n",
       "      <th>5</th>\n",
       "      <td>Jorge</td>\n",
       "      <td>28</td>\n",
       "      <td>CDMX</td>\n",
       "      <td>13000</td>\n",
       "      <td>Markting</td>\n",
       "    </tr>\n",
       "    <tr>\n",
       "      <th>3</th>\n",
       "      <td>Lucia</td>\n",
       "      <td>25</td>\n",
       "      <td>CDMX</td>\n",
       "      <td>12500</td>\n",
       "      <td>TI</td>\n",
       "    </tr>\n",
       "    <tr>\n",
       "      <th>0</th>\n",
       "      <td>Ana</td>\n",
       "      <td>23</td>\n",
       "      <td>CDMX</td>\n",
       "      <td>12000</td>\n",
       "      <td>Ventas</td>\n",
       "    </tr>\n",
       "  </tbody>\n",
       "</table>\n",
       "</div>"
      ],
      "text/plain": [
       "   Nombre  Edad       Ciudad  Salario Departamento\n",
       "4  Martha    30       Puebla    14000           TI\n",
       "2  Carlos    45    Monterrey    18000       Ventas\n",
       "6   Sofia    32  Guadalajara    15500       Ventas\n",
       "1    Luis    35  Guadalajara    15000    Marketing\n",
       "5   Jorge    28         CDMX    13000     Markting\n",
       "3   Lucia    25         CDMX    12500           TI\n",
       "0     Ana    23         CDMX    12000       Ventas"
      ]
     },
     "execution_count": 37,
     "metadata": {},
     "output_type": "execute_result"
    }
   ],
   "source": [
    "df.sort_values(by=['Ciudad', 'Salario'] ,ascending= False)"
   ]
  },
  {
   "cell_type": "code",
   "execution_count": 38,
   "id": "f99af13b",
   "metadata": {},
   "outputs": [
    {
     "data": {
      "text/html": [
       "<div>\n",
       "<style scoped>\n",
       "    .dataframe tbody tr th:only-of-type {\n",
       "        vertical-align: middle;\n",
       "    }\n",
       "\n",
       "    .dataframe tbody tr th {\n",
       "        vertical-align: top;\n",
       "    }\n",
       "\n",
       "    .dataframe thead th {\n",
       "        text-align: right;\n",
       "    }\n",
       "</style>\n",
       "<table border=\"1\" class=\"dataframe\">\n",
       "  <thead>\n",
       "    <tr style=\"text-align: right;\">\n",
       "      <th></th>\n",
       "      <th>Nombre</th>\n",
       "      <th>Edad</th>\n",
       "      <th>Ciudad</th>\n",
       "      <th>Salario</th>\n",
       "      <th>Departamento</th>\n",
       "    </tr>\n",
       "  </thead>\n",
       "  <tbody>\n",
       "    <tr>\n",
       "      <th>4</th>\n",
       "      <td>Martha</td>\n",
       "      <td>30</td>\n",
       "      <td>Puebla</td>\n",
       "      <td>14000</td>\n",
       "      <td>TI</td>\n",
       "    </tr>\n",
       "    <tr>\n",
       "      <th>2</th>\n",
       "      <td>Carlos</td>\n",
       "      <td>45</td>\n",
       "      <td>Monterrey</td>\n",
       "      <td>18000</td>\n",
       "      <td>Ventas</td>\n",
       "    </tr>\n",
       "    <tr>\n",
       "      <th>1</th>\n",
       "      <td>Luis</td>\n",
       "      <td>35</td>\n",
       "      <td>Guadalajara</td>\n",
       "      <td>15000</td>\n",
       "      <td>Marketing</td>\n",
       "    </tr>\n",
       "    <tr>\n",
       "      <th>6</th>\n",
       "      <td>Sofia</td>\n",
       "      <td>32</td>\n",
       "      <td>Guadalajara</td>\n",
       "      <td>15500</td>\n",
       "      <td>Ventas</td>\n",
       "    </tr>\n",
       "    <tr>\n",
       "      <th>0</th>\n",
       "      <td>Ana</td>\n",
       "      <td>23</td>\n",
       "      <td>CDMX</td>\n",
       "      <td>12000</td>\n",
       "      <td>Ventas</td>\n",
       "    </tr>\n",
       "    <tr>\n",
       "      <th>3</th>\n",
       "      <td>Lucia</td>\n",
       "      <td>25</td>\n",
       "      <td>CDMX</td>\n",
       "      <td>12500</td>\n",
       "      <td>TI</td>\n",
       "    </tr>\n",
       "    <tr>\n",
       "      <th>5</th>\n",
       "      <td>Jorge</td>\n",
       "      <td>28</td>\n",
       "      <td>CDMX</td>\n",
       "      <td>13000</td>\n",
       "      <td>Markting</td>\n",
       "    </tr>\n",
       "  </tbody>\n",
       "</table>\n",
       "</div>"
      ],
      "text/plain": [
       "   Nombre  Edad       Ciudad  Salario Departamento\n",
       "4  Martha    30       Puebla    14000           TI\n",
       "2  Carlos    45    Monterrey    18000       Ventas\n",
       "1    Luis    35  Guadalajara    15000    Marketing\n",
       "6   Sofia    32  Guadalajara    15500       Ventas\n",
       "0     Ana    23         CDMX    12000       Ventas\n",
       "3   Lucia    25         CDMX    12500           TI\n",
       "5   Jorge    28         CDMX    13000     Markting"
      ]
     },
     "execution_count": 38,
     "metadata": {},
     "output_type": "execute_result"
    }
   ],
   "source": [
    "# ORDENA DEPENDIENDO LOS PARAMETROS QUE LE DIGAS\n",
    "df.sort_values(by=['Ciudad', 'Salario'] ,ascending= [False, True])"
   ]
  },
  {
   "cell_type": "code",
   "execution_count": 41,
   "id": "88a5a2f1",
   "metadata": {},
   "outputs": [
    {
     "data": {
      "text/html": [
       "<div>\n",
       "<style scoped>\n",
       "    .dataframe tbody tr th:only-of-type {\n",
       "        vertical-align: middle;\n",
       "    }\n",
       "\n",
       "    .dataframe tbody tr th {\n",
       "        vertical-align: top;\n",
       "    }\n",
       "\n",
       "    .dataframe thead th {\n",
       "        text-align: right;\n",
       "    }\n",
       "</style>\n",
       "<table border=\"1\" class=\"dataframe\">\n",
       "  <thead>\n",
       "    <tr style=\"text-align: right;\">\n",
       "      <th></th>\n",
       "      <th>Nombre</th>\n",
       "      <th>Edad</th>\n",
       "      <th>Ciudad</th>\n",
       "      <th>Salario</th>\n",
       "      <th>Departamento</th>\n",
       "    </tr>\n",
       "  </thead>\n",
       "  <tbody>\n",
       "    <tr>\n",
       "      <th>0</th>\n",
       "      <td>Ana</td>\n",
       "      <td>23</td>\n",
       "      <td>CDMX</td>\n",
       "      <td>12000</td>\n",
       "      <td>Ventas</td>\n",
       "    </tr>\n",
       "    <tr>\n",
       "      <th>3</th>\n",
       "      <td>Lucia</td>\n",
       "      <td>25</td>\n",
       "      <td>CDMX</td>\n",
       "      <td>12500</td>\n",
       "      <td>TI</td>\n",
       "    </tr>\n",
       "    <tr>\n",
       "      <th>5</th>\n",
       "      <td>Jorge</td>\n",
       "      <td>28</td>\n",
       "      <td>CDMX</td>\n",
       "      <td>13000</td>\n",
       "      <td>Markting</td>\n",
       "    </tr>\n",
       "    <tr>\n",
       "      <th>4</th>\n",
       "      <td>Martha</td>\n",
       "      <td>30</td>\n",
       "      <td>Puebla</td>\n",
       "      <td>14000</td>\n",
       "      <td>TI</td>\n",
       "    </tr>\n",
       "  </tbody>\n",
       "</table>\n",
       "</div>"
      ],
      "text/plain": [
       "   Nombre  Edad  Ciudad  Salario Departamento\n",
       "0     Ana    23    CDMX    12000       Ventas\n",
       "3   Lucia    25    CDMX    12500           TI\n",
       "5   Jorge    28    CDMX    13000     Markting\n",
       "4  Martha    30  Puebla    14000           TI"
      ]
     },
     "execution_count": 41,
     "metadata": {},
     "output_type": "execute_result"
    }
   ],
   "source": [
    "df[(df['Ciudad'] == 'CDMX') | (df['Departamento'] == 'TI')].sort_values(by=['Edad','Departamento'],ascending=[True, False])"
   ]
  },
  {
   "cell_type": "markdown",
   "id": "2c49022f",
   "metadata": {},
   "source": [
    "## 6 CREAR NUEVAS COLUMNA"
   ]
  },
  {
   "cell_type": "code",
   "execution_count": 42,
   "id": "fe3f70a3",
   "metadata": {},
   "outputs": [],
   "source": [
    "df['Salario_Anual'] = df['Salario'] * 12"
   ]
  },
  {
   "cell_type": "code",
   "execution_count": 43,
   "id": "320648c7",
   "metadata": {},
   "outputs": [
    {
     "data": {
      "text/html": [
       "<div>\n",
       "<style scoped>\n",
       "    .dataframe tbody tr th:only-of-type {\n",
       "        vertical-align: middle;\n",
       "    }\n",
       "\n",
       "    .dataframe tbody tr th {\n",
       "        vertical-align: top;\n",
       "    }\n",
       "\n",
       "    .dataframe thead th {\n",
       "        text-align: right;\n",
       "    }\n",
       "</style>\n",
       "<table border=\"1\" class=\"dataframe\">\n",
       "  <thead>\n",
       "    <tr style=\"text-align: right;\">\n",
       "      <th></th>\n",
       "      <th>Nombre</th>\n",
       "      <th>Edad</th>\n",
       "      <th>Ciudad</th>\n",
       "      <th>Salario</th>\n",
       "      <th>Departamento</th>\n",
       "      <th>Salario_Anual</th>\n",
       "    </tr>\n",
       "  </thead>\n",
       "  <tbody>\n",
       "    <tr>\n",
       "      <th>0</th>\n",
       "      <td>Ana</td>\n",
       "      <td>23</td>\n",
       "      <td>CDMX</td>\n",
       "      <td>12000</td>\n",
       "      <td>Ventas</td>\n",
       "      <td>144000</td>\n",
       "    </tr>\n",
       "    <tr>\n",
       "      <th>1</th>\n",
       "      <td>Luis</td>\n",
       "      <td>35</td>\n",
       "      <td>Guadalajara</td>\n",
       "      <td>15000</td>\n",
       "      <td>Marketing</td>\n",
       "      <td>180000</td>\n",
       "    </tr>\n",
       "    <tr>\n",
       "      <th>2</th>\n",
       "      <td>Carlos</td>\n",
       "      <td>45</td>\n",
       "      <td>Monterrey</td>\n",
       "      <td>18000</td>\n",
       "      <td>Ventas</td>\n",
       "      <td>216000</td>\n",
       "    </tr>\n",
       "    <tr>\n",
       "      <th>3</th>\n",
       "      <td>Lucia</td>\n",
       "      <td>25</td>\n",
       "      <td>CDMX</td>\n",
       "      <td>12500</td>\n",
       "      <td>TI</td>\n",
       "      <td>150000</td>\n",
       "    </tr>\n",
       "    <tr>\n",
       "      <th>4</th>\n",
       "      <td>Martha</td>\n",
       "      <td>30</td>\n",
       "      <td>Puebla</td>\n",
       "      <td>14000</td>\n",
       "      <td>TI</td>\n",
       "      <td>168000</td>\n",
       "    </tr>\n",
       "    <tr>\n",
       "      <th>5</th>\n",
       "      <td>Jorge</td>\n",
       "      <td>28</td>\n",
       "      <td>CDMX</td>\n",
       "      <td>13000</td>\n",
       "      <td>Markting</td>\n",
       "      <td>156000</td>\n",
       "    </tr>\n",
       "    <tr>\n",
       "      <th>6</th>\n",
       "      <td>Sofia</td>\n",
       "      <td>32</td>\n",
       "      <td>Guadalajara</td>\n",
       "      <td>15500</td>\n",
       "      <td>Ventas</td>\n",
       "      <td>186000</td>\n",
       "    </tr>\n",
       "  </tbody>\n",
       "</table>\n",
       "</div>"
      ],
      "text/plain": [
       "   Nombre  Edad       Ciudad  Salario Departamento  Salario_Anual\n",
       "0     Ana    23         CDMX    12000       Ventas         144000\n",
       "1    Luis    35  Guadalajara    15000    Marketing         180000\n",
       "2  Carlos    45    Monterrey    18000       Ventas         216000\n",
       "3   Lucia    25         CDMX    12500           TI         150000\n",
       "4  Martha    30       Puebla    14000           TI         168000\n",
       "5   Jorge    28         CDMX    13000     Markting         156000\n",
       "6   Sofia    32  Guadalajara    15500       Ventas         186000"
      ]
     },
     "execution_count": 43,
     "metadata": {},
     "output_type": "execute_result"
    }
   ],
   "source": [
    "df"
   ]
  }
 ],
 "metadata": {
  "kernelspec": {
   "display_name": "Python 3",
   "language": "python",
   "name": "python3"
  },
  "language_info": {
   "codemirror_mode": {
    "name": "ipython",
    "version": 3
   },
   "file_extension": ".py",
   "mimetype": "text/x-python",
   "name": "python",
   "nbconvert_exporter": "python",
   "pygments_lexer": "ipython3",
   "version": "3.11.9"
  }
 },
 "nbformat": 4,
 "nbformat_minor": 5
}
